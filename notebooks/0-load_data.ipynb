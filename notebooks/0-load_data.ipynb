{
 "cells": [
  {
   "cell_type": "markdown",
   "metadata": {
    "tags": []
   },
   "source": [
    "# Creating Schema and Loading Data\n",
    "## Notebook 0\n",
    "\n",
    "This notebook will create the schema and load the data we will be using. If you have already completed the pre-requisites below, scroll to the bottom of the notebook for the schema creation and data loading process.\n",
    "\n",
    "### Pre-requisites\n",
    "You must have a TigerGraph database instance provisioned. If you are using TigerGraph Cloud, you need to create a graph called `KDD_2022_NFT`, and generate a secret. The steps are outlined below:\n",
    "\n",
    "#### 1. Provision a TigerGraph Cloud Instance\n",
    "\n",
    "First, we will have to provision a TigerGraph Cloud instance. Once you follow the invite link in the email you recieve from the Google Form, you will see a page like the below:\n",
    "\n",
    "<img src=\"../img/tgCreateSolution.png\" alt=\"drawing\" width=\"800\"/>\n",
    "\n",
    "Click **Create Solution** in the upper right hand corner. You will then see:\n",
    "\n",
    "<img src=\"../img/blankInstance.png\" alt=\"drawing\" width=\"800\"/>\n",
    "\n",
    "Select **Blank v3.6.1** and scroll to the bottom of the page to continue. This will then bring you to the instance configuration page.\n",
    "\n",
    "<img src=\"../img/instanceConfig1.png\" alt=\"drawing\" width=\"800\"/>\n",
    "\n",
    "Select **AWS** as the platform, **N. Virginia** as the region, a **Public** endpoint, and the **TG.C8.M32** Instance Type. Leave the defaults below, scroll to the bottom of the page, and click **Next**\n",
    "\n",
    "<img src=\"../img/instanceConfig2.png\" alt=\"drawing\" width=\"800\"/>\n",
    "\n",
    "We will then name and tag the solution we are provisioning. **The names, tags, and subdomains must be unique, so choose something that is identifiable to you**.\n",
    "\n",
    "<img src=\"../img/instanceName.png\" alt=\"drawing\" width=\"800\"/>\n",
    "\n",
    "After clicking next, you should see a confirmation page where you can check the details and then hit **Submit**.\n",
    "\n",
    "<img src=\"../img/instanceConfirm.png\" alt=\"drawing\" width=\"800\"/>\n",
    "\n",
    "This will then take you back to the solutions page, where you can find your solution after a few minutes:\n",
    "\n",
    "<img src=\"../img/mySolutionsPage.png\" alt=\"drawing\" width=\"800\"/>\n",
    "\n",
    "#### 2. Connect to GraphStudio\n",
    "\n",
    "Once your solution is provisioned, we want to connect to the GraphStudio UI. To do this, click on the **Applications** icon and select GraphStudio.\n",
    "\n",
    "<img src=\"../img/mySolutionsGS.png\" alt=\"drawing\" width=\"800\"/>\n",
    "\n",
    "\n",
    "#### 3. Create Graph\n",
    "\n",
    "This will take you to the GraphStudio landing page, where we can create our graph. Click on the **Global View** button and select **Create a graph**:\n",
    "\n",
    "<img src=\"../img/createGraphGS.png\" alt=\"drawing\" width=\"800\"/>\n",
    "\n",
    "Clicking this will bring up the following pop-up. Fill in the graph name as `KDD_2022_NFT`, and then select **Create**:\n",
    "\n",
    "<img src=\"../img/createGraph.png\" alt=\"drawing\" width=\"800\"/>\n",
    "\n",
    "After this, you should see the following:\n",
    "\n",
    "<img src=\"../img/designSchema.png\" alt=\"drawing\" width=\"800\"/>\n",
    "\n",
    "#### 4. Create Secret for Graph\n",
    "\n",
    "Once your graph is created, we can create a secret we will use for authentication with the database. From the previous screen, click on **Admin Portal** in the upper right corner. It will bring you to this screen:\n",
    "\n",
    "<img src=\"../img/apUsers.png\" alt=\"drawing\" width=\"800\"/>\n",
    "\n",
    "Under the **Management** tab on the left hand menu bar, select **Users**. Here, you can create a secret. Define an alias and then click the **+** button:\n",
    "\n",
    "<img src=\"../img/createSecret.png\" alt=\"drawing\" width=\"800\"/>\n",
    "\n",
    "Make sure to copy the secret that is generated, as you will never see it again.\n",
    "\n",
    "<img src=\"../img/copySecret.png\" alt=\"drawing\" width=\"800\"/>\n",
    "\n",
    "Finally, we can paste the secret into the notebook cell below:\n",
    "\n",
    "<img src=\"../img/pasteSecret.png\" alt=\"drawing\" width=\"800\"/>"
   ]
  },
  {
   "cell_type": "markdown",
   "metadata": {
    "tags": []
   },
   "source": [
    "## Connect to TigerGraph Database\n",
    "\n",
    "The code block below connects to a TigerGraph database. Make sure to change the authentication details in order for you to connect to the instance successfully."
   ]
  },
  {
   "cell_type": "code",
   "execution_count": null,
   "metadata": {},
   "outputs": [],
   "source": [
    "from pyTigerGraph import TigerGraphConnection\n",
    "\n",
    "conn=TigerGraphConnection(\n",
    "    host=\"YOUR_HOSTNAME_HERE\",\n",
    "    graphname=\"KDD_2022_NFT\",\n",
    "    gsqlSecret=\"YOUR_SECRET_HERE\"\n",
    ")\n",
    "conn.getToken(\"YOUR_SECRET_HERE\")"
   ]
  },
  {
   "cell_type": "markdown",
   "metadata": {
    "tags": []
   },
   "source": [
    "## Define and Create Schema\n",
    "Here, we use a GSQL file that contains the schema definition. This step may take a few minutes."
   ]
  },
  {
   "cell_type": "code",
   "execution_count": null,
   "metadata": {},
   "outputs": [],
   "source": [
    "print(conn.gsql(open(\"../src/gsql/schema/schema.gsql\", \"r\").read()))"
   ]
  },
  {
   "cell_type": "markdown",
   "metadata": {
    "tags": []
   },
   "source": [
    "## Define Loading Job\n",
    "We define a loading job to map our raw data into our schema."
   ]
  },
  {
   "cell_type": "code",
   "execution_count": null,
   "metadata": {},
   "outputs": [],
   "source": [
    "print(conn.gsql(open(\"../src/gsql/loading/load_data.gsql\", \"r\").read()))"
   ]
  },
  {
   "cell_type": "markdown",
   "metadata": {
    "tags": []
   },
   "source": [
    "## Run Loading Job\n",
    "Upload our data to the TigerGraph database and verify that it is loaded. This step may take a few minutes."
   ]
  },
  {
   "cell_type": "code",
   "execution_count": null,
   "metadata": {},
   "outputs": [],
   "source": [
    "conn.runLoadingJobWithFile(\"../data/Data_API_sampled.csv\", \"file1\", \"load_nft_data\", sep=\";\")"
   ]
  },
  {
   "cell_type": "code",
   "execution_count": null,
   "metadata": {},
   "outputs": [],
   "source": [
    "conn.getVertexCount(\"NFT_User\")"
   ]
  },
  {
   "cell_type": "code",
   "execution_count": null,
   "metadata": {},
   "outputs": [],
   "source": []
  }
 ],
 "metadata": {
  "interpreter": {
   "hash": "58e1c476a485e41cfbe41589baaac1849e255b67efca409760b0ec34d7f4c191"
  },
  "kernelspec": {
   "display_name": "TigerGraph Pytorch",
   "language": "python",
   "name": "python3"
  },
  "language_info": {
   "codemirror_mode": {
    "name": "ipython",
    "version": 3
   },
   "file_extension": ".py",
   "mimetype": "text/x-python",
   "name": "python",
   "nbconvert_exporter": "python",
   "pygments_lexer": "ipython3",
   "version": "3.8.10"
  }
 },
 "nbformat": 4,
 "nbformat_minor": 4
}
