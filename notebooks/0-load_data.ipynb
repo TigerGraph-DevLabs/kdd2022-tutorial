{
 "cells": [
  {
   "cell_type": "markdown",
   "metadata": {
    "tags": []
   },
   "source": [
    "# Creating Schema and Loading Data\n",
    "## Notebook 0\n",
    "\n",
    "This notebook will create the schema and load the data we will be using. If you have already completed the pre-requisites [described here](https://tigergraph-devlabs.github.io/kdd2022-tutorial/getting_started), continue with setting up your connection to the TigerGraph Database."
   ]
  },
  {
   "cell_type": "markdown",
   "metadata": {
    "tags": []
   },
   "source": [
    "## Connect to TigerGraph Database\n",
    "\n",
    "The code block below connects to a TigerGraph database. Make sure to change the authentication details in order for you to connect to the instance successfully."
   ]
  },
  {
   "cell_type": "code",
   "execution_count": 1,
   "metadata": {},
   "outputs": [
    {
     "data": {
      "text/plain": [
       "('fvj13b85rq5qf75ph8mc5a2u0pe9ql0g', 1662929472, '2022-09-11 20:51:12')"
      ]
     },
     "execution_count": 1,
     "metadata": {},
     "output_type": "execute_result"
    }
   ],
   "source": [
    "from pyTigerGraph import TigerGraphConnection\n",
    "\n",
    "conn=TigerGraphConnection(\n",
    "    host=\"YOUR_HOSTNAME_HERE\",\n",
    "    graphname=\"KDD_2022_NFT\",\n",
    "    gsqlSecret=\"YOUR_SECRET_HERE\"\n",
    ")\n",
    "conn.getToken(\"YOUR_SECRET_HERE\")"
   ]
  },
  {
   "cell_type": "markdown",
   "metadata": {
    "tags": []
   },
   "source": [
    "## Define and Create Schema\n",
    "Here, we use a GSQL file that contains the schema definition. This step may take a few minutes."
   ]
  },
  {
   "cell_type": "code",
   "execution_count": 2,
   "metadata": {},
   "outputs": [
    {
     "name": "stdout",
     "output_type": "stream",
     "text": [
      "Using graph 'KDD_2022_NFT'\n",
      "Successfully created schema change jobs: [nft_job].\n",
      "Kick off schema change job nft_job\n",
      "Doing schema change on graph 'KDD_2022_NFT' (current version: 0)\n",
      "Trying to add local vertex 'Transaction' to the graph 'KDD_2022_NFT'.\n",
      "Trying to add local vertex 'NFT_User' to the graph 'KDD_2022_NFT'.\n",
      "Trying to add local vertex 'NFT' to the graph 'KDD_2022_NFT'.\n",
      "Trying to add local vertex 'Category' to the graph 'KDD_2022_NFT'.\n",
      "Trying to add local vertex 'NFT_Collection' to the graph 'KDD_2022_NFT'.\n",
      "Trying to add local vertex 'Market' to the graph 'KDD_2022_NFT'.\n",
      "Trying to add local edge 'USER_SOLD_NFT' and its reverse edge 'NFT_SOLD_BY' to the graph 'KDD_2022_NFT'.\n",
      "Trying to add local edge 'USER_SOLD_TO' and its reverse edge 'USER_BOUGHT_FROM' to the graph 'KDD_2022_NFT'.\n",
      "Trying to add local edge 'USER_BOUGHT_NFT' and its reverse edge 'NFT_BOUGHT_BY' to the graph 'KDD_2022_NFT'.\n",
      "Trying to add local edge 'FOR_SALE_OF' and its reverse edge 'HAD_TRANSACTION' to the graph 'KDD_2022_NFT'.\n",
      "Trying to add local edge 'COLLECTION_HAS_NFT' and its reverse edge 'NFT_IN_COLLECTION' to the graph 'KDD_2022_NFT'.\n",
      "Trying to add local edge 'CATEGORY_HAS_NFT' and its reverse edge 'NFT_IN_CATEGORY' to the graph 'KDD_2022_NFT'.\n",
      "Trying to add local edge 'TRANSACTION_PERFORMED_ON' and its reverse edge 'MARKET_FACILITATED_TRANSACTION' to the graph 'KDD_2022_NFT'.\n",
      "\n",
      "Graph KDD_2022_NFT updated to new version 1\n",
      "The job nft_job completes in 7.432 seconds!\n"
     ]
    }
   ],
   "source": [
    "print(conn.gsql(open(\"../src/gsql/schema/schema.gsql\", \"r\").read()))"
   ]
  },
  {
   "cell_type": "markdown",
   "metadata": {
    "tags": []
   },
   "source": [
    "## Define Loading Job\n",
    "We define a loading job to map our raw data into our schema."
   ]
  },
  {
   "cell_type": "code",
   "execution_count": 3,
   "metadata": {},
   "outputs": [
    {
     "name": "stdout",
     "output_type": "stream",
     "text": [
      "Using graph 'KDD_2022_NFT'\n",
      "Successfully created loading jobs: [load_nft_data].\n"
     ]
    }
   ],
   "source": [
    "print(conn.gsql(open(\"../src/gsql/loading/load_data.gsql\", \"r\").read()))"
   ]
  },
  {
   "cell_type": "markdown",
   "metadata": {
    "tags": []
   },
   "source": [
    "## Run Loading Job\n",
    "Upload our data to the TigerGraph database and verify that it is loaded. This step may take a few minutes."
   ]
  },
  {
   "cell_type": "code",
   "execution_count": 4,
   "metadata": {},
   "outputs": [
    {
     "data": {
      "text/plain": [
       "[{'sourceFileName': 'Online_POST',\n",
       "  'statistics': {'validLine': 60711,\n",
       "   'rejectLine': 0,\n",
       "   'failedConditionLine': 0,\n",
       "   'notEnoughToken': 0,\n",
       "   'invalidJson': 0,\n",
       "   'oversizeToken': 0,\n",
       "   'vertex': [{'typeName': 'Transaction',\n",
       "     'validObject': 60705,\n",
       "     'noIdFound': 0,\n",
       "     'invalidAttribute': 6,\n",
       "     'invalidAttributeLines': ['1:usd_price',\n",
       "      '1092:categoryOneHot',\n",
       "      '2719:categoryOneHot',\n",
       "      '5835:categoryOneHot',\n",
       "      '5839:categoryOneHot',\n",
       "      '52188:categoryOneHot'],\n",
       "     'invalidAttributeLinesData': ['ID_token;Smart_contract;Transaction_hash;Seller_address;Seller_username;Buyer_address;Buyer_username;Price_USD;Name;Collection_c...',\n",
       "      '233384;0xf5b0a3efb8e8e4c201e2a935f110eaaf3ffecb8d;0xfb85bcd04a475b249b91e4df4f596aa1463d5da611d393406e97fc4c7d90e0a8;0x6b4cfc406...',\n",
       "      '1082027;0x06012c8cf97bead5deae237070f9587f8e7a266d;0x91323d60d1503588c6001ea74ce1978f2481eeb63ea85d706fe707dee8268891;0x4da725d8...',\n",
       "      '74131744438972540339666837148097951894952133662590729948081471227499294752769;0x495f947276749ce646f68ac8c248420045cb7b5e;0x7eb91...',\n",
       "      '15;0x60d92741bf44a4a7c240bbad29e328ff74232268;0x916cd26b768b00747347ba671c2231063f2d8207c82c227b4dfe3490b44c7585;0x44e9d011df874...',\n",
       "      '21;0x60d92741bf44a4a7c240bbad29e328ff74232268;0xea3e15500edc98841cd1eaede6df9ae52a82f634094c073da7f56328303718c1;0xea2f3a1a218ec...'],\n",
       "     'invalidVertexType': 0,\n",
       "     'invalidPrimaryId': 0,\n",
       "     'invalidSecondaryId': 0,\n",
       "     'incorrectFixedBinaryLength': 0},\n",
       "    {'typeName': 'NFT_User',\n",
       "     'validObject': 60711,\n",
       "     'noIdFound': 0,\n",
       "     'invalidAttribute': 0,\n",
       "     'invalidVertexType': 0,\n",
       "     'invalidPrimaryId': 0,\n",
       "     'invalidSecondaryId': 0,\n",
       "     'incorrectFixedBinaryLength': 0},\n",
       "    {'typeName': 'NFT_User',\n",
       "     'validObject': 60711,\n",
       "     'noIdFound': 0,\n",
       "     'invalidAttribute': 0,\n",
       "     'invalidVertexType': 0,\n",
       "     'invalidPrimaryId': 0,\n",
       "     'invalidSecondaryId': 0,\n",
       "     'incorrectFixedBinaryLength': 0},\n",
       "    {'typeName': 'NFT',\n",
       "     'validObject': 60705,\n",
       "     'noIdFound': 0,\n",
       "     'invalidAttribute': 6,\n",
       "     'invalidAttributeLines': ['1:collectionOneHot',\n",
       "      '1092:categoryOneHot',\n",
       "      '2719:categoryOneHot',\n",
       "      '5835:categoryOneHot',\n",
       "      '5839:categoryOneHot',\n",
       "      '52188:categoryOneHot'],\n",
       "     'invalidAttributeLinesData': ['ID_token;Smart_contract;Transaction_hash;Seller_address;Seller_username;Buyer_address;Buyer_username;Price_USD;Name;Collection_c...',\n",
       "      '233384;0xf5b0a3efb8e8e4c201e2a935f110eaaf3ffecb8d;0xfb85bcd04a475b249b91e4df4f596aa1463d5da611d393406e97fc4c7d90e0a8;0x6b4cfc406...',\n",
       "      '1082027;0x06012c8cf97bead5deae237070f9587f8e7a266d;0x91323d60d1503588c6001ea74ce1978f2481eeb63ea85d706fe707dee8268891;0x4da725d8...',\n",
       "      '74131744438972540339666837148097951894952133662590729948081471227499294752769;0x495f947276749ce646f68ac8c248420045cb7b5e;0x7eb91...',\n",
       "      '15;0x60d92741bf44a4a7c240bbad29e328ff74232268;0x916cd26b768b00747347ba671c2231063f2d8207c82c227b4dfe3490b44c7585;0x44e9d011df874...',\n",
       "      '21;0x60d92741bf44a4a7c240bbad29e328ff74232268;0xea3e15500edc98841cd1eaede6df9ae52a82f634094c073da7f56328303718c1;0xea2f3a1a218ec...'],\n",
       "     'invalidVertexType': 0,\n",
       "     'invalidPrimaryId': 0,\n",
       "     'invalidSecondaryId': 0,\n",
       "     'incorrectFixedBinaryLength': 0},\n",
       "    {'typeName': 'Category',\n",
       "     'validObject': 60711,\n",
       "     'noIdFound': 0,\n",
       "     'invalidAttribute': 0,\n",
       "     'invalidVertexType': 0,\n",
       "     'invalidPrimaryId': 0,\n",
       "     'invalidSecondaryId': 0,\n",
       "     'incorrectFixedBinaryLength': 0},\n",
       "    {'typeName': 'NFT_Collection',\n",
       "     'validObject': 60711,\n",
       "     'noIdFound': 0,\n",
       "     'invalidAttribute': 0,\n",
       "     'invalidVertexType': 0,\n",
       "     'invalidPrimaryId': 0,\n",
       "     'invalidSecondaryId': 0,\n",
       "     'incorrectFixedBinaryLength': 0},\n",
       "    {'typeName': 'Market',\n",
       "     'validObject': 60711,\n",
       "     'noIdFound': 0,\n",
       "     'invalidAttribute': 0,\n",
       "     'invalidVertexType': 0,\n",
       "     'invalidPrimaryId': 0,\n",
       "     'invalidSecondaryId': 0,\n",
       "     'incorrectFixedBinaryLength': 0}],\n",
       "   'edge': [{'typeName': 'USER_SOLD_NFT',\n",
       "     'validObject': 60711,\n",
       "     'noIdFound': 0,\n",
       "     'invalidAttribute': 0,\n",
       "     'invalidVertexType': 0,\n",
       "     'invalidPrimaryId': 0,\n",
       "     'invalidSecondaryId': 0,\n",
       "     'incorrectFixedBinaryLength': 0},\n",
       "    {'typeName': 'USER_SOLD_TO',\n",
       "     'validObject': 60711,\n",
       "     'noIdFound': 0,\n",
       "     'invalidAttribute': 0,\n",
       "     'invalidVertexType': 0,\n",
       "     'invalidPrimaryId': 0,\n",
       "     'invalidSecondaryId': 0,\n",
       "     'incorrectFixedBinaryLength': 0},\n",
       "    {'typeName': 'USER_BOUGHT_NFT',\n",
       "     'validObject': 60711,\n",
       "     'noIdFound': 0,\n",
       "     'invalidAttribute': 0,\n",
       "     'invalidVertexType': 0,\n",
       "     'invalidPrimaryId': 0,\n",
       "     'invalidSecondaryId': 0,\n",
       "     'incorrectFixedBinaryLength': 0},\n",
       "    {'typeName': 'FOR_SALE_OF',\n",
       "     'validObject': 60711,\n",
       "     'noIdFound': 0,\n",
       "     'invalidAttribute': 0,\n",
       "     'invalidVertexType': 0,\n",
       "     'invalidPrimaryId': 0,\n",
       "     'invalidSecondaryId': 0,\n",
       "     'incorrectFixedBinaryLength': 0},\n",
       "    {'typeName': 'COLLECTION_HAS_NFT',\n",
       "     'validObject': 60711,\n",
       "     'noIdFound': 0,\n",
       "     'invalidAttribute': 0,\n",
       "     'invalidVertexType': 0,\n",
       "     'invalidPrimaryId': 0,\n",
       "     'invalidSecondaryId': 0,\n",
       "     'incorrectFixedBinaryLength': 0},\n",
       "    {'typeName': 'CATEGORY_HAS_NFT',\n",
       "     'validObject': 60711,\n",
       "     'noIdFound': 0,\n",
       "     'invalidAttribute': 0,\n",
       "     'invalidVertexType': 0,\n",
       "     'invalidPrimaryId': 0,\n",
       "     'invalidSecondaryId': 0,\n",
       "     'incorrectFixedBinaryLength': 0},\n",
       "    {'typeName': 'TRANSACTION_PERFORMED_ON',\n",
       "     'validObject': 60711,\n",
       "     'noIdFound': 0,\n",
       "     'invalidAttribute': 0,\n",
       "     'invalidVertexType': 0,\n",
       "     'invalidPrimaryId': 0,\n",
       "     'invalidSecondaryId': 0,\n",
       "     'incorrectFixedBinaryLength': 0}],\n",
       "   'deleteVertex': [],\n",
       "   'deleteEdge': []}}]"
      ]
     },
     "execution_count": 4,
     "metadata": {},
     "output_type": "execute_result"
    }
   ],
   "source": [
    "conn.runLoadingJobWithFile(\"../data/Data_API_sampled.csv\", \"file1\", \"load_nft_data\", sep=\";\")"
   ]
  },
  {
   "cell_type": "code",
   "execution_count": 5,
   "metadata": {},
   "outputs": [
    {
     "data": {
      "text/plain": [
       "43519"
      ]
     },
     "execution_count": 5,
     "metadata": {},
     "output_type": "execute_result"
    }
   ],
   "source": [
    "conn.getVertexCount(\"NFT_User\")"
   ]
  },
  {
   "cell_type": "code",
   "execution_count": null,
   "metadata": {},
   "outputs": [],
   "source": []
  }
 ],
 "metadata": {
  "interpreter": {
   "hash": "58e1c476a485e41cfbe41589baaac1849e255b67efca409760b0ec34d7f4c191"
  },
  "kernelspec": {
   "display_name": "TigerGraph Pytorch",
   "language": "python",
   "name": "python3"
  },
  "language_info": {
   "codemirror_mode": {
    "name": "ipython",
    "version": 3
   },
   "file_extension": ".py",
   "mimetype": "text/x-python",
   "name": "python",
   "nbconvert_exporter": "python",
   "pygments_lexer": "ipython3",
   "version": "3.8.10"
  }
 },
 "nbformat": 4,
 "nbformat_minor": 4
}
