{
 "cells": [
  {
   "cell_type": "code",
   "execution_count": 1,
   "metadata": {},
   "outputs": [],
   "source": [
    "import pyTigerGraph as tg\n",
    "\n",
    "conn = tg.TigerGraphConnection(\"http://3.144.132.94\", graphname=\"KDD_2022_NFT\")"
   ]
  },
  {
   "cell_type": "code",
   "execution_count": 2,
   "metadata": {},
   "outputs": [
    {
     "data": {
      "text/plain": [
       "'The graph KDD_2022_NFT is dropped.'"
      ]
     },
     "execution_count": 2,
     "metadata": {},
     "output_type": "execute_result"
    }
   ],
   "source": [
    "conn.gsql(\"USE GRAPH KDD_2022_NFT\\nDROP JOB load_nft_data\")\n",
    "conn.gsql(\"DROP GRAPH KDD_2022_NFT\")"
   ]
  },
  {
   "cell_type": "code",
   "execution_count": 3,
   "metadata": {},
   "outputs": [
    {
     "name": "stdout",
     "output_type": "stream",
     "text": [
      "The graph KDD_2022_NFT is created.\n",
      "Successfully created schema change jobs: [nft_job].\n",
      "Using graph 'KDD_2022_NFT'\n",
      "\n",
      "Current graph version 0\n",
      "Trying to add vertex Transaction.\n",
      "Trying to add vertex NFT_User.\n",
      "Trying to add vertex NFT.\n",
      "Trying to add vertex Category.\n",
      "Trying to add vertex NFT_Collection.\n",
      "Trying to add vertex Market.\n",
      "Trying to add edge USER_SOLD_NFT.\n",
      "Trying to add edge NFT_SOLD_BY.\n",
      "Trying to add edge USER_SOLD_TO.\n",
      "Trying to add edge USER_BOUGHT_FROM.\n",
      "Trying to add edge USER_BOUGHT_NFT.\n",
      "Trying to add edge NFT_BOUGHT_BY.\n",
      "Trying to add edge FOR_SALE_OF.\n",
      "Trying to add edge HAD_TRANSACTION.\n",
      "Trying to add edge COLLECTION_HAS_NFT.\n",
      "Trying to add edge NFT_IN_COLLECTION.\n",
      "Trying to add edge CATEGORY_HAS_NFT.\n",
      "Trying to add edge NFT_IN_CATEGORY.\n",
      "Trying to add edge TRANSACTION_PERFORMED_ON.\n",
      "Trying to add edge MARKET_FACILITATED_TRANSACTION.\n",
      "Kick off job nft_job\n",
      "\n",
      "Graph KDD_2022_NFT update to new version 1\n",
      "The job nft_job completes in 10.557 seconds!\n"
     ]
    }
   ],
   "source": [
    "print(conn.gsql(open(\"../src/gsql/schema/schema.gsql\", \"r\").read()))"
   ]
  },
  {
   "cell_type": "code",
   "execution_count": 4,
   "metadata": {},
   "outputs": [
    {
     "name": "stdout",
     "output_type": "stream",
     "text": [
      "Using graph 'KDD_2022_NFT'\n",
      "Successfully created loading jobs: [load_nft_data].\n"
     ]
    }
   ],
   "source": [
    "print(conn.gsql(open(\"../src/gsql/loading/load_data.gsql\", \"r\").read()))"
   ]
  },
  {
   "cell_type": "code",
   "execution_count": 5,
   "metadata": {},
   "outputs": [
    {
     "data": {
      "text/plain": [
       "[{'sourceFileName': 'Online_POST',\n",
       "  'statistics': {'validLine': 55380,\n",
       "   'rejectLine': 0,\n",
       "   'failedConditionLine': 0,\n",
       "   'notEnoughToken': 23266,\n",
       "   'invalidJson': 0,\n",
       "   'oversizeToken': 0,\n",
       "   'vertex': [{'typeName': 'Transaction',\n",
       "     'validObject': 23623,\n",
       "     'noIdFound': 31756,\n",
       "     'invalidAttribute': 1,\n",
       "     'invalidAttributeLines': ['1:usd_price'],\n",
       "     'invalidAttributeLinesData': ['Smart_contract;ID_token;Transaction_hash;Seller_address;Seller_username;Buyer_address;Buyer_username;Image_url_1;Image_url_2;Ima...'],\n",
       "     'invalidVertexType': 0,\n",
       "     'invalidPrimaryId': 0,\n",
       "     'invalidSecondaryId': 0,\n",
       "     'incorrectFixedBinaryLength': 0},\n",
       "    {'typeName': 'NFT_User',\n",
       "     'validObject': 55380,\n",
       "     'noIdFound': 0,\n",
       "     'invalidAttribute': 0,\n",
       "     'invalidVertexType': 0,\n",
       "     'invalidPrimaryId': 0,\n",
       "     'invalidSecondaryId': 0,\n",
       "     'incorrectFixedBinaryLength': 0},\n",
       "    {'typeName': 'NFT_User',\n",
       "     'validObject': 55380,\n",
       "     'noIdFound': 0,\n",
       "     'invalidAttribute': 0,\n",
       "     'invalidVertexType': 0,\n",
       "     'invalidPrimaryId': 0,\n",
       "     'invalidSecondaryId': 0,\n",
       "     'incorrectFixedBinaryLength': 0},\n",
       "    {'typeName': 'NFT',\n",
       "     'validObject': 55380,\n",
       "     'noIdFound': 0,\n",
       "     'invalidAttribute': 0,\n",
       "     'invalidVertexType': 0,\n",
       "     'invalidPrimaryId': 0,\n",
       "     'invalidSecondaryId': 0,\n",
       "     'incorrectFixedBinaryLength': 0},\n",
       "    {'typeName': 'Category',\n",
       "     'validObject': 55380,\n",
       "     'noIdFound': 0,\n",
       "     'invalidAttribute': 0,\n",
       "     'invalidVertexType': 0,\n",
       "     'invalidPrimaryId': 0,\n",
       "     'invalidSecondaryId': 0,\n",
       "     'incorrectFixedBinaryLength': 0},\n",
       "    {'typeName': 'NFT_Collection',\n",
       "     'validObject': 55380,\n",
       "     'noIdFound': 0,\n",
       "     'invalidAttribute': 0,\n",
       "     'invalidVertexType': 0,\n",
       "     'invalidPrimaryId': 0,\n",
       "     'invalidSecondaryId': 0,\n",
       "     'incorrectFixedBinaryLength': 0},\n",
       "    {'typeName': 'Market',\n",
       "     'validObject': 55380,\n",
       "     'noIdFound': 0,\n",
       "     'invalidAttribute': 0,\n",
       "     'invalidVertexType': 0,\n",
       "     'invalidPrimaryId': 0,\n",
       "     'invalidSecondaryId': 0,\n",
       "     'incorrectFixedBinaryLength': 0}],\n",
       "   'edge': [{'typeName': 'USER_SOLD_NFT',\n",
       "     'validObject': 23624,\n",
       "     'noIdFound': 31756,\n",
       "     'invalidAttribute': 0,\n",
       "     'invalidVertexType': 0,\n",
       "     'invalidPrimaryId': 0,\n",
       "     'invalidSecondaryId': 0,\n",
       "     'incorrectFixedBinaryLength': 0},\n",
       "    {'typeName': 'USER_SOLD_TO',\n",
       "     'validObject': 55380,\n",
       "     'noIdFound': 0,\n",
       "     'invalidAttribute': 0,\n",
       "     'invalidVertexType': 0,\n",
       "     'invalidPrimaryId': 0,\n",
       "     'invalidSecondaryId': 0,\n",
       "     'incorrectFixedBinaryLength': 0},\n",
       "    {'typeName': 'USER_BOUGHT_NFT',\n",
       "     'validObject': 23624,\n",
       "     'noIdFound': 31756,\n",
       "     'invalidAttribute': 0,\n",
       "     'invalidVertexType': 0,\n",
       "     'invalidPrimaryId': 0,\n",
       "     'invalidSecondaryId': 0,\n",
       "     'incorrectFixedBinaryLength': 0},\n",
       "    {'typeName': 'FOR_SALE_OF',\n",
       "     'validObject': 23624,\n",
       "     'noIdFound': 31756,\n",
       "     'invalidAttribute': 0,\n",
       "     'invalidVertexType': 0,\n",
       "     'invalidPrimaryId': 0,\n",
       "     'invalidSecondaryId': 0,\n",
       "     'incorrectFixedBinaryLength': 0},\n",
       "    {'typeName': 'COLLECTION_HAS_NFT',\n",
       "     'validObject': 55380,\n",
       "     'noIdFound': 0,\n",
       "     'invalidAttribute': 0,\n",
       "     'invalidVertexType': 0,\n",
       "     'invalidPrimaryId': 0,\n",
       "     'invalidSecondaryId': 0,\n",
       "     'incorrectFixedBinaryLength': 0},\n",
       "    {'typeName': 'CATEGORY_HAS_NFT',\n",
       "     'validObject': 55380,\n",
       "     'noIdFound': 0,\n",
       "     'invalidAttribute': 0,\n",
       "     'invalidVertexType': 0,\n",
       "     'invalidPrimaryId': 0,\n",
       "     'invalidSecondaryId': 0,\n",
       "     'incorrectFixedBinaryLength': 0},\n",
       "    {'typeName': 'TRANSACTION_PERFORMED_ON',\n",
       "     'validObject': 23624,\n",
       "     'noIdFound': 31756,\n",
       "     'invalidAttribute': 0,\n",
       "     'invalidVertexType': 0,\n",
       "     'invalidPrimaryId': 0,\n",
       "     'invalidSecondaryId': 0,\n",
       "     'incorrectFixedBinaryLength': 0}],\n",
       "   'deleteVertex': [],\n",
       "   'deleteEdge': []}}]"
      ]
     },
     "execution_count": 5,
     "metadata": {},
     "output_type": "execute_result"
    }
   ],
   "source": [
    "conn.runLoadingJobWithFile(\"../data/Data_API_sampled.csv\", \"file1\", \"load_nft_data\", sep=\";\")"
   ]
  },
  {
   "cell_type": "code",
   "execution_count": null,
   "metadata": {},
   "outputs": [],
   "source": []
  }
 ],
 "metadata": {
  "interpreter": {
   "hash": "58e1c476a485e41cfbe41589baaac1849e255b67efca409760b0ec34d7f4c191"
  },
  "kernelspec": {
   "display_name": "Python 3.9.12 ('kdd2022')",
   "language": "python",
   "name": "python3"
  },
  "language_info": {
   "codemirror_mode": {
    "name": "ipython",
    "version": 3
   },
   "file_extension": ".py",
   "mimetype": "text/x-python",
   "name": "python",
   "nbconvert_exporter": "python",
   "pygments_lexer": "ipython3",
   "version": "3.9.12"
  },
  "orig_nbformat": 4
 },
 "nbformat": 4,
 "nbformat_minor": 2
}
