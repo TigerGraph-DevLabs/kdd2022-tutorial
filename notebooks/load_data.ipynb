{
 "cells": [
  {
   "cell_type": "markdown",
   "metadata": {
    "tags": []
   },
   "source": [
    "# Creating Schema and Loading Data\n",
    "## Notebook 0\n",
    "\n",
    "This notebook will create the schema and load the data we will be using.\n",
    "\n",
    "### Pre-requisites\n",
    "You must have a TigerGraph database instance provisioned. If you are using TigerGraph Cloud, you need to create a graph called `KDD_2022_NFT`, and generate a secret. The steps are outlined below:\n",
    "\n",
    "#### 1. Provision a TigerGrahp Cloud Instance\n",
    "\n",
    "First, we will have to provision a TigerGraph Cloud instance. Please follow the directions given at the tutorial to provision your instance. Once that is complete, you should see something like this:\n",
    "\n",
    "\n",
    "<img src=\"../img/mySolutionsPage.png\" alt=\"drawing\" width=\"800\"/>\n",
    "\n",
    "#### 2. Connect to GraphStudio\n",
    "\n",
    "Once your solution is provisioned, we want to connect to the GraphStudio UI. To do this, click on the **Applications** icon and select GraphStudio.\n",
    "\n",
    "<img src=\"../img/mySolutionsGS.png\" alt=\"drawing\" width=\"800\"/>\n",
    "\n",
    "\n",
    "#### 3. Create Graph\n",
    "\n",
    "This will take you to the GraphStudio landing page, where we can create our graph. Click on the **Global View** button and select **Create a graph**:\n",
    "\n",
    "<img src=\"../img/createGraphGS.png\" alt=\"drawing\" width=\"800\"/>\n",
    "\n",
    "Clicking this will bring up the following pop-up. Fill in the graph name as `KDD_2022_NFT`, and then select **Create**:\n",
    "\n",
    "<img src=\"../img/createGraph.png\" alt=\"drawing\" width=\"800\"/>\n",
    "\n",
    "After this, you should see the following:\n",
    "\n",
    "<img src=\"../img/designSchema.png\" alt=\"drawing\" width=\"800\"/>\n",
    "\n",
    "#### 4. Create Secret for Graph\n",
    "\n",
    "Once your graph is created, we can create a secret we will use for authentication with the database. From the previous screen, click on **Admin Portal** in the upper right corner. It will bring you to this screen:\n",
    "\n",
    "<img src=\"../img/apUsers.png\" alt=\"drawing\" width=\"800\"/>\n",
    "\n",
    "Under the **Management** tab on the left hand menu bar, select **Users**. Here, you can create a secret. Define an alias and then click the **+** button:\n",
    "<img src=\"../img/createSecret.png\" alt=\"drawing\" width=\"800\"/>\n",
    "\n",
    "Make sure to copy the secret that is generated, as you will never see it again.\n",
    "<img src=\"../img/copySecret.png\" alt=\"drawing\" width=\"800\"/>\n",
    "\n",
    "Finally, we can paste the secret into the notebook cell below:\n",
    "<img src=\"../img/pasteSecret.png\" alt=\"drawing\" width=\"800\"/>"
   ]
  },
  {
   "cell_type": "markdown",
   "metadata": {
    "jp-MarkdownHeadingCollapsed": true,
    "tags": []
   },
   "source": [
    "## Connect to TigerGraph Database\n",
    "\n",
    "The code block below connects to a TigerGraph database. Make sure to change the authentication details in order for you to connect to the instance successfully."
   ]
  },
  {
   "cell_type": "code",
   "execution_count": null,
   "metadata": {},
   "outputs": [],
   "source": [
    "import pyTigerGraph as tg\n",
    "\n",
    "hostName = \"YOUR_HOST_HERE\"\n",
    "gsqlSecret = \"YOUR_SECRET_HERE\"\n",
    "graphname= \"KDD_2022_NFT\"\n",
    "\n",
    "conn = tg.TigerGraphConnection(host=hostName, graphname=\"KDD_2022_NFT\", gsqlSecret=gsqlSecret)\n",
    "conn.getToken(gsqlSecret)"
   ]
  },
  {
   "cell_type": "markdown",
   "metadata": {
    "jp-MarkdownHeadingCollapsed": true,
    "tags": []
   },
   "source": [
    "## Define and Create Schema"
   ]
  },
  {
   "cell_type": "code",
   "execution_count": null,
   "metadata": {},
   "outputs": [],
   "source": [
    "print(conn.gsql(open(\"../src/gsql/schema/schema.gsql\", \"r\").read()))"
   ]
  },
  {
   "cell_type": "markdown",
   "metadata": {
    "jp-MarkdownHeadingCollapsed": true,
    "tags": []
   },
   "source": [
    "## Define Loading Job"
   ]
  },
  {
   "cell_type": "code",
   "execution_count": null,
   "metadata": {},
   "outputs": [],
   "source": [
    "print(conn.gsql(open(\"../src/gsql/loading/load_data.gsql\", \"r\").read()))"
   ]
  },
  {
   "cell_type": "markdown",
   "metadata": {
    "jp-MarkdownHeadingCollapsed": true,
    "tags": []
   },
   "source": [
    "## Run Loading Job"
   ]
  },
  {
   "cell_type": "code",
   "execution_count": null,
   "metadata": {},
   "outputs": [],
   "source": [
    "conn.runLoadingJobWithFile(\"../data/Data_API_sampled.csv\", \"file1\", \"load_nft_data\", sep=\";\")"
   ]
  },
  {
   "cell_type": "code",
   "execution_count": null,
   "metadata": {},
   "outputs": [],
   "source": [
    "conn.getVertexCount(\"NFT_User\")"
   ]
  },
  {
   "cell_type": "code",
   "execution_count": null,
   "metadata": {},
   "outputs": [],
   "source": []
  }
 ],
 "metadata": {
  "interpreter": {
   "hash": "58e1c476a485e41cfbe41589baaac1849e255b67efca409760b0ec34d7f4c191"
  },
  "kernelspec": {
   "display_name": "TigerGraph Pytorch",
   "language": "python",
   "name": "python3"
  },
  "language_info": {
   "codemirror_mode": {
    "name": "ipython",
    "version": 3
   },
   "file_extension": ".py",
   "mimetype": "text/x-python",
   "name": "python",
   "nbconvert_exporter": "python",
   "pygments_lexer": "ipython3",
   "version": "3.8.10"
  }
 },
 "nbformat": 4,
 "nbformat_minor": 4
}
