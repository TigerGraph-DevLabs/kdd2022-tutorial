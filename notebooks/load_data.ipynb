{
 "cells": [
  {
   "cell_type": "code",
   "execution_count": 1,
   "metadata": {},
   "outputs": [],
   "source": [
    "import pyTigerGraph as tg\n",
    "\n",
    "conn = tg.TigerGraphConnection(\"http://3.22.188.182\", graphname=\"KDD_2022_NFT\")"
   ]
  },
  {
   "cell_type": "code",
   "execution_count": 2,
   "metadata": {},
   "outputs": [
    {
     "data": {
      "text/plain": [
       "'Semantic Check Fails: Query tg_pagerank depends on graph KDD_2022_NFT!\\nPlease drop the query first!\\nThe graph KDD_2022_NFT could not be dropped!'"
      ]
     },
     "execution_count": 2,
     "metadata": {},
     "output_type": "execute_result"
    }
   ],
   "source": [
    "conn.gsql(\"USE GRAPH KDD_2022_NFT\\nDROP JOB load_nft_data\")\n",
    "conn.gsql(\"DROP GRAPH KDD_2022_NFT\")"
   ]
  },
  {
   "cell_type": "code",
   "execution_count": 3,
   "metadata": {},
   "outputs": [
    {
     "name": "stdout",
     "output_type": "stream",
     "text": [
      "Semantic Check Fails: The graph name conflicts with another type or existing graph names! Please use a different name.\n",
      "The graph KDD_2022_NFT could not be created!\n"
     ]
    }
   ],
   "source": [
    "print(conn.gsql(open(\"../src/gsql/schema/schema.gsql\", \"r\").read()))"
   ]
  },
  {
   "cell_type": "code",
   "execution_count": 4,
   "metadata": {},
   "outputs": [
    {
     "name": "stdout",
     "output_type": "stream",
     "text": [
      "Using graph 'KDD_2022_NFT'\n",
      "Successfully created loading jobs: [load_nft_data].\n"
     ]
    }
   ],
   "source": [
    "print(conn.gsql(open(\"../src/gsql/loading/load_data.gsql\", \"r\").read()))"
   ]
  },
  {
   "cell_type": "code",
   "execution_count": 5,
   "metadata": {},
   "outputs": [
    {
     "data": {
      "text/plain": [
       "[{'sourceFileName': 'Online_POST',\n",
       "  'statistics': {'validLine': 60711,\n",
       "   'rejectLine': 0,\n",
       "   'failedConditionLine': 0,\n",
       "   'notEnoughToken': 0,\n",
       "   'invalidJson': 0,\n",
       "   'oversizeToken': 0,\n",
       "   'vertex': [{'typeName': 'Transaction',\n",
       "     'validObject': 60705,\n",
       "     'noIdFound': 0,\n",
       "     'invalidAttribute': 6,\n",
       "     'invalidAttributeLines': ['1:usd_price',\n",
       "      '1092:categoryOneHot',\n",
       "      '2719:categoryOneHot',\n",
       "      '5835:categoryOneHot',\n",
       "      '5839:categoryOneHot',\n",
       "      '52188:categoryOneHot'],\n",
       "     'invalidAttributeLinesData': ['ID_token;Smart_contract;Transaction_hash;Seller_address;Seller_username;Buyer_address;Buyer_username;Price_USD;Name;Collection_c...',\n",
       "      '233384;0xf5b0a3efb8e8e4c201e2a935f110eaaf3ffecb8d;0xfb85bcd04a475b249b91e4df4f596aa1463d5da611d393406e97fc4c7d90e0a8;0x6b4cfc406...',\n",
       "      '1082027;0x06012c8cf97bead5deae237070f9587f8e7a266d;0x91323d60d1503588c6001ea74ce1978f2481eeb63ea85d706fe707dee8268891;0x4da725d8...',\n",
       "      '74131744438972540339666837148097951894952133662590729948081471227499294752769;0x495f947276749ce646f68ac8c248420045cb7b5e;0x7eb91...',\n",
       "      '15;0x60d92741bf44a4a7c240bbad29e328ff74232268;0x916cd26b768b00747347ba671c2231063f2d8207c82c227b4dfe3490b44c7585;0x44e9d011df874...',\n",
       "      '21;0x60d92741bf44a4a7c240bbad29e328ff74232268;0xea3e15500edc98841cd1eaede6df9ae52a82f634094c073da7f56328303718c1;0xea2f3a1a218ec...'],\n",
       "     'invalidVertexType': 0,\n",
       "     'invalidPrimaryId': 0,\n",
       "     'invalidSecondaryId': 0,\n",
       "     'incorrectFixedBinaryLength': 0},\n",
       "    {'typeName': 'NFT_User',\n",
       "     'validObject': 60711,\n",
       "     'noIdFound': 0,\n",
       "     'invalidAttribute': 0,\n",
       "     'invalidVertexType': 0,\n",
       "     'invalidPrimaryId': 0,\n",
       "     'invalidSecondaryId': 0,\n",
       "     'incorrectFixedBinaryLength': 0},\n",
       "    {'typeName': 'NFT_User',\n",
       "     'validObject': 60711,\n",
       "     'noIdFound': 0,\n",
       "     'invalidAttribute': 0,\n",
       "     'invalidVertexType': 0,\n",
       "     'invalidPrimaryId': 0,\n",
       "     'invalidSecondaryId': 0,\n",
       "     'incorrectFixedBinaryLength': 0},\n",
       "    {'typeName': 'NFT',\n",
       "     'validObject': 60705,\n",
       "     'noIdFound': 0,\n",
       "     'invalidAttribute': 6,\n",
       "     'invalidAttributeLines': ['1:collectionOneHot',\n",
       "      '1092:categoryOneHot',\n",
       "      '2719:categoryOneHot',\n",
       "      '5835:categoryOneHot',\n",
       "      '5839:categoryOneHot',\n",
       "      '52188:categoryOneHot'],\n",
       "     'invalidAttributeLinesData': ['ID_token;Smart_contract;Transaction_hash;Seller_address;Seller_username;Buyer_address;Buyer_username;Price_USD;Name;Collection_c...',\n",
       "      '233384;0xf5b0a3efb8e8e4c201e2a935f110eaaf3ffecb8d;0xfb85bcd04a475b249b91e4df4f596aa1463d5da611d393406e97fc4c7d90e0a8;0x6b4cfc406...',\n",
       "      '1082027;0x06012c8cf97bead5deae237070f9587f8e7a266d;0x91323d60d1503588c6001ea74ce1978f2481eeb63ea85d706fe707dee8268891;0x4da725d8...',\n",
       "      '74131744438972540339666837148097951894952133662590729948081471227499294752769;0x495f947276749ce646f68ac8c248420045cb7b5e;0x7eb91...',\n",
       "      '15;0x60d92741bf44a4a7c240bbad29e328ff74232268;0x916cd26b768b00747347ba671c2231063f2d8207c82c227b4dfe3490b44c7585;0x44e9d011df874...',\n",
       "      '21;0x60d92741bf44a4a7c240bbad29e328ff74232268;0xea3e15500edc98841cd1eaede6df9ae52a82f634094c073da7f56328303718c1;0xea2f3a1a218ec...'],\n",
       "     'invalidVertexType': 0,\n",
       "     'invalidPrimaryId': 0,\n",
       "     'invalidSecondaryId': 0,\n",
       "     'incorrectFixedBinaryLength': 0},\n",
       "    {'typeName': 'Category',\n",
       "     'validObject': 60711,\n",
       "     'noIdFound': 0,\n",
       "     'invalidAttribute': 0,\n",
       "     'invalidVertexType': 0,\n",
       "     'invalidPrimaryId': 0,\n",
       "     'invalidSecondaryId': 0,\n",
       "     'incorrectFixedBinaryLength': 0},\n",
       "    {'typeName': 'NFT_Collection',\n",
       "     'validObject': 60711,\n",
       "     'noIdFound': 0,\n",
       "     'invalidAttribute': 0,\n",
       "     'invalidVertexType': 0,\n",
       "     'invalidPrimaryId': 0,\n",
       "     'invalidSecondaryId': 0,\n",
       "     'incorrectFixedBinaryLength': 0},\n",
       "    {'typeName': 'Market',\n",
       "     'validObject': 60711,\n",
       "     'noIdFound': 0,\n",
       "     'invalidAttribute': 0,\n",
       "     'invalidVertexType': 0,\n",
       "     'invalidPrimaryId': 0,\n",
       "     'invalidSecondaryId': 0,\n",
       "     'incorrectFixedBinaryLength': 0}],\n",
       "   'edge': [{'typeName': 'USER_SOLD_NFT',\n",
       "     'validObject': 60711,\n",
       "     'noIdFound': 0,\n",
       "     'invalidAttribute': 0,\n",
       "     'invalidVertexType': 0,\n",
       "     'invalidPrimaryId': 0,\n",
       "     'invalidSecondaryId': 0,\n",
       "     'incorrectFixedBinaryLength': 0},\n",
       "    {'typeName': 'USER_SOLD_TO',\n",
       "     'validObject': 60711,\n",
       "     'noIdFound': 0,\n",
       "     'invalidAttribute': 0,\n",
       "     'invalidVertexType': 0,\n",
       "     'invalidPrimaryId': 0,\n",
       "     'invalidSecondaryId': 0,\n",
       "     'incorrectFixedBinaryLength': 0},\n",
       "    {'typeName': 'USER_BOUGHT_NFT',\n",
       "     'validObject': 60711,\n",
       "     'noIdFound': 0,\n",
       "     'invalidAttribute': 0,\n",
       "     'invalidVertexType': 0,\n",
       "     'invalidPrimaryId': 0,\n",
       "     'invalidSecondaryId': 0,\n",
       "     'incorrectFixedBinaryLength': 0},\n",
       "    {'typeName': 'FOR_SALE_OF',\n",
       "     'validObject': 60711,\n",
       "     'noIdFound': 0,\n",
       "     'invalidAttribute': 0,\n",
       "     'invalidVertexType': 0,\n",
       "     'invalidPrimaryId': 0,\n",
       "     'invalidSecondaryId': 0,\n",
       "     'incorrectFixedBinaryLength': 0},\n",
       "    {'typeName': 'COLLECTION_HAS_NFT',\n",
       "     'validObject': 60711,\n",
       "     'noIdFound': 0,\n",
       "     'invalidAttribute': 0,\n",
       "     'invalidVertexType': 0,\n",
       "     'invalidPrimaryId': 0,\n",
       "     'invalidSecondaryId': 0,\n",
       "     'incorrectFixedBinaryLength': 0},\n",
       "    {'typeName': 'CATEGORY_HAS_NFT',\n",
       "     'validObject': 60711,\n",
       "     'noIdFound': 0,\n",
       "     'invalidAttribute': 0,\n",
       "     'invalidVertexType': 0,\n",
       "     'invalidPrimaryId': 0,\n",
       "     'invalidSecondaryId': 0,\n",
       "     'incorrectFixedBinaryLength': 0},\n",
       "    {'typeName': 'TRANSACTION_PERFORMED_ON',\n",
       "     'validObject': 60711,\n",
       "     'noIdFound': 0,\n",
       "     'invalidAttribute': 0,\n",
       "     'invalidVertexType': 0,\n",
       "     'invalidPrimaryId': 0,\n",
       "     'invalidSecondaryId': 0,\n",
       "     'incorrectFixedBinaryLength': 0}],\n",
       "   'deleteVertex': [],\n",
       "   'deleteEdge': []}}]"
      ]
     },
     "execution_count": 5,
     "metadata": {},
     "output_type": "execute_result"
    }
   ],
   "source": [
    "conn.runLoadingJobWithFile(\"../data/Data_API_sampled.csv\", \"file1\", \"load_nft_data\", sep=\";\")"
   ]
  },
  {
   "cell_type": "code",
   "execution_count": 8,
   "metadata": {},
   "outputs": [
    {
     "data": {
      "text/plain": [
       "43519"
      ]
     },
     "execution_count": 8,
     "metadata": {},
     "output_type": "execute_result"
    }
   ],
   "source": [
    "conn.getVertexCount(\"NFT_User\")"
   ]
  },
  {
   "cell_type": "code",
   "execution_count": null,
   "metadata": {},
   "outputs": [],
   "source": []
  }
 ],
 "metadata": {
  "interpreter": {
   "hash": "58e1c476a485e41cfbe41589baaac1849e255b67efca409760b0ec34d7f4c191"
  },
  "kernelspec": {
   "display_name": "Python 3.9.12 ('kdd2022')",
   "language": "python",
   "name": "python3"
  },
  "language_info": {
   "codemirror_mode": {
    "name": "ipython",
    "version": 3
   },
   "file_extension": ".py",
   "mimetype": "text/x-python",
   "name": "python",
   "nbconvert_exporter": "python",
   "pygments_lexer": "ipython3",
   "version": "3.9.12"
  },
  "orig_nbformat": 4
 },
 "nbformat": 4,
 "nbformat_minor": 2
}
