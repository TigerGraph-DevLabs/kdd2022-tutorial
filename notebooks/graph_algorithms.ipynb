{
 "cells": [
  {
   "cell_type": "code",
   "execution_count": 1,
   "metadata": {},
   "outputs": [],
   "source": [
    "import pyTigerGraph as tg\n",
    "\n",
    "conn = tg.TigerGraphConnection(\"http://3.144.132.94\", graphname=\"KDD_2022_NFT\")"
   ]
  },
  {
   "cell_type": "code",
   "execution_count": 2,
   "metadata": {},
   "outputs": [],
   "source": [
    "featurizer = conn.gds.featurizer()"
   ]
  },
  {
   "cell_type": "code",
   "execution_count": 3,
   "metadata": {},
   "outputs": [
    {
     "name": "stdout",
     "output_type": "stream",
     "text": [
      "Available algorithms for category Centrality in the GDS (https://github.com/tigergraph/gsql-graph-algorithms):\n",
      "pagerank: \n",
      " global: \n",
      "  weighted: \n",
      "   Algorithm Name: tg_pagerank_wt\n",
      "   Algorithm Link: https://github.com/tigergraph/gsql-graph-algorithms/blob/master/algorithms/Centrality/pagerank/global/weighted/tg_pagerank_wt.gsql. \n",
      "  unweighted: \n",
      "   Algorithm Name: tg_pagerank\n",
      "   Algorithm Link: https://github.com/tigergraph/gsql-graph-algorithms/blob/master/algorithms/Centrality/pagerank/global/unweighted/tg_pagerank.gsql. \n",
      "article_rank: \n",
      " Algorithm Name: tg_article_rank\n",
      " Algorithm Link: https://github.com/tigergraph/gsql-graph-algorithms/blob/master/algorithms/Centrality/article_rank/tg_article_rank.gsql. \n",
      "Betweenness: \n",
      " Algorithm Name: tg_betweenness_cent\n",
      " Algorithm Link: https://github.com/tigergraph/gsql-graph-algorithms/blob/master/algorithms/Centrality/betweenness/tg_betweenness_cent.gsql. \n",
      "closeness: \n",
      " approximate: \n",
      "  Algorithm Name: tg_closeness_cent_approx\n",
      "  Algorithm Link: https://github.com/tigergraph/gsql-graph-algorithms/blob/master/algorithms/Centrality/closeness/approximate/tg_closeness_cent_approx.gsql. \n",
      " exact: \n",
      "  Algorithm Name: tg_closeness_cent\n",
      "  Algorithm Link: https://github.com/tigergraph/gsql-graph-algorithms/blob/master/algorithms/Centrality/closeness/exact/tg_closeness_cent.gsql. \n",
      "degree: \n",
      " Algorithm Name: tg_degree_cent\n",
      " Algorithm Link: https://github.com/tigergraph/gsql-graph-algorithms/blob/master/algorithms/Centrality/degree/tg_degree_cent.gsql. \n",
      "eigenvector: \n",
      " Algorithm Name: tg_eigenvector_cent\n",
      " Algorithm Link: https://github.com/tigergraph/gsql-graph-algorithms/blob/master/algorithms/Centrality/eigenvector/tg_eigenvector_cent.gsql. \n",
      "harmonic: \n",
      " Algorithm Name: tg_harmonic_cent\n",
      " Algorithm Link: https://github.com/tigergraph/gsql-graph-algorithms/blob/master/algorithms/Centrality/harmonic/tg_harmonic_cent.gsql. \n"
     ]
    }
   ],
   "source": [
    "featurizer.listAlgorithms(\"Centrality\")"
   ]
  },
  {
   "cell_type": "code",
   "execution_count": 4,
   "metadata": {},
   "outputs": [
    {
     "data": {
      "text/plain": [
       "'tg_pagerank'"
      ]
     },
     "execution_count": 4,
     "metadata": {},
     "output_type": "execute_result"
    }
   ],
   "source": [
    "featurizer.installAlgorithm(\"tg_pagerank\")"
   ]
  },
  {
   "cell_type": "code",
   "execution_count": 5,
   "metadata": {},
   "outputs": [],
   "source": [
    "params={\"v_type\": \"NFT_User\", \"e_type\": \"USER_SOLD_TO\", 'result_attr': 'pagerank'}"
   ]
  },
  {
   "cell_type": "code",
   "execution_count": 6,
   "metadata": {},
   "outputs": [
    {
     "data": {
      "text/plain": [
       "[{'@@top_scores_heap': [{'Vertex_ID': 'contractwork', 'score': 522.12415},\n",
       "   {'Vertex_ID': 'e2vai.waa', 'score': 476.01984},\n",
       "   {'Vertex_ID': 'cneba.wam', 'score': 330.54477},\n",
       "   {'Vertex_ID': '2okbc.wam', 'score': 260.81992},\n",
       "   {'Vertex_ID': 'ey4b.wam', 'score': 255.23291},\n",
       "   {'Vertex_ID': 'yyxba.wam', 'score': 221.4155},\n",
       "   {'Vertex_ID': 'qhurm.wam', 'score': 215.12881},\n",
       "   {'Vertex_ID': 'cxybs.wam', 'score': 185.96808},\n",
       "   {'Vertex_ID': 'rjwas.wam', 'score': 175.91425},\n",
       "   {'Vertex_ID': 'cedr.wam', 'score': 172.96387},\n",
       "   {'Vertex_ID': '0x9e6e344f94305d36ea59912b0911fe2c9149ed3e',\n",
       "    'score': 167.18311},\n",
       "   {'Vertex_ID': 'h3kba.wam', 'score': 162.36984},\n",
       "   {'Vertex_ID': 'q3brk.wam', 'score': 130.11215},\n",
       "   {'Vertex_ID': 'orcra.wam', 'score': 122.50283},\n",
       "   {'Vertex_ID': 'rxfrk.wam', 'score': 116.91318},\n",
       "   {'Vertex_ID': 'jocru.wam', 'score': 115.21035},\n",
       "   {'Vertex_ID': 'wwvrm.wam', 'score': 109.82959},\n",
       "   {'Vertex_ID': 'blopsie.za', 'score': 105.28922},\n",
       "   {'Vertex_ID': 'noqaw.wam', 'score': 104.31521},\n",
       "   {'Vertex_ID': 'buyandsellit', 'score': 100.40074},\n",
       "   {'Vertex_ID': '1f4be.wam', 'score': 96.76707},\n",
       "   {'Vertex_ID': 'sjiau.waa', 'score': 96.55547},\n",
       "   {'Vertex_ID': 'emtbq.wam', 'score': 94.78956},\n",
       "   {'Vertex_ID': '5gvba.wam', 'score': 94.13818},\n",
       "   {'Vertex_ID': '.fzqy.wam', 'score': 94.08089},\n",
       "   {'Vertex_ID': '1vsr2.wam', 'score': 93.85471},\n",
       "   {'Vertex_ID': 'mhora.wam', 'score': 92.25909},\n",
       "   {'Vertex_ID': 'ls1re.wam', 'score': 92.17191},\n",
       "   {'Vertex_ID': 's43r4.wam', 'score': 91.82853},\n",
       "   {'Vertex_ID': '0xe5c4c41194901047523108bb47eb109781a1a86a',\n",
       "    'score': 90.17643},\n",
       "   {'Vertex_ID': 'trqra.wam', 'score': 89.85719},\n",
       "   {'Vertex_ID': 'axvqu.wam', 'score': 86.52335},\n",
       "   {'Vertex_ID': 'twmqw.wam', 'score': 84.6331},\n",
       "   {'Vertex_ID': '5hcba.wam', 'score': 81.46432},\n",
       "   {'Vertex_ID': 'gxfqu.wam', 'score': 80.97179},\n",
       "   {'Vertex_ID': 'vesay.wam', 'score': 80.6724},\n",
       "   {'Vertex_ID': 'kstra.wam', 'score': 80.24198},\n",
       "   {'Vertex_ID': 'eo1be.wam', 'score': 79.11681},\n",
       "   {'Vertex_ID': '1mmra.wam', 'score': 78.92216},\n",
       "   {'Vertex_ID': '1n.r2.wam', 'score': 78.11104},\n",
       "   {'Vertex_ID': 'j1lr4.wam', 'score': 78.0444},\n",
       "   {'Vertex_ID': '4pvbu.wam', 'score': 76.86321},\n",
       "   {'Vertex_ID': 'fvfqu.wam', 'score': 75.04652},\n",
       "   {'Vertex_ID': 'pmmqy.wam', 'score': 74.98814},\n",
       "   {'Vertex_ID': 'nkura.wam', 'score': 73.31838},\n",
       "   {'Vertex_ID': 'yhybg.wam', 'score': 72.92184},\n",
       "   {'Vertex_ID': '1wsbe.wam', 'score': 72.10526},\n",
       "   {'Vertex_ID': '0xc72d02ca3fe6adc5a6ead5c543f326f86edee597',\n",
       "    'score': 71.47562},\n",
       "   {'Vertex_ID': '0xda47ad87594e6ed0d6595f6314269f73257bc80e',\n",
       "    'score': 71.368},\n",
       "   {'Vertex_ID': 'ilwra.wam', 'score': 71.02377},\n",
       "   {'Vertex_ID': 'ruk12.wam', 'score': 70.96888},\n",
       "   {'Vertex_ID': 'khorc.wam', 'score': 68.82658},\n",
       "   {'Vertex_ID': 'cqcau.wam', 'score': 68.43559},\n",
       "   {'Vertex_ID': 'jkgrg.wam', 'score': 68.23777},\n",
       "   {'Vertex_ID': '.2frc.wam', 'score': 67.71027},\n",
       "   {'Vertex_ID': 'x5sr.wam', 'score': 67.53918},\n",
       "   {'Vertex_ID': 'lh3b.wam', 'score': 66.31815},\n",
       "   {'Vertex_ID': 'cp2ba.wam', 'score': 65.94846},\n",
       "   {'Vertex_ID': '.rhb4.wam', 'score': 65.14493},\n",
       "   {'Vertex_ID': '2pkra.wam', 'score': 64.98105},\n",
       "   {'Vertex_ID': 'aukra.wam', 'score': 64.50344},\n",
       "   {'Vertex_ID': 'fi124.wam', 'score': 64.0752},\n",
       "   {'Vertex_ID': 'h2rbi.wam', 'score': 63.71775},\n",
       "   {'Vertex_ID': 'f2srs.wam', 'score': 62.62568},\n",
       "   {'Vertex_ID': '5fnay.wam', 'score': 62.40912},\n",
       "   {'Vertex_ID': 'vpera.wam', 'score': 62.16347},\n",
       "   {'Vertex_ID': '33jau.wam', 'score': 61.5953},\n",
       "   {'Vertex_ID': '1f4aw.wam', 'score': 60.96592},\n",
       "   {'Vertex_ID': 'ftcri.wam', 'score': 60.7208},\n",
       "   {'Vertex_ID': 'f.l1k.wam', 'score': 60.45546},\n",
       "   {'Vertex_ID': '3qsb4.wam', 'score': 59.897},\n",
       "   {'Vertex_ID': 'u.jb4.wam', 'score': 59.78764},\n",
       "   {'Vertex_ID': '2e2ra.wam', 'score': 59.74993},\n",
       "   {'Vertex_ID': '.hdba.wam', 'score': 59.53584},\n",
       "   {'Vertex_ID': 'unbaw.wam', 'score': 59.33535},\n",
       "   {'Vertex_ID': '1ufqw.wam', 'score': 57.18426},\n",
       "   {'Vertex_ID': 'xa.bk.wam', 'score': 56.93319},\n",
       "   {'Vertex_ID': 'ofnba.wam', 'score': 56.56891},\n",
       "   {'Vertex_ID': 'tjiqu.wam', 'score': 56.13217},\n",
       "   {'Vertex_ID': 'h15ra.wam', 'score': 56.0265},\n",
       "   {'Vertex_ID': 'x4pra.wam', 'score': 55.97708},\n",
       "   {'Vertex_ID': 'qj5r4.wam', 'score': 55.72615},\n",
       "   {'Vertex_ID': 'gcvru.wam', 'score': 55.47806},\n",
       "   {'Vertex_ID': 'yuyrg.wam', 'score': 55.44306},\n",
       "   {'Vertex_ID': 'abtqu.wam', 'score': 55.25642},\n",
       "   {'Vertex_ID': 'twdqq.wam', 'score': 55.18322},\n",
       "   {'Vertex_ID': 'qfjba.wam', 'score': 54.96574},\n",
       "   {'Vertex_ID': 'aprb4.wam', 'score': 54.53041},\n",
       "   {'Vertex_ID': 'r3wb.wam', 'score': 53.08424},\n",
       "   {'Vertex_ID': 'abyay.wam', 'score': 53.0033},\n",
       "   {'Vertex_ID': 'mcmr4.wam', 'score': 52.82938},\n",
       "   {'Vertex_ID': 'v.25g.wam', 'score': 52.38381},\n",
       "   {'Vertex_ID': '0x7054bdfa61dc8c1baa1d5de76ba7ee1b4ab791d9',\n",
       "    'score': 52.11546},\n",
       "   {'Vertex_ID': 'frcqu.wam', 'score': 52.10431},\n",
       "   {'Vertex_ID': '4bdau.wam', 'score': 51.94011},\n",
       "   {'Vertex_ID': 'xi3ri.wam', 'score': 51.58479},\n",
       "   {'Vertex_ID': 'py1li.wam', 'score': 51.52206},\n",
       "   {'Vertex_ID': '0x0000000000000000000000000000000000000000',\n",
       "    'score': 51.39286},\n",
       "   {'Vertex_ID': 'fbhaw.wam', 'score': 51.12748},\n",
       "   {'Vertex_ID': 'bfdau.wam', 'score': 50.30183}]}]"
      ]
     },
     "execution_count": 6,
     "metadata": {},
     "output_type": "execute_result"
    }
   ],
   "source": [
    "featurizer.runAlgorithm(\"tg_pagerank\", params=params, feat_name=\"pagerank\", schema_name=[\"NFT_User\"], global_schema=False)"
   ]
  },
  {
   "cell_type": "code",
   "execution_count": 7,
   "metadata": {},
   "outputs": [
    {
     "name": "stdout",
     "output_type": "stream",
     "text": [
      "Overwriting ./average_selling_price.gsql\n"
     ]
    }
   ],
   "source": [
    "%%writefile ./average_selling_price.gsql\n",
    "\n",
    "CREATE QUERY average_selling_price(BOOL print_accum = FALSE, STRING result_attr =  \"\") { \n",
    "  AvgAccum @average_selling_price;\n",
    "  users = {NFT_User.*};\n",
    "  res = SELECT u FROM users:u -(USER_SOLD_NFT)-> Transaction:tgt\n",
    "        ACCUM u.@average_selling_price += tgt.usd_price;\n",
    "  \n",
    "  res = SELECT s FROM res:s\n",
    "    POST-ACCUM\n",
    "        IF result_attr != \"\" THEN \n",
    "            IF s.@average_selling_price == 0 THEN\n",
    "              s.setAttr(result_attr, -1)\n",
    "            ELSE\n",
    "              s.setAttr(result_attr, s.@average_selling_price) \n",
    "            END\n",
    "        END;\n",
    "  IF print_accum THEN\n",
    "    PRINT res;\n",
    "  END;\n",
    "}"
   ]
  },
  {
   "cell_type": "code",
   "execution_count": 8,
   "metadata": {},
   "outputs": [
    {
     "data": {
      "text/plain": [
       "'average_selling_price'"
      ]
     },
     "execution_count": 8,
     "metadata": {},
     "output_type": "execute_result"
    }
   ],
   "source": [
    "featurizer.installAlgorithm(\"average_selling_price\", query_path=\"./average_selling_price.gsql\")"
   ]
  },
  {
   "cell_type": "code",
   "execution_count": 134,
   "metadata": {},
   "outputs": [],
   "source": [
    "params = {\n",
    "    \"result_attr\": \"avg_sell_price\"\n",
    "}"
   ]
  },
  {
   "cell_type": "code",
   "execution_count": 135,
   "metadata": {},
   "outputs": [],
   "source": [
    "try:\n",
    "    featurizer.runAlgorithm(\"average_selling_price\", params=params, feat_name=\"avg_sell_price\", feat_type=\"FLOAT\", custom_query=True, schema_name=[\"NFT_User\"])\n",
    "except ConnectionError:\n",
    "    featurizer.runAlgorithm(\"average_selling_price\", params=params)"
   ]
  },
  {
   "cell_type": "code",
   "execution_count": 137,
   "metadata": {},
   "outputs": [],
   "source": [
    "df = conn.getVertexDataFrame(\"NFT_User\", where=\"avg_sell_price > 0\", limit=100_000)\n",
    "pr_sell = df[[\"pagerank\", \"avg_sell_price\"]]"
   ]
  },
  {
   "cell_type": "code",
   "execution_count": 138,
   "metadata": {},
   "outputs": [
    {
     "data": {
      "text/plain": [
       "<AxesSubplot:xlabel='pagerank', ylabel='avg_sell_price'>"
      ]
     },
     "execution_count": 138,
     "metadata": {},
     "output_type": "execute_result"
    },
    {
     "data": {
      "image/png": "[encoded data removed]",
      "text/plain": [
       "<Figure size 432x288 with 1 Axes>"
      ]
     },
     "metadata": {
      "needs_background": "light"
     },
     "output_type": "display_data"
    }
   ],
   "source": [
    "pr_sell.plot.scatter(x=\"pagerank\", y=\"avg_sell_price\")"
   ]
  },
  {
   "cell_type": "markdown",
   "metadata": {},
   "source": [
    "### Remove Outliers"
   ]
  },
  {
   "cell_type": "code",
   "execution_count": 139,
   "metadata": {},
   "outputs": [
    {
     "data": {
      "text/plain": [
       "<AxesSubplot:xlabel='pagerank', ylabel='avg_sell_price'>"
      ]
     },
     "execution_count": 139,
     "metadata": {},
     "output_type": "execute_result"
    },
    {
     "data": {
      "image/png": "[encoded data removed]",
      "text/plain": [
       "<Figure size 432x288 with 1 Axes>"
      ]
     },
     "metadata": {
      "needs_background": "light"
     },
     "output_type": "display_data"
    }
   ],
   "source": [
    "import numpy as np\n",
    "from scipy import stats\n",
    "pr_sell[(np.abs(stats.zscore(pr_sell)) < 3).all(axis=1)].plot.scatter(x=\"pagerank\", y=\"avg_sell_price\")"
   ]
  },
  {
   "cell_type": "code",
   "execution_count": 140,
   "metadata": {},
   "outputs": [
    {
     "name": "stdout",
     "output_type": "stream",
     "text": [
      "Available algorithms for category Community in the GDS (https://github.com/tigergraph/gsql-graph-algorithms):\n",
      "connected_components: \n",
      " strongly_connected_components: \n",
      "  standard: \n",
      "   Algorithm Name: tg_scc\n",
      "   Algorithm Link: https://github.com/tigergraph/gsql-graph-algorithms/blob/master/algorithms/Community/connected_components/strongly_connected_components/standard/tg_scc.gsql. \n",
      "k_core: \n",
      " Algorithm Name: tg_kcore\n",
      " Algorithm Link: https://github.com/tigergraph/gsql-graph-algorithms/blob/master/algorithms/Community/k_core/tg_kcore.gsql. \n",
      "label_propagation: \n",
      " Algorithm Name: tg_label_prop\n",
      " Algorithm Link: https://github.com/tigergraph/gsql-graph-algorithms/blob/master/algorithms/Community/label_propagation/tg_label_prop.gsql. \n",
      "local_clustering_coefficient: \n",
      " Algorithm Name: tg_lcc\n",
      " Algorithm Link: https://github.com/tigergraph/gsql-graph-algorithms/blob/master/algorithms/Community/local_clustering_coefficient/tg_lcc.gsql. \n",
      "louvain: \n",
      " Algorithm Name: tg_louvain\n",
      " Algorithm Link: https://github.com/tigergraph/gsql-graph-algorithms/blob/master/algorithms/Community/louvain/tg_louvain.gsql. \n",
      "triangle_counting: \n",
      " fast: \n",
      "  Algorithm Name: tg_tri_count_fast\n",
      "  Algorithm Link: https://github.com/tigergraph/gsql-graph-algorithms/blob/master/algorithms/Community/triangle_counting/fast/tg_tri_count_fast.gsql. \n"
     ]
    }
   ],
   "source": [
    "featurizer.listAlgorithms(\"Community\")"
   ]
  },
  {
   "cell_type": "code",
   "execution_count": 141,
   "metadata": {},
   "outputs": [
    {
     "data": {
      "text/plain": [
       "'tg_kcore'"
      ]
     },
     "execution_count": 141,
     "metadata": {},
     "output_type": "execute_result"
    }
   ],
   "source": [
    "featurizer.installAlgorithm(\"tg_kcore\")"
   ]
  },
  {
   "cell_type": "code",
   "execution_count": 142,
   "metadata": {},
   "outputs": [],
   "source": [
    "params = {\n",
    "    \"v_type\": \"NFT_User\",\n",
    "    \"e_type\": \"USER_SOLD_TO\",\n",
    "    \"print_accum\": False,\n",
    "    \"result_attr\": \"k_core\"\n",
    "}\n",
    "try:\n",
    "    featurizer.runAlgorithm(\"tg_kcore\", params = params, feat_name=\"k_core\")\n",
    "except ConnectionError:\n",
    "    featurizer.runAlgorithm(\"tg_kcore\", params = params)"
   ]
  },
  {
   "cell_type": "code",
   "execution_count": 147,
   "metadata": {},
   "outputs": [
    {
     "data": {
      "text/html": [
       "<div>\n",
       "<style scoped>\n",
       "    .dataframe tbody tr th:only-of-type {\n",
       "        vertical-align: middle;\n",
       "    }\n",
       "\n",
       "    .dataframe tbody tr th {\n",
       "        vertical-align: top;\n",
       "    }\n",
       "\n",
       "    .dataframe thead th {\n",
       "        text-align: right;\n",
       "    }\n",
       "</style>\n",
       "<table border=\"1\" class=\"dataframe\">\n",
       "  <thead>\n",
       "    <tr style=\"text-align: right;\">\n",
       "      <th></th>\n",
       "      <th>v_id</th>\n",
       "      <th>nft_user_id</th>\n",
       "      <th>username</th>\n",
       "      <th>embedding</th>\n",
       "      <th>features</th>\n",
       "      <th>pagerank</th>\n",
       "      <th>fastrp_embedding</th>\n",
       "      <th>avg_sell_price</th>\n",
       "      <th>scc_id</th>\n",
       "      <th>k_core</th>\n",
       "    </tr>\n",
       "  </thead>\n",
       "  <tbody>\n",
       "    <tr>\n",
       "      <th>0</th>\n",
       "      <td>0x7a4c98b60a0632ac4844883a7362df1b0d8308f3</td>\n",
       "      <td>0x7a4c98b60a0632ac4844883a7362df1b0d8308f3</td>\n",
       "      <td></td>\n",
       "      <td>[]</td>\n",
       "      <td>[]</td>\n",
       "      <td>0.49227</td>\n",
       "      <td>[]</td>\n",
       "      <td>54.25278</td>\n",
       "      <td>547356672</td>\n",
       "      <td>1</td>\n",
       "    </tr>\n",
       "    <tr>\n",
       "      <th>1</th>\n",
       "      <td>0xb3051509eeda06b2ef37ea2727ce5cf6b0f93883</td>\n",
       "      <td>0xb3051509eeda06b2ef37ea2727ce5cf6b0f93883</td>\n",
       "      <td>ZED_RUN</td>\n",
       "      <td>[]</td>\n",
       "      <td>[]</td>\n",
       "      <td>0.26563</td>\n",
       "      <td>[]</td>\n",
       "      <td>706.51935</td>\n",
       "      <td>547356672</td>\n",
       "      <td>22</td>\n",
       "    </tr>\n",
       "    <tr>\n",
       "      <th>2</th>\n",
       "      <td>0xd4aa1ebc9b66e4f12a2ac73b355156c68fb79434</td>\n",
       "      <td>0xd4aa1ebc9b66e4f12a2ac73b355156c68fb79434</td>\n",
       "      <td></td>\n",
       "      <td>[]</td>\n",
       "      <td>[]</td>\n",
       "      <td>0.34186</td>\n",
       "      <td>[]</td>\n",
       "      <td>111.22664</td>\n",
       "      <td>547356672</td>\n",
       "      <td>13</td>\n",
       "    </tr>\n",
       "    <tr>\n",
       "      <th>3</th>\n",
       "      <td>0xdfc68d8f3d67e37413712b7fda2d609fd93edeac</td>\n",
       "      <td>0xdfc68d8f3d67e37413712b7fda2d609fd93edeac</td>\n",
       "      <td></td>\n",
       "      <td>[]</td>\n",
       "      <td>[]</td>\n",
       "      <td>0.32479</td>\n",
       "      <td>[]</td>\n",
       "      <td>71.35841</td>\n",
       "      <td>547356672</td>\n",
       "      <td>7</td>\n",
       "    </tr>\n",
       "    <tr>\n",
       "      <th>4</th>\n",
       "      <td>0xfbb589251a5dcd955f51fc36e560b18fa8a5e974</td>\n",
       "      <td>0xfbb589251a5dcd955f51fc36e560b18fa8a5e974</td>\n",
       "      <td></td>\n",
       "      <td>[]</td>\n",
       "      <td>[]</td>\n",
       "      <td>4.72048</td>\n",
       "      <td>[]</td>\n",
       "      <td>39.22706</td>\n",
       "      <td>547356672</td>\n",
       "      <td>12</td>\n",
       "    </tr>\n",
       "  </tbody>\n",
       "</table>\n",
       "</div>"
      ],
      "text/plain": [
       "                                         v_id  \\\n",
       "0  0x7a4c98b60a0632ac4844883a7362df1b0d8308f3   \n",
       "1  0xb3051509eeda06b2ef37ea2727ce5cf6b0f93883   \n",
       "2  0xd4aa1ebc9b66e4f12a2ac73b355156c68fb79434   \n",
       "3  0xdfc68d8f3d67e37413712b7fda2d609fd93edeac   \n",
       "4  0xfbb589251a5dcd955f51fc36e560b18fa8a5e974   \n",
       "\n",
       "                                  nft_user_id username embedding features  \\\n",
       "0  0x7a4c98b60a0632ac4844883a7362df1b0d8308f3                 []       []   \n",
       "1  0xb3051509eeda06b2ef37ea2727ce5cf6b0f93883  ZED_RUN        []       []   \n",
       "2  0xd4aa1ebc9b66e4f12a2ac73b355156c68fb79434                 []       []   \n",
       "3  0xdfc68d8f3d67e37413712b7fda2d609fd93edeac                 []       []   \n",
       "4  0xfbb589251a5dcd955f51fc36e560b18fa8a5e974                 []       []   \n",
       "\n",
       "   pagerank fastrp_embedding  avg_sell_price     scc_id  k_core  \n",
       "0   0.49227               []        54.25278  547356672       1  \n",
       "1   0.26563               []       706.51935  547356672      22  \n",
       "2   0.34186               []       111.22664  547356672      13  \n",
       "3   0.32479               []        71.35841  547356672       7  \n",
       "4   4.72048               []        39.22706  547356672      12  "
      ]
     },
     "execution_count": 147,
     "metadata": {},
     "output_type": "execute_result"
    }
   ],
   "source": [
    "df = conn.getVertexDataFrame(\"NFT_User\", where=\"avg_sell_price > 0\", limit=100_000)\n",
    "df.head()"
   ]
  },
  {
   "cell_type": "code",
   "execution_count": 157,
   "metadata": {},
   "outputs": [
    {
     "data": {
      "text/plain": [
       "1       38254\n",
       "2       16136\n",
       "3       10107\n",
       "4        6454\n",
       "5        4480\n",
       "        ...  \n",
       "413         1\n",
       "1264        1\n",
       "569         1\n",
       "559         1\n",
       "738         1\n",
       "Name: k_core, Length: 539, dtype: int64"
      ]
     },
     "execution_count": 157,
     "metadata": {},
     "output_type": "execute_result"
    }
   ],
   "source": [
    "df[\"k_core\"].value_counts()"
   ]
  },
  {
   "cell_type": "code",
   "execution_count": 149,
   "metadata": {},
   "outputs": [
    {
     "data": {
      "text/plain": [
       "539"
      ]
     },
     "execution_count": 149,
     "metadata": {},
     "output_type": "execute_result"
    }
   ],
   "source": [
    "len(df[\"k_core\"].unique())"
   ]
  },
  {
   "cell_type": "code",
   "execution_count": 150,
   "metadata": {},
   "outputs": [
    {
     "data": {
      "text/html": [
       "<div>\n",
       "<style scoped>\n",
       "    .dataframe tbody tr th:only-of-type {\n",
       "        vertical-align: middle;\n",
       "    }\n",
       "\n",
       "    .dataframe tbody tr th {\n",
       "        vertical-align: top;\n",
       "    }\n",
       "\n",
       "    .dataframe thead th {\n",
       "        text-align: right;\n",
       "    }\n",
       "</style>\n",
       "<table border=\"1\" class=\"dataframe\">\n",
       "  <thead>\n",
       "    <tr style=\"text-align: right;\">\n",
       "      <th></th>\n",
       "      <th>pagerank</th>\n",
       "      <th>avg_sell_price</th>\n",
       "    </tr>\n",
       "    <tr>\n",
       "      <th>k_core</th>\n",
       "      <th></th>\n",
       "      <th></th>\n",
       "    </tr>\n",
       "  </thead>\n",
       "  <tbody>\n",
       "    <tr>\n",
       "      <th>1</th>\n",
       "      <td>0.240588</td>\n",
       "      <td>1608.907341</td>\n",
       "    </tr>\n",
       "    <tr>\n",
       "      <th>2</th>\n",
       "      <td>0.330959</td>\n",
       "      <td>1475.020318</td>\n",
       "    </tr>\n",
       "    <tr>\n",
       "      <th>3</th>\n",
       "      <td>0.302641</td>\n",
       "      <td>964.332694</td>\n",
       "    </tr>\n",
       "    <tr>\n",
       "      <th>4</th>\n",
       "      <td>0.304382</td>\n",
       "      <td>822.554196</td>\n",
       "    </tr>\n",
       "    <tr>\n",
       "      <th>5</th>\n",
       "      <td>0.322563</td>\n",
       "      <td>814.372912</td>\n",
       "    </tr>\n",
       "    <tr>\n",
       "      <th>...</th>\n",
       "      <td>...</td>\n",
       "      <td>...</td>\n",
       "    </tr>\n",
       "    <tr>\n",
       "      <th>3244</th>\n",
       "      <td>3.840380</td>\n",
       "      <td>44.926930</td>\n",
       "    </tr>\n",
       "    <tr>\n",
       "      <th>3920</th>\n",
       "      <td>17.568690</td>\n",
       "      <td>785.849120</td>\n",
       "    </tr>\n",
       "    <tr>\n",
       "      <th>6715</th>\n",
       "      <td>0.281110</td>\n",
       "      <td>11.128610</td>\n",
       "    </tr>\n",
       "    <tr>\n",
       "      <th>7429</th>\n",
       "      <td>5.110210</td>\n",
       "      <td>12.239020</td>\n",
       "    </tr>\n",
       "    <tr>\n",
       "      <th>15535</th>\n",
       "      <td>0.150000</td>\n",
       "      <td>178.375580</td>\n",
       "    </tr>\n",
       "  </tbody>\n",
       "</table>\n",
       "<p>539 rows × 2 columns</p>\n",
       "</div>"
      ],
      "text/plain": [
       "         pagerank  avg_sell_price\n",
       "k_core                           \n",
       "1        0.240588     1608.907341\n",
       "2        0.330959     1475.020318\n",
       "3        0.302641      964.332694\n",
       "4        0.304382      822.554196\n",
       "5        0.322563      814.372912\n",
       "...           ...             ...\n",
       "3244     3.840380       44.926930\n",
       "3920    17.568690      785.849120\n",
       "6715     0.281110       11.128610\n",
       "7429     5.110210       12.239020\n",
       "15535    0.150000      178.375580\n",
       "\n",
       "[539 rows x 2 columns]"
      ]
     },
     "execution_count": 150,
     "metadata": {},
     "output_type": "execute_result"
    }
   ],
   "source": [
    "kcore_pr_sell = df[[\"pagerank\", \"avg_sell_price\", \"k_core\"]]\n",
    "\n",
    "kcore_pr_sell.groupby([\"k_core\"]).mean()"
   ]
  },
  {
   "cell_type": "code",
   "execution_count": 158,
   "metadata": {},
   "outputs": [],
   "source": [
    "size_of_core = df[\"k_core\"].value_counts()"
   ]
  },
  {
   "cell_type": "code",
   "execution_count": 163,
   "metadata": {},
   "outputs": [
    {
     "name": "stderr",
     "output_type": "stream",
     "text": [
      "/var/folders/6m/4_05ft595_77hxj48by2vf0c0000gp/T/ipykernel_34084/485414690.py:1: SettingWithCopyWarning: \n",
      "A value is trying to be set on a copy of a slice from a DataFrame.\n",
      "Try using .loc[row_indexer,col_indexer] = value instead\n",
      "\n",
      "See the caveats in the documentation: https://pandas.pydata.org/pandas-docs/stable/user_guide/indexing.html#returning-a-view-versus-a-copy\n",
      "  kcore_pr_sell[\"size_of_core\"] = kcore_pr_sell[\"k_core\"].apply(lambda x: size_of_core[x])\n"
     ]
    }
   ],
   "source": [
    "kcore_pr_sell[\"size_of_core\"] = kcore_pr_sell[\"k_core\"].apply(lambda x: size_of_core[x])"
   ]
  },
  {
   "cell_type": "code",
   "execution_count": 164,
   "metadata": {},
   "outputs": [
    {
     "data": {
      "text/html": [
       "<div>\n",
       "<style scoped>\n",
       "    .dataframe tbody tr th:only-of-type {\n",
       "        vertical-align: middle;\n",
       "    }\n",
       "\n",
       "    .dataframe tbody tr th {\n",
       "        vertical-align: top;\n",
       "    }\n",
       "\n",
       "    .dataframe thead th {\n",
       "        text-align: right;\n",
       "    }\n",
       "</style>\n",
       "<table border=\"1\" class=\"dataframe\">\n",
       "  <thead>\n",
       "    <tr style=\"text-align: right;\">\n",
       "      <th></th>\n",
       "      <th>pagerank</th>\n",
       "      <th>avg_sell_price</th>\n",
       "      <th>k_core</th>\n",
       "      <th>size_of_core</th>\n",
       "    </tr>\n",
       "  </thead>\n",
       "  <tbody>\n",
       "    <tr>\n",
       "      <th>0</th>\n",
       "      <td>0.49227</td>\n",
       "      <td>54.25278</td>\n",
       "      <td>1</td>\n",
       "      <td>38254</td>\n",
       "    </tr>\n",
       "    <tr>\n",
       "      <th>1</th>\n",
       "      <td>0.26563</td>\n",
       "      <td>706.51935</td>\n",
       "      <td>22</td>\n",
       "      <td>285</td>\n",
       "    </tr>\n",
       "    <tr>\n",
       "      <th>2</th>\n",
       "      <td>0.34186</td>\n",
       "      <td>111.22664</td>\n",
       "      <td>13</td>\n",
       "      <td>820</td>\n",
       "    </tr>\n",
       "    <tr>\n",
       "      <th>3</th>\n",
       "      <td>0.32479</td>\n",
       "      <td>71.35841</td>\n",
       "      <td>7</td>\n",
       "      <td>2533</td>\n",
       "    </tr>\n",
       "    <tr>\n",
       "      <th>4</th>\n",
       "      <td>4.72048</td>\n",
       "      <td>39.22706</td>\n",
       "      <td>12</td>\n",
       "      <td>945</td>\n",
       "    </tr>\n",
       "  </tbody>\n",
       "</table>\n",
       "</div>"
      ],
      "text/plain": [
       "   pagerank  avg_sell_price  k_core  size_of_core\n",
       "0   0.49227        54.25278       1         38254\n",
       "1   0.26563       706.51935      22           285\n",
       "2   0.34186       111.22664      13           820\n",
       "3   0.32479        71.35841       7          2533\n",
       "4   4.72048        39.22706      12           945"
      ]
     },
     "execution_count": 164,
     "metadata": {},
     "output_type": "execute_result"
    }
   ],
   "source": [
    "kcore_pr_sell.head()"
   ]
  },
  {
   "cell_type": "code",
   "execution_count": 165,
   "metadata": {},
   "outputs": [
    {
     "data": {
      "text/html": [
       "<div>\n",
       "<style scoped>\n",
       "    .dataframe tbody tr th:only-of-type {\n",
       "        vertical-align: middle;\n",
       "    }\n",
       "\n",
       "    .dataframe tbody tr th {\n",
       "        vertical-align: top;\n",
       "    }\n",
       "\n",
       "    .dataframe thead th {\n",
       "        text-align: right;\n",
       "    }\n",
       "</style>\n",
       "<table border=\"1\" class=\"dataframe\">\n",
       "  <thead>\n",
       "    <tr style=\"text-align: right;\">\n",
       "      <th></th>\n",
       "      <th>avg_sell_price</th>\n",
       "      <th>size_of_core</th>\n",
       "    </tr>\n",
       "  </thead>\n",
       "  <tbody>\n",
       "    <tr>\n",
       "      <th>avg_sell_price</th>\n",
       "      <td>1.000000</td>\n",
       "      <td>0.024475</td>\n",
       "    </tr>\n",
       "    <tr>\n",
       "      <th>size_of_core</th>\n",
       "      <td>0.024475</td>\n",
       "      <td>1.000000</td>\n",
       "    </tr>\n",
       "  </tbody>\n",
       "</table>\n",
       "</div>"
      ],
      "text/plain": [
       "                avg_sell_price  size_of_core\n",
       "avg_sell_price        1.000000      0.024475\n",
       "size_of_core          0.024475      1.000000"
      ]
     },
     "execution_count": 165,
     "metadata": {},
     "output_type": "execute_result"
    }
   ],
   "source": [
    "kcore_pr_sell[[\"avg_sell_price\", \"size_of_core\"]].corr()"
   ]
  },
  {
   "cell_type": "code",
   "execution_count": 166,
   "metadata": {},
   "outputs": [
    {
     "data": {
      "text/plain": [
       "<AxesSubplot:xlabel='size_of_core', ylabel='avg_sell_price'>"
      ]
     },
     "execution_count": 166,
     "metadata": {},
     "output_type": "execute_result"
    },
    {
     "data": {
      "image/png": "[encoded data removed]",
      "text/plain": [
       "<Figure size 432x288 with 1 Axes>"
      ]
     },
     "metadata": {
      "needs_background": "light"
     },
     "output_type": "display_data"
    }
   ],
   "source": [
    "kcore_pr_sell.plot.scatter(x=\"size_of_core\", y=\"avg_sell_price\")"
   ]
  },
  {
   "cell_type": "code",
   "execution_count": 167,
   "metadata": {},
   "outputs": [
    {
     "data": {
      "text/plain": [
       "<AxesSubplot:xlabel='size_of_core', ylabel='avg_sell_price'>"
      ]
     },
     "execution_count": 167,
     "metadata": {},
     "output_type": "execute_result"
    },
    {
     "data": {
      "image/png": "[encoded data removed]",
      "text/plain": [
       "<Figure size 432x288 with 1 Axes>"
      ]
     },
     "metadata": {
      "needs_background": "light"
     },
     "output_type": "display_data"
    }
   ],
   "source": [
    "kcore_pr_sell[(np.abs(stats.zscore(kcore_pr_sell)) < 3).all(axis=1)].plot.scatter(x=\"size_of_core\", y=\"avg_sell_price\")"
   ]
  },
  {
   "cell_type": "code",
   "execution_count": 168,
   "metadata": {},
   "outputs": [
    {
     "data": {
      "text/plain": [
       "<AxesSubplot:xlabel='size_of_core', ylabel='pagerank'>"
      ]
     },
     "execution_count": 168,
     "metadata": {},
     "output_type": "execute_result"
    },
    {
     "data": {
      "image/png": "[encoded data removed]",
      "text/plain": [
       "<Figure size 432x288 with 1 Axes>"
      ]
     },
     "metadata": {
      "needs_background": "light"
     },
     "output_type": "display_data"
    }
   ],
   "source": [
    "kcore_pr_sell.plot.scatter(x=\"size_of_core\", y=\"pagerank\")"
   ]
  },
  {
   "cell_type": "code",
   "execution_count": 169,
   "metadata": {},
   "outputs": [
    {
     "data": {
      "text/plain": [
       "<AxesSubplot:xlabel='size_of_core', ylabel='pagerank'>"
      ]
     },
     "execution_count": 169,
     "metadata": {},
     "output_type": "execute_result"
    },
    {
     "data": {
      "image/png": "[encoded data removed]",
      "text/plain": [
       "<Figure size 432x288 with 1 Axes>"
      ]
     },
     "metadata": {
      "needs_background": "light"
     },
     "output_type": "display_data"
    }
   ],
   "source": [
    "kcore_pr_sell[(np.abs(stats.zscore(kcore_pr_sell)) < 3).all(axis=1)].plot.scatter(x=\"size_of_core\", y=\"pagerank\")"
   ]
  },
  {
   "cell_type": "code",
   "execution_count": null,
   "metadata": {},
   "outputs": [],
   "source": []
  }
 ],
 "metadata": {
  "interpreter": {
   "hash": "58e1c476a485e41cfbe41589baaac1849e255b67efca409760b0ec34d7f4c191"
  },
  "kernelspec": {
   "display_name": "Python 3.9.12 ('kdd2022')",
   "language": "python",
   "name": "python3"
  },
  "language_info": {
   "codemirror_mode": {
    "name": "ipython",
    "version": 3
   },
   "file_extension": ".py",
   "mimetype": "text/x-python",
   "name": "python",
   "nbconvert_exporter": "python",
   "pygments_lexer": "ipython3",
   "version": "3.9.12"
  },
  "orig_nbformat": 4
 },
 "nbformat": 4,
 "nbformat_minor": 2
}
