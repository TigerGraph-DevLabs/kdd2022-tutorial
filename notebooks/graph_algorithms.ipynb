{
 "cells": [
  {
   "cell_type": "code",
   "execution_count": 1,
   "metadata": {},
   "outputs": [],
   "source": [
    "import pyTigerGraph as tg\n",
    "\n",
    "conn = tg.TigerGraphConnection(\"http://3.22.188.182\", graphname=\"KDD_2022_NFT\")"
   ]
  },
  {
   "cell_type": "code",
   "execution_count": 2,
   "metadata": {},
   "outputs": [],
   "source": [
    "featurizer = conn.gds.featurizer()"
   ]
  },
  {
   "cell_type": "code",
   "execution_count": 3,
   "metadata": {},
   "outputs": [
    {
     "name": "stdout",
     "output_type": "stream",
     "text": [
      "Available algorithms for category Centrality in the GDS (https://github.com/tigergraph/gsql-graph-algorithms):\n",
      "pagerank: \n",
      " global: \n",
      "  weighted: \n",
      "   Algorithm Name: tg_pagerank_wt\n",
      "   Algorithm Link: https://github.com/tigergraph/gsql-graph-algorithms/blob/master/algorithms/Centrality/pagerank/global/weighted/tg_pagerank_wt.gsql. \n",
      "  unweighted: \n",
      "   Algorithm Name: tg_pagerank\n",
      "   Algorithm Link: https://github.com/tigergraph/gsql-graph-algorithms/blob/master/algorithms/Centrality/pagerank/global/unweighted/tg_pagerank.gsql. \n",
      "article_rank: \n",
      " Algorithm Name: tg_article_rank\n",
      " Algorithm Link: https://github.com/tigergraph/gsql-graph-algorithms/blob/master/algorithms/Centrality/article_rank/tg_article_rank.gsql. \n",
      "Betweenness: \n",
      " Algorithm Name: tg_betweenness_cent\n",
      " Algorithm Link: https://github.com/tigergraph/gsql-graph-algorithms/blob/master/algorithms/Centrality/betweenness/tg_betweenness_cent.gsql. \n",
      "closeness: \n",
      " approximate: \n",
      "  Algorithm Name: tg_closeness_cent_approx\n",
      "  Algorithm Link: https://github.com/tigergraph/gsql-graph-algorithms/blob/master/algorithms/Centrality/closeness/approximate/tg_closeness_cent_approx.gsql. \n",
      " exact: \n",
      "  Algorithm Name: tg_closeness_cent\n",
      "  Algorithm Link: https://github.com/tigergraph/gsql-graph-algorithms/blob/master/algorithms/Centrality/closeness/exact/tg_closeness_cent.gsql. \n",
      "degree: \n",
      " Algorithm Name: tg_degree_cent\n",
      " Algorithm Link: https://github.com/tigergraph/gsql-graph-algorithms/blob/master/algorithms/Centrality/degree/tg_degree_cent.gsql. \n",
      "eigenvector: \n",
      " Algorithm Name: tg_eigenvector_cent\n",
      " Algorithm Link: https://github.com/tigergraph/gsql-graph-algorithms/blob/master/algorithms/Centrality/eigenvector/tg_eigenvector_cent.gsql. \n",
      "harmonic: \n",
      " Algorithm Name: tg_harmonic_cent\n",
      " Algorithm Link: https://github.com/tigergraph/gsql-graph-algorithms/blob/master/algorithms/Centrality/harmonic/tg_harmonic_cent.gsql. \n"
     ]
    }
   ],
   "source": [
    "featurizer.listAlgorithms(\"Centrality\")"
   ]
  },
  {
   "cell_type": "code",
   "execution_count": 4,
   "metadata": {},
   "outputs": [
    {
     "data": {
      "text/plain": [
       "'tg_pagerank'"
      ]
     },
     "execution_count": 4,
     "metadata": {},
     "output_type": "execute_result"
    }
   ],
   "source": [
    "featurizer.installAlgorithm(\"tg_pagerank\")"
   ]
  },
  {
   "cell_type": "code",
   "execution_count": 5,
   "metadata": {},
   "outputs": [],
   "source": [
    "params={\"v_type\": \"NFT_User\", \"e_type\": \"USER_SOLD_TO\", 'result_attr': 'pagerank'}"
   ]
  },
  {
   "cell_type": "code",
   "execution_count": 6,
   "metadata": {},
   "outputs": [],
   "source": [
    "try:\n",
    "    featurizer.runAlgorithm(\"tg_pagerank\", params=params, feat_name=\"pagerank\", schema_name=[\"NFT_User\"], global_schema=False)\n",
    "except ConnectionError:\n",
    "    conn.runInstalledQuery(\"tg_pagerank\", params=params)"
   ]
  },
  {
   "cell_type": "code",
   "execution_count": 7,
   "metadata": {},
   "outputs": [
    {
     "name": "stdout",
     "output_type": "stream",
     "text": [
      "Overwriting ./average_selling_price.gsql\n"
     ]
    }
   ],
   "source": [
    "%%writefile ./average_selling_price.gsql\n",
    "\n",
    "CREATE QUERY average_selling_price(BOOL print_accum = FALSE, STRING result_attr =  \"\") { \n",
    "  AvgAccum @average_selling_price;\n",
    "  users = {NFT_User.*};\n",
    "  res = SELECT u FROM users:u -(USER_SOLD_NFT)-> Transaction:tgt\n",
    "        ACCUM u.@average_selling_price += tgt.usd_price;\n",
    "  \n",
    "  res = SELECT s FROM res:s\n",
    "    POST-ACCUM\n",
    "        IF result_attr != \"\" THEN \n",
    "            IF s.@average_selling_price == 0 THEN\n",
    "              s.setAttr(result_attr, -1)\n",
    "            ELSE\n",
    "              s.setAttr(result_attr, s.@average_selling_price) \n",
    "            END\n",
    "        END;\n",
    "  IF print_accum THEN\n",
    "    PRINT res;\n",
    "  END;\n",
    "}"
   ]
  },
  {
   "cell_type": "code",
   "execution_count": 8,
   "metadata": {},
   "outputs": [
    {
     "data": {
      "text/plain": [
       "'average_selling_price'"
      ]
     },
     "execution_count": 8,
     "metadata": {},
     "output_type": "execute_result"
    }
   ],
   "source": [
    "featurizer.installAlgorithm(\"average_selling_price\", query_path=\"./average_selling_price.gsql\")"
   ]
  },
  {
   "cell_type": "code",
   "execution_count": 9,
   "metadata": {},
   "outputs": [],
   "source": [
    "params = {\n",
    "    \"result_attr\": \"avg_sell_price\"\n",
    "}"
   ]
  },
  {
   "cell_type": "code",
   "execution_count": 10,
   "metadata": {},
   "outputs": [],
   "source": [
    "try:\n",
    "    featurizer.runAlgorithm(\"average_selling_price\", params=params, feat_name=\"avg_sell_price\", feat_type=\"FLOAT\", custom_query=True, schema_name=[\"NFT_User\"])\n",
    "except ConnectionError:\n",
    "    featurizer.runAlgorithm(\"average_selling_price\", params=params)"
   ]
  },
  {
   "cell_type": "code",
   "execution_count": 11,
   "metadata": {},
   "outputs": [],
   "source": [
    "df = conn.getVertexDataFrame(\"NFT_User\", where=\"avg_sell_price > 0\", limit=100_000)\n",
    "pr_sell = df[[\"pagerank\", \"avg_sell_price\"]]"
   ]
  },
  {
   "cell_type": "code",
   "execution_count": 12,
   "metadata": {},
   "outputs": [
    {
     "data": {
      "text/plain": [
       "<AxesSubplot:xlabel='pagerank', ylabel='avg_sell_price'>"
      ]
     },
     "execution_count": 12,
     "metadata": {},
     "output_type": "execute_result"
    },
    {
     "data": {
      "image/png": "[encoded data removed]",
      "text/plain": [
       "<Figure size 432x288 with 1 Axes>"
      ]
     },
     "metadata": {
      "needs_background": "light"
     },
     "output_type": "display_data"
    }
   ],
   "source": [
    "pr_sell.plot.scatter(x=\"pagerank\", y=\"avg_sell_price\", logx=True, logy=True)"
   ]
  },
  {
   "cell_type": "markdown",
   "metadata": {},
   "source": [
    "### Remove Outliers"
   ]
  },
  {
   "cell_type": "code",
   "execution_count": 14,
   "metadata": {},
   "outputs": [
    {
     "data": {
      "text/plain": [
       "<AxesSubplot:xlabel='pagerank', ylabel='avg_sell_price'>"
      ]
     },
     "execution_count": 14,
     "metadata": {},
     "output_type": "execute_result"
    },
    {
     "data": {
      "image/png": "[encoded data removed]",
      "text/plain": [
       "<Figure size 432x288 with 1 Axes>"
      ]
     },
     "metadata": {
      "needs_background": "light"
     },
     "output_type": "display_data"
    }
   ],
   "source": [
    "import numpy as np\n",
    "from scipy import stats\n",
    "pr_sell[(np.abs(stats.zscore(pr_sell)) < 3).all(axis=1)].plot.scatter(x=\"pagerank\", y=\"avg_sell_price\", logx=True, logy=True)"
   ]
  },
  {
   "cell_type": "code",
   "execution_count": 15,
   "metadata": {},
   "outputs": [
    {
     "name": "stdout",
     "output_type": "stream",
     "text": [
      "Available algorithms for category Community in the GDS (https://github.com/tigergraph/gsql-graph-algorithms):\n",
      "connected_components: \n",
      " strongly_connected_components: \n",
      "  standard: \n",
      "   Algorithm Name: tg_scc\n",
      "   Algorithm Link: https://github.com/tigergraph/gsql-graph-algorithms/blob/master/algorithms/Community/connected_components/strongly_connected_components/standard/tg_scc.gsql. \n",
      "k_core: \n",
      " Algorithm Name: tg_kcore\n",
      " Algorithm Link: https://github.com/tigergraph/gsql-graph-algorithms/blob/master/algorithms/Community/k_core/tg_kcore.gsql. \n",
      "label_propagation: \n",
      " Algorithm Name: tg_label_prop\n",
      " Algorithm Link: https://github.com/tigergraph/gsql-graph-algorithms/blob/master/algorithms/Community/label_propagation/tg_label_prop.gsql. \n",
      "local_clustering_coefficient: \n",
      " Algorithm Name: tg_lcc\n",
      " Algorithm Link: https://github.com/tigergraph/gsql-graph-algorithms/blob/master/algorithms/Community/local_clustering_coefficient/tg_lcc.gsql. \n",
      "louvain: \n",
      " Algorithm Name: tg_louvain\n",
      " Algorithm Link: https://github.com/tigergraph/gsql-graph-algorithms/blob/master/algorithms/Community/louvain/tg_louvain.gsql. \n",
      "triangle_counting: \n",
      " fast: \n",
      "  Algorithm Name: tg_tri_count_fast\n",
      "  Algorithm Link: https://github.com/tigergraph/gsql-graph-algorithms/blob/master/algorithms/Community/triangle_counting/fast/tg_tri_count_fast.gsql. \n"
     ]
    }
   ],
   "source": [
    "featurizer.listAlgorithms(\"Community\")"
   ]
  },
  {
   "cell_type": "code",
   "execution_count": 16,
   "metadata": {},
   "outputs": [
    {
     "data": {
      "text/plain": [
       "'tg_kcore'"
      ]
     },
     "execution_count": 16,
     "metadata": {},
     "output_type": "execute_result"
    }
   ],
   "source": [
    "featurizer.installAlgorithm(\"tg_kcore\")"
   ]
  },
  {
   "cell_type": "code",
   "execution_count": 17,
   "metadata": {},
   "outputs": [],
   "source": [
    "params = {\n",
    "    \"v_type\": \"NFT_User\",\n",
    "    \"e_type\": \"USER_SOLD_TO\",\n",
    "    \"print_accum\": False,\n",
    "    \"result_attr\": \"k_core\"\n",
    "}\n",
    "try:\n",
    "    featurizer.runAlgorithm(\"tg_kcore\", params = params, feat_name=\"k_core\", schema_name=[\"NFT_User\"])\n",
    "except ConnectionError:\n",
    "    featurizer.runAlgorithm(\"tg_kcore\", params = params)"
   ]
  },
  {
   "cell_type": "code",
   "execution_count": 18,
   "metadata": {},
   "outputs": [
    {
     "data": {
      "text/html": [
       "<div>\n",
       "<style scoped>\n",
       "    .dataframe tbody tr th:only-of-type {\n",
       "        vertical-align: middle;\n",
       "    }\n",
       "\n",
       "    .dataframe tbody tr th {\n",
       "        vertical-align: top;\n",
       "    }\n",
       "\n",
       "    .dataframe thead th {\n",
       "        text-align: right;\n",
       "    }\n",
       "</style>\n",
       "<table border=\"1\" class=\"dataframe\">\n",
       "  <thead>\n",
       "    <tr style=\"text-align: right;\">\n",
       "      <th></th>\n",
       "      <th>v_id</th>\n",
       "      <th>nft_user_id</th>\n",
       "      <th>username</th>\n",
       "      <th>embedding</th>\n",
       "      <th>pagerank</th>\n",
       "      <th>avg_sell_price</th>\n",
       "      <th>k_core</th>\n",
       "      <th>kcore_size</th>\n",
       "    </tr>\n",
       "  </thead>\n",
       "  <tbody>\n",
       "    <tr>\n",
       "      <th>0</th>\n",
       "      <td>5.sby.wam</td>\n",
       "      <td>5.sby.wam</td>\n",
       "      <td></td>\n",
       "      <td>[]</td>\n",
       "      <td>0.15</td>\n",
       "      <td>0.11192</td>\n",
       "      <td>1</td>\n",
       "      <td>0.75295</td>\n",
       "    </tr>\n",
       "    <tr>\n",
       "      <th>1</th>\n",
       "      <td>qjtb2.wam</td>\n",
       "      <td>qjtb2.wam</td>\n",
       "      <td></td>\n",
       "      <td>[]</td>\n",
       "      <td>0.15</td>\n",
       "      <td>24.66600</td>\n",
       "      <td>1</td>\n",
       "      <td>0.75295</td>\n",
       "    </tr>\n",
       "    <tr>\n",
       "      <th>2</th>\n",
       "      <td>0xb009388b7db8feb0891ba1e5c897f64110d10390</td>\n",
       "      <td>0xb009388b7db8feb0891ba1e5c897f64110d10390</td>\n",
       "      <td></td>\n",
       "      <td>[]</td>\n",
       "      <td>0.15</td>\n",
       "      <td>2259.84229</td>\n",
       "      <td>1</td>\n",
       "      <td>0.75295</td>\n",
       "    </tr>\n",
       "    <tr>\n",
       "      <th>3</th>\n",
       "      <td>n2.b.wam</td>\n",
       "      <td>n2.b.wam</td>\n",
       "      <td></td>\n",
       "      <td>[]</td>\n",
       "      <td>0.15</td>\n",
       "      <td>41.73400</td>\n",
       "      <td>1</td>\n",
       "      <td>0.75295</td>\n",
       "    </tr>\n",
       "    <tr>\n",
       "      <th>4</th>\n",
       "      <td>hpeby.wam</td>\n",
       "      <td>hpeby.wam</td>\n",
       "      <td></td>\n",
       "      <td>[]</td>\n",
       "      <td>0.15</td>\n",
       "      <td>0.05082</td>\n",
       "      <td>1</td>\n",
       "      <td>0.75295</td>\n",
       "    </tr>\n",
       "  </tbody>\n",
       "</table>\n",
       "</div>"
      ],
      "text/plain": [
       "                                         v_id  \\\n",
       "0                                   5.sby.wam   \n",
       "1                                   qjtb2.wam   \n",
       "2  0xb009388b7db8feb0891ba1e5c897f64110d10390   \n",
       "3                                    n2.b.wam   \n",
       "4                                   hpeby.wam   \n",
       "\n",
       "                                  nft_user_id username embedding  pagerank  \\\n",
       "0                                   5.sby.wam                 []      0.15   \n",
       "1                                   qjtb2.wam                 []      0.15   \n",
       "2  0xb009388b7db8feb0891ba1e5c897f64110d10390                 []      0.15   \n",
       "3                                    n2.b.wam                 []      0.15   \n",
       "4                                   hpeby.wam                 []      0.15   \n",
       "\n",
       "   avg_sell_price  k_core  kcore_size  \n",
       "0         0.11192       1     0.75295  \n",
       "1        24.66600       1     0.75295  \n",
       "2      2259.84229       1     0.75295  \n",
       "3        41.73400       1     0.75295  \n",
       "4         0.05082       1     0.75295  "
      ]
     },
     "execution_count": 18,
     "metadata": {},
     "output_type": "execute_result"
    }
   ],
   "source": [
    "df = conn.getVertexDataFrame(\"NFT_User\", where=\"avg_sell_price > 0\", limit=100_000)\n",
    "df.head()"
   ]
  },
  {
   "cell_type": "code",
   "execution_count": 19,
   "metadata": {},
   "outputs": [
    {
     "data": {
      "text/plain": [
       "1       15792\n",
       "2        3351\n",
       "3        1284\n",
       "4         617\n",
       "5         329\n",
       "        ...  \n",
       "80          1\n",
       "1117        1\n",
       "67          1\n",
       "175         1\n",
       "162         1\n",
       "Name: k_core, Length: 75, dtype: int64"
      ]
     },
     "execution_count": 19,
     "metadata": {},
     "output_type": "execute_result"
    }
   ],
   "source": [
    "df[\"k_core\"].value_counts()"
   ]
  },
  {
   "cell_type": "code",
   "execution_count": 20,
   "metadata": {},
   "outputs": [
    {
     "data": {
      "text/plain": [
       "75"
      ]
     },
     "execution_count": 20,
     "metadata": {},
     "output_type": "execute_result"
    }
   ],
   "source": [
    "len(df[\"k_core\"].unique())"
   ]
  },
  {
   "cell_type": "code",
   "execution_count": 21,
   "metadata": {},
   "outputs": [
    {
     "data": {
      "text/html": [
       "<div>\n",
       "<style scoped>\n",
       "    .dataframe tbody tr th:only-of-type {\n",
       "        vertical-align: middle;\n",
       "    }\n",
       "\n",
       "    .dataframe tbody tr th {\n",
       "        vertical-align: top;\n",
       "    }\n",
       "\n",
       "    .dataframe thead th {\n",
       "        text-align: right;\n",
       "    }\n",
       "</style>\n",
       "<table border=\"1\" class=\"dataframe\">\n",
       "  <thead>\n",
       "    <tr style=\"text-align: right;\">\n",
       "      <th></th>\n",
       "      <th>pagerank</th>\n",
       "      <th>avg_sell_price</th>\n",
       "    </tr>\n",
       "    <tr>\n",
       "      <th>k_core</th>\n",
       "      <th></th>\n",
       "      <th></th>\n",
       "    </tr>\n",
       "  </thead>\n",
       "  <tbody>\n",
       "    <tr>\n",
       "      <th>1</th>\n",
       "      <td>0.185720</td>\n",
       "      <td>313.042701</td>\n",
       "    </tr>\n",
       "    <tr>\n",
       "      <th>2</th>\n",
       "      <td>0.325241</td>\n",
       "      <td>153.347616</td>\n",
       "    </tr>\n",
       "    <tr>\n",
       "      <th>3</th>\n",
       "      <td>0.306290</td>\n",
       "      <td>70.342354</td>\n",
       "    </tr>\n",
       "    <tr>\n",
       "      <th>4</th>\n",
       "      <td>0.324568</td>\n",
       "      <td>149.226587</td>\n",
       "    </tr>\n",
       "    <tr>\n",
       "      <th>5</th>\n",
       "      <td>0.372241</td>\n",
       "      <td>99.356170</td>\n",
       "    </tr>\n",
       "    <tr>\n",
       "      <th>...</th>\n",
       "      <td>...</td>\n",
       "      <td>...</td>\n",
       "    </tr>\n",
       "    <tr>\n",
       "      <th>175</th>\n",
       "      <td>0.150000</td>\n",
       "      <td>0.782850</td>\n",
       "    </tr>\n",
       "    <tr>\n",
       "      <th>240</th>\n",
       "      <td>0.356240</td>\n",
       "      <td>2.261080</td>\n",
       "    </tr>\n",
       "    <tr>\n",
       "      <th>313</th>\n",
       "      <td>0.150000</td>\n",
       "      <td>10.029490</td>\n",
       "    </tr>\n",
       "    <tr>\n",
       "      <th>344</th>\n",
       "      <td>0.690210</td>\n",
       "      <td>3.490310</td>\n",
       "    </tr>\n",
       "    <tr>\n",
       "      <th>1117</th>\n",
       "      <td>0.150000</td>\n",
       "      <td>166.886180</td>\n",
       "    </tr>\n",
       "  </tbody>\n",
       "</table>\n",
       "<p>75 rows × 2 columns</p>\n",
       "</div>"
      ],
      "text/plain": [
       "        pagerank  avg_sell_price\n",
       "k_core                          \n",
       "1       0.185720      313.042701\n",
       "2       0.325241      153.347616\n",
       "3       0.306290       70.342354\n",
       "4       0.324568      149.226587\n",
       "5       0.372241       99.356170\n",
       "...          ...             ...\n",
       "175     0.150000        0.782850\n",
       "240     0.356240        2.261080\n",
       "313     0.150000       10.029490\n",
       "344     0.690210        3.490310\n",
       "1117    0.150000      166.886180\n",
       "\n",
       "[75 rows x 2 columns]"
      ]
     },
     "execution_count": 21,
     "metadata": {},
     "output_type": "execute_result"
    }
   ],
   "source": [
    "kcore_pr_sell = df[[\"pagerank\", \"avg_sell_price\", \"k_core\"]]\n",
    "\n",
    "kcore_pr_sell.groupby([\"k_core\"]).mean()"
   ]
  },
  {
   "cell_type": "code",
   "execution_count": 22,
   "metadata": {},
   "outputs": [],
   "source": [
    "size_of_core = df[\"k_core\"].value_counts()"
   ]
  },
  {
   "cell_type": "code",
   "execution_count": 23,
   "metadata": {},
   "outputs": [
    {
     "name": "stderr",
     "output_type": "stream",
     "text": [
      "/var/folders/6m/4_05ft595_77hxj48by2vf0c0000gp/T/ipykernel_65828/485414690.py:1: SettingWithCopyWarning: \n",
      "A value is trying to be set on a copy of a slice from a DataFrame.\n",
      "Try using .loc[row_indexer,col_indexer] = value instead\n",
      "\n",
      "See the caveats in the documentation: https://pandas.pydata.org/pandas-docs/stable/user_guide/indexing.html#returning-a-view-versus-a-copy\n",
      "  kcore_pr_sell[\"size_of_core\"] = kcore_pr_sell[\"k_core\"].apply(lambda x: size_of_core[x])\n"
     ]
    }
   ],
   "source": [
    "kcore_pr_sell[\"size_of_core\"] = kcore_pr_sell[\"k_core\"].apply(lambda x: size_of_core[x])"
   ]
  },
  {
   "cell_type": "code",
   "execution_count": 24,
   "metadata": {},
   "outputs": [
    {
     "data": {
      "text/html": [
       "<div>\n",
       "<style scoped>\n",
       "    .dataframe tbody tr th:only-of-type {\n",
       "        vertical-align: middle;\n",
       "    }\n",
       "\n",
       "    .dataframe tbody tr th {\n",
       "        vertical-align: top;\n",
       "    }\n",
       "\n",
       "    .dataframe thead th {\n",
       "        text-align: right;\n",
       "    }\n",
       "</style>\n",
       "<table border=\"1\" class=\"dataframe\">\n",
       "  <thead>\n",
       "    <tr style=\"text-align: right;\">\n",
       "      <th></th>\n",
       "      <th>pagerank</th>\n",
       "      <th>avg_sell_price</th>\n",
       "      <th>k_core</th>\n",
       "      <th>size_of_core</th>\n",
       "    </tr>\n",
       "  </thead>\n",
       "  <tbody>\n",
       "    <tr>\n",
       "      <th>0</th>\n",
       "      <td>0.15</td>\n",
       "      <td>0.11192</td>\n",
       "      <td>1</td>\n",
       "      <td>15792</td>\n",
       "    </tr>\n",
       "    <tr>\n",
       "      <th>1</th>\n",
       "      <td>0.15</td>\n",
       "      <td>24.66600</td>\n",
       "      <td>1</td>\n",
       "      <td>15792</td>\n",
       "    </tr>\n",
       "    <tr>\n",
       "      <th>2</th>\n",
       "      <td>0.15</td>\n",
       "      <td>2259.84229</td>\n",
       "      <td>1</td>\n",
       "      <td>15792</td>\n",
       "    </tr>\n",
       "    <tr>\n",
       "      <th>3</th>\n",
       "      <td>0.15</td>\n",
       "      <td>41.73400</td>\n",
       "      <td>1</td>\n",
       "      <td>15792</td>\n",
       "    </tr>\n",
       "    <tr>\n",
       "      <th>4</th>\n",
       "      <td>0.15</td>\n",
       "      <td>0.05082</td>\n",
       "      <td>1</td>\n",
       "      <td>15792</td>\n",
       "    </tr>\n",
       "  </tbody>\n",
       "</table>\n",
       "</div>"
      ],
      "text/plain": [
       "   pagerank  avg_sell_price  k_core  size_of_core\n",
       "0      0.15         0.11192       1         15792\n",
       "1      0.15        24.66600       1         15792\n",
       "2      0.15      2259.84229       1         15792\n",
       "3      0.15        41.73400       1         15792\n",
       "4      0.15         0.05082       1         15792"
      ]
     },
     "execution_count": 24,
     "metadata": {},
     "output_type": "execute_result"
    }
   ],
   "source": [
    "kcore_pr_sell.head()"
   ]
  },
  {
   "cell_type": "code",
   "execution_count": 25,
   "metadata": {},
   "outputs": [
    {
     "data": {
      "text/html": [
       "<div>\n",
       "<style scoped>\n",
       "    .dataframe tbody tr th:only-of-type {\n",
       "        vertical-align: middle;\n",
       "    }\n",
       "\n",
       "    .dataframe tbody tr th {\n",
       "        vertical-align: top;\n",
       "    }\n",
       "\n",
       "    .dataframe thead th {\n",
       "        text-align: right;\n",
       "    }\n",
       "</style>\n",
       "<table border=\"1\" class=\"dataframe\">\n",
       "  <thead>\n",
       "    <tr style=\"text-align: right;\">\n",
       "      <th></th>\n",
       "      <th>avg_sell_price</th>\n",
       "      <th>size_of_core</th>\n",
       "    </tr>\n",
       "  </thead>\n",
       "  <tbody>\n",
       "    <tr>\n",
       "      <th>avg_sell_price</th>\n",
       "      <td>1.000000</td>\n",
       "      <td>0.025765</td>\n",
       "    </tr>\n",
       "    <tr>\n",
       "      <th>size_of_core</th>\n",
       "      <td>0.025765</td>\n",
       "      <td>1.000000</td>\n",
       "    </tr>\n",
       "  </tbody>\n",
       "</table>\n",
       "</div>"
      ],
      "text/plain": [
       "                avg_sell_price  size_of_core\n",
       "avg_sell_price        1.000000      0.025765\n",
       "size_of_core          0.025765      1.000000"
      ]
     },
     "execution_count": 25,
     "metadata": {},
     "output_type": "execute_result"
    }
   ],
   "source": [
    "kcore_pr_sell[[\"avg_sell_price\", \"size_of_core\"]].corr()"
   ]
  },
  {
   "cell_type": "code",
   "execution_count": 26,
   "metadata": {},
   "outputs": [
    {
     "data": {
      "text/plain": [
       "<AxesSubplot:xlabel='size_of_core', ylabel='avg_sell_price'>"
      ]
     },
     "execution_count": 26,
     "metadata": {},
     "output_type": "execute_result"
    },
    {
     "data": {
      "image/png": "[encoded data removed]",
      "text/plain": [
       "<Figure size 432x288 with 1 Axes>"
      ]
     },
     "metadata": {
      "needs_background": "light"
     },
     "output_type": "display_data"
    }
   ],
   "source": [
    "kcore_pr_sell.plot.scatter(x=\"size_of_core\", y=\"avg_sell_price\", logx=True, logy=True)"
   ]
  },
  {
   "cell_type": "code",
   "execution_count": 27,
   "metadata": {},
   "outputs": [
    {
     "data": {
      "text/plain": [
       "<AxesSubplot:xlabel='size_of_core', ylabel='avg_sell_price'>"
      ]
     },
     "execution_count": 27,
     "metadata": {},
     "output_type": "execute_result"
    },
    {
     "data": {
      "image/png": "[encoded data removed]",
      "text/plain": [
       "<Figure size 432x288 with 1 Axes>"
      ]
     },
     "metadata": {
      "needs_background": "light"
     },
     "output_type": "display_data"
    }
   ],
   "source": [
    "kcore_pr_sell[(np.abs(stats.zscore(kcore_pr_sell)) < 3).all(axis=1)].plot.scatter(x=\"size_of_core\", y=\"avg_sell_price\", logx=True, logy=True)"
   ]
  },
  {
   "cell_type": "code",
   "execution_count": 28,
   "metadata": {},
   "outputs": [
    {
     "data": {
      "text/plain": [
       "<AxesSubplot:xlabel='size_of_core', ylabel='pagerank'>"
      ]
     },
     "execution_count": 28,
     "metadata": {},
     "output_type": "execute_result"
    },
    {
     "data": {
      "image/png": "[encoded data removed]",
      "text/plain": [
       "<Figure size 432x288 with 1 Axes>"
      ]
     },
     "metadata": {
      "needs_background": "light"
     },
     "output_type": "display_data"
    }
   ],
   "source": [
    "kcore_pr_sell.plot.scatter(x=\"size_of_core\", y=\"pagerank\", logx=True, logy=True)"
   ]
  },
  {
   "cell_type": "code",
   "execution_count": 29,
   "metadata": {},
   "outputs": [
    {
     "data": {
      "text/plain": [
       "<AxesSubplot:xlabel='size_of_core', ylabel='pagerank'>"
      ]
     },
     "execution_count": 29,
     "metadata": {},
     "output_type": "execute_result"
    },
    {
     "data": {
      "image/png": "[encoded data removed]",
      "text/plain": [
       "<Figure size 432x288 with 1 Axes>"
      ]
     },
     "metadata": {
      "needs_background": "light"
     },
     "output_type": "display_data"
    }
   ],
   "source": [
    "kcore_pr_sell[(np.abs(stats.zscore(kcore_pr_sell)) < 3).all(axis=1)].plot.scatter(x=\"size_of_core\", y=\"pagerank\", logx=True, logy=True)"
   ]
  },
  {
   "cell_type": "code",
   "execution_count": null,
   "metadata": {},
   "outputs": [],
   "source": []
  }
 ],
 "metadata": {
  "interpreter": {
   "hash": "58e1c476a485e41cfbe41589baaac1849e255b67efca409760b0ec34d7f4c191"
  },
  "kernelspec": {
   "display_name": "Python 3.9.12 ('kdd2022')",
   "language": "python",
   "name": "python3"
  },
  "language_info": {
   "codemirror_mode": {
    "name": "ipython",
    "version": 3
   },
   "file_extension": ".py",
   "mimetype": "text/x-python",
   "name": "python",
   "nbconvert_exporter": "python",
   "pygments_lexer": "ipython3",
   "version": "3.9.12"
  },
  "orig_nbformat": 4
 },
 "nbformat": 4,
 "nbformat_minor": 2
}
