{
 "cells": [
  {
   "cell_type": "code",
   "execution_count": 1,
   "metadata": {},
   "outputs": [],
   "source": [
    "import pyTigerGraph as tg\n",
    "\n",
    "conn = tg.TigerGraphConnection(\"http://3.144.132.94\", graphname=\"KDD_2022_NFT\")"
   ]
  },
  {
   "cell_type": "code",
   "execution_count": 3,
   "metadata": {},
   "outputs": [],
   "source": [
    "featurizer = conn.gds.featurizer()"
   ]
  },
  {
   "cell_type": "code",
   "execution_count": 5,
   "metadata": {},
   "outputs": [
    {
     "name": "stdout",
     "output_type": "stream",
     "text": [
      "Available algorithms for category Centrality in the GDS (https://github.com/tigergraph/gsql-graph-algorithms):\n",
      "pagerank: \n",
      " global: \n",
      "  weighted: \n",
      "   https://github.com/tigergraph/gsql-graph-algorithms/blob/master/algorithms/Centrality/pagerank/global/weighted/tg_pagerank_wt.gsql. \n",
      "  unweighted: \n",
      "   https://github.com/tigergraph/gsql-graph-algorithms/blob/master/algorithms/Centrality/pagerank/global/unweighted/tg_pagerank.gsql. \n",
      "article_rank: \n",
      " https://github.com/tigergraph/gsql-graph-algorithms/blob/master/algorithms/Centrality/article_rank/tg_article_rank.gsql. \n",
      "Betweenness: \n",
      " https://github.com/tigergraph/gsql-graph-algorithms/blob/master/algorithms/Centrality/betweenness/tg_betweenness_cent.gsql. \n",
      "closeness: \n",
      " approximate: \n",
      "  https://github.com/tigergraph/gsql-graph-algorithms/blob/master/algorithms/Centrality/closeness/approximate/tg_closeness_cent_approx.gsql. \n",
      " exact: \n",
      "  https://github.com/tigergraph/gsql-graph-algorithms/blob/master/algorithms/Centrality/closeness/exact/tg_closeness_cent.gsql. \n",
      "degree: \n",
      " https://github.com/tigergraph/gsql-graph-algorithms/blob/master/algorithms/Centrality/degree/tg_degree_cent.gsql. \n",
      "eigenvector: \n",
      " https://github.com/tigergraph/gsql-graph-algorithms/blob/master/algorithms/Centrality/eigenvector/tg_eigenvector_cent.gsql. \n",
      "harmonic: \n",
      " https://github.com/tigergraph/gsql-graph-algorithms/blob/master/algorithms/Centrality/harmonic/tg_harmonic_cent.gsql. \n"
     ]
    }
   ],
   "source": [
    "featurizer.listAlgorithms(\"Centrality\")"
   ]
  },
  {
   "cell_type": "code",
   "execution_count": 7,
   "metadata": {},
   "outputs": [
    {
     "name": "stdout",
     "output_type": "stream",
     "text": [
      "Installing and optimizing the queries, it might take a minute\n"
     ]
    },
    {
     "data": {
      "text/plain": [
       "'tg_pagerank'"
      ]
     },
     "execution_count": 7,
     "metadata": {},
     "output_type": "execute_result"
    }
   ],
   "source": [
    "featurizer.installAlgorithm(\"tg_pagerank\")"
   ]
  },
  {
   "cell_type": "code",
   "execution_count": 10,
   "metadata": {},
   "outputs": [
    {
     "ename": "ConnectionError",
     "evalue": "Failed to create global schema change jobs: [add_VERTEX_attr_DLTQUC].",
     "output_type": "error",
     "traceback": [
      "\u001b[0;31m---------------------------------------------------------------------------\u001b[0m",
      "\u001b[0;31mConnectionError\u001b[0m                           Traceback (most recent call last)",
      "\u001b[1;32m/Users/parkererickson/kdd2022-tutorial/notebooks/graph_algorithms.ipynb Cell 5'\u001b[0m in \u001b[0;36m<cell line: 1>\u001b[0;34m()\u001b[0m\n\u001b[0;32m----> <a href='vscode-notebook-cell:/Users/parkererickson/kdd2022-tutorial/notebooks/graph_algorithms.ipynb#ch0000004?line=0'>1</a>\u001b[0m featurizer\u001b[39m.\u001b[39;49mrunAlgorithm(\u001b[39m\"\u001b[39;49m\u001b[39mtg_pagerank\u001b[39;49m\u001b[39m\"\u001b[39;49m, params\u001b[39m=\u001b[39;49m{\u001b[39m\"\u001b[39;49m\u001b[39mv_type\u001b[39;49m\u001b[39m\"\u001b[39;49m: \u001b[39m\"\u001b[39;49m\u001b[39mNFT_User\u001b[39;49m\u001b[39m\"\u001b[39;49m, \u001b[39m\"\u001b[39;49m\u001b[39me_type\u001b[39;49m\u001b[39m\"\u001b[39;49m: \u001b[39m\"\u001b[39;49m\u001b[39mUSER_SOLD_TO\u001b[39;49m\u001b[39m\"\u001b[39;49m}, feat_name\u001b[39m=\u001b[39;49m\u001b[39m\"\u001b[39;49m\u001b[39mpagerank\u001b[39;49m\u001b[39m\"\u001b[39;49m, schema_name\u001b[39m=\u001b[39;49m[\u001b[39m\"\u001b[39;49m\u001b[39mNFT_User\u001b[39;49m\u001b[39m\"\u001b[39;49m])\n",
      "File \u001b[0;32m/opt/anaconda3/envs/kdd2022/lib/python3.9/site-packages/pyTigerGraph/gds/featurizer.py:346\u001b[0m, in \u001b[0;36mFeaturizer.runAlgorithm\u001b[0;34m(self, query_name, params, feat_name, schema_name, timeout, sizeLimit)\u001b[0m\n\u001b[1;32m    <a href='file:///opt/anaconda3/envs/kdd2022/lib/python3.9/site-packages/pyTigerGraph/gds/featurizer.py?line=343'>344</a>\u001b[0m     params[\u001b[39m\"\u001b[39m\u001b[39mresult_attr\u001b[39m\u001b[39m\"\u001b[39m] \u001b[39m=\u001b[39m feat_name\n\u001b[1;32m    <a href='file:///opt/anaconda3/envs/kdd2022/lib/python3.9/site-packages/pyTigerGraph/gds/featurizer.py?line=344'>345</a>\u001b[0m     \u001b[39mif\u001b[39;00m query_name \u001b[39m!=\u001b[39m \u001b[39m\"\u001b[39m\u001b[39mtg_fastRP\u001b[39m\u001b[39m\"\u001b[39m:\n\u001b[0;32m--> <a href='file:///opt/anaconda3/envs/kdd2022/lib/python3.9/site-packages/pyTigerGraph/gds/featurizer.py?line=345'>346</a>\u001b[0m         _ \u001b[39m=\u001b[39m \u001b[39mself\u001b[39;49m\u001b[39m.\u001b[39;49m_add_attribute(schema_type,\u001b[39mself\u001b[39;49m\u001b[39m.\u001b[39;49mqueryResult_type_dict[query_name],feat_name,schema_name)\n\u001b[1;32m    <a href='file:///opt/anaconda3/envs/kdd2022/lib/python3.9/site-packages/pyTigerGraph/gds/featurizer.py?line=346'>347</a>\u001b[0m \u001b[39melse\u001b[39;00m:\n\u001b[1;32m    <a href='file:///opt/anaconda3/envs/kdd2022/lib/python3.9/site-packages/pyTigerGraph/gds/featurizer.py?line=347'>348</a>\u001b[0m     query_ulr\u001b[39m=\u001b[39m \u001b[39mself\u001b[39m\u001b[39m.\u001b[39m_get_query_url(query_name)\n",
      "File \u001b[0;32m/opt/anaconda3/envs/kdd2022/lib/python3.9/site-packages/pyTigerGraph/gds/featurizer.py:263\u001b[0m, in \u001b[0;36mFeaturizer._add_attribute\u001b[0;34m(self, schema_type, attr_type, attr_name, schema_name)\u001b[0m\n\u001b[1;32m    <a href='file:///opt/anaconda3/envs/kdd2022/lib/python3.9/site-packages/pyTigerGraph/gds/featurizer.py?line=260'>261</a>\u001b[0m status \u001b[39m=\u001b[39m resp\u001b[39m.\u001b[39msplitlines()[\u001b[39m-\u001b[39m\u001b[39m1\u001b[39m]\n\u001b[1;32m    <a href='file:///opt/anaconda3/envs/kdd2022/lib/python3.9/site-packages/pyTigerGraph/gds/featurizer.py?line=261'>262</a>\u001b[0m \u001b[39mif\u001b[39;00m \u001b[39m\"\u001b[39m\u001b[39mFailed\u001b[39m\u001b[39m\"\u001b[39m \u001b[39min\u001b[39;00m status:\n\u001b[0;32m--> <a href='file:///opt/anaconda3/envs/kdd2022/lib/python3.9/site-packages/pyTigerGraph/gds/featurizer.py?line=262'>263</a>\u001b[0m     \u001b[39mraise\u001b[39;00m \u001b[39mConnectionError\u001b[39;00m(status)\n\u001b[1;32m    <a href='file:///opt/anaconda3/envs/kdd2022/lib/python3.9/site-packages/pyTigerGraph/gds/featurizer.py?line=263'>264</a>\u001b[0m \u001b[39melse\u001b[39;00m:\n\u001b[1;32m    <a href='file:///opt/anaconda3/envs/kdd2022/lib/python3.9/site-packages/pyTigerGraph/gds/featurizer.py?line=264'>265</a>\u001b[0m     \u001b[39mprint\u001b[39m(status)\n",
      "\u001b[0;31mConnectionError\u001b[0m: Failed to create global schema change jobs: [add_VERTEX_attr_DLTQUC]."
     ]
    }
   ],
   "source": [
    "featurizer.runAlgorithm(\"tg_pagerank\", params={\"v_type\": \"NFT_User\", \"e_type\": \"USER_SOLD_TO\"}, feat_name=\"pagerank\", schema_name=[\"NFT_User\"])"
   ]
  },
  {
   "cell_type": "code",
   "execution_count": null,
   "metadata": {},
   "outputs": [],
   "source": []
  }
 ],
 "metadata": {
  "interpreter": {
   "hash": "58e1c476a485e41cfbe41589baaac1849e255b67efca409760b0ec34d7f4c191"
  },
  "kernelspec": {
   "display_name": "Python 3.9.12 ('kdd2022')",
   "language": "python",
   "name": "python3"
  },
  "language_info": {
   "codemirror_mode": {
    "name": "ipython",
    "version": 3
   },
   "file_extension": ".py",
   "mimetype": "text/x-python",
   "name": "python",
   "nbconvert_exporter": "python",
   "pygments_lexer": "ipython3",
   "version": "3.9.12"
  },
  "orig_nbformat": 4
 },
 "nbformat": 4,
 "nbformat_minor": 2
}
