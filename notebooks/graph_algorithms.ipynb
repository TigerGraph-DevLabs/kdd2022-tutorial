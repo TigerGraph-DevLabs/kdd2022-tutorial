{
 "cells": [
  {
   "cell_type": "code",
   "execution_count": 1,
   "metadata": {},
   "outputs": [],
   "source": [
    "import pyTigerGraph as tg\n",
    "\n",
    "conn = tg.TigerGraphConnection(\"http://3.144.132.94\", graphname=\"KDD_2022_NFT\")"
   ]
  },
  {
   "cell_type": "code",
   "execution_count": 2,
   "metadata": {},
   "outputs": [],
   "source": [
    "featurizer = conn.gds.featurizer()"
   ]
  },
  {
   "cell_type": "code",
   "execution_count": 3,
   "metadata": {},
   "outputs": [
    {
     "name": "stdout",
     "output_type": "stream",
     "text": [
      "Available algorithms for category Centrality in the GDS (https://github.com/tigergraph/gsql-graph-algorithms):\n",
      "pagerank: \n",
      " global: \n",
      "  weighted: \n",
      "   Algorithm Name: tg_pagerank_wt\n",
      "   Algorithm Link: https://github.com/tigergraph/gsql-graph-algorithms/blob/master/algorithms/Centrality/pagerank/global/weighted/tg_pagerank_wt.gsql. \n",
      "  unweighted: \n",
      "   Algorithm Name: tg_pagerank\n",
      "   Algorithm Link: https://github.com/tigergraph/gsql-graph-algorithms/blob/master/algorithms/Centrality/pagerank/global/unweighted/tg_pagerank.gsql. \n",
      "article_rank: \n",
      " Algorithm Name: tg_article_rank\n",
      " Algorithm Link: https://github.com/tigergraph/gsql-graph-algorithms/blob/master/algorithms/Centrality/article_rank/tg_article_rank.gsql. \n",
      "Betweenness: \n",
      " Algorithm Name: tg_betweenness_cent\n",
      " Algorithm Link: https://github.com/tigergraph/gsql-graph-algorithms/blob/master/algorithms/Centrality/betweenness/tg_betweenness_cent.gsql. \n",
      "closeness: \n",
      " approximate: \n",
      "  Algorithm Name: tg_closeness_cent_approx\n",
      "  Algorithm Link: https://github.com/tigergraph/gsql-graph-algorithms/blob/master/algorithms/Centrality/closeness/approximate/tg_closeness_cent_approx.gsql. \n",
      " exact: \n",
      "  Algorithm Name: tg_closeness_cent\n",
      "  Algorithm Link: https://github.com/tigergraph/gsql-graph-algorithms/blob/master/algorithms/Centrality/closeness/exact/tg_closeness_cent.gsql. \n",
      "degree: \n",
      " Algorithm Name: tg_degree_cent\n",
      " Algorithm Link: https://github.com/tigergraph/gsql-graph-algorithms/blob/master/algorithms/Centrality/degree/tg_degree_cent.gsql. \n",
      "eigenvector: \n",
      " Algorithm Name: tg_eigenvector_cent\n",
      " Algorithm Link: https://github.com/tigergraph/gsql-graph-algorithms/blob/master/algorithms/Centrality/eigenvector/tg_eigenvector_cent.gsql. \n",
      "harmonic: \n",
      " Algorithm Name: tg_harmonic_cent\n",
      " Algorithm Link: https://github.com/tigergraph/gsql-graph-algorithms/blob/master/algorithms/Centrality/harmonic/tg_harmonic_cent.gsql. \n"
     ]
    }
   ],
   "source": [
    "featurizer.listAlgorithms(\"Centrality\")"
   ]
  },
  {
   "cell_type": "code",
   "execution_count": 4,
   "metadata": {},
   "outputs": [
    {
     "name": "stdout",
     "output_type": "stream",
     "text": [
      "Installing and optimizing the queries, it might take a minute\n"
     ]
    },
    {
     "data": {
      "text/plain": [
       "'tg_pagerank'"
      ]
     },
     "execution_count": 4,
     "metadata": {},
     "output_type": "execute_result"
    }
   ],
   "source": [
    "featurizer.installAlgorithm(\"tg_pagerank\")"
   ]
  },
  {
   "cell_type": "code",
   "execution_count": 5,
   "metadata": {},
   "outputs": [],
   "source": [
    "params={\"v_type\": \"NFT_User\", \"e_type\": \"USER_SOLD_TO\", 'result_attr': 'pagerank'}"
   ]
  },
  {
   "cell_type": "code",
   "execution_count": 6,
   "metadata": {},
   "outputs": [
    {
     "name": "stdout",
     "output_type": "stream",
     "text": [
      "The job add_VERTEX_attr_AoDwNx completes in 23.545 seconds!\n"
     ]
    },
    {
     "data": {
      "text/plain": [
       "[{'@@top_scores_heap': [{'Vertex_ID': '0x76481caa104b5f6bccb540dae4cefaf1c398ebea',\n",
       "    'score': 29.17597},\n",
       "   {'Vertex_ID': 'contractwork', 'score': 11.47154},\n",
       "   {'Vertex_ID': 'unbaw.wam', 'score': 10.88844},\n",
       "   {'Vertex_ID': 'twmqw.wam', 'score': 9.4712},\n",
       "   {'Vertex_ID': 'axvqu.wam', 'score': 8.56554},\n",
       "   {'Vertex_ID': '0x0008d343091ef8bd3efa730f6aae5a26a285c7a2',\n",
       "    'score': 7.60148},\n",
       "   {'Vertex_ID': 'ruk12.wam', 'score': 7.52706},\n",
       "   {'Vertex_ID': 'e2vai.waa', 'score': 7.4015},\n",
       "   {'Vertex_ID': 'ey4b.wam', 'score': 6.6276},\n",
       "   {'Vertex_ID': '2okbc.wam', 'score': 6.49066},\n",
       "   {'Vertex_ID': '0x618242eb5b2e41ad715a6e1c01aa6d28dea2a911',\n",
       "    'score': 6.45906},\n",
       "   {'Vertex_ID': '1n.r2.wam', 'score': 6.45701},\n",
       "   {'Vertex_ID': 'r2bak.wam', 'score': 6.03591},\n",
       "   {'Vertex_ID': 'svwqu.wam', 'score': 5.77344},\n",
       "   {'Vertex_ID': 'x5sr.wam', 'score': 5.76362},\n",
       "   {'Vertex_ID': 'cedr.wam', 'score': 5.58719},\n",
       "   {'Vertex_ID': 'p4.qw.wam', 'score': 5.5842},\n",
       "   {'Vertex_ID': '0xb04239b53806ab31141e6cd47c63fb3480cac908',\n",
       "    'score': 5.5035},\n",
       "   {'Vertex_ID': 'ilaaw.wam', 'score': 5.31527},\n",
       "   {'Vertex_ID': 'pmmqy.wam', 'score': 5.30213},\n",
       "   {'Vertex_ID': 'b3qqu.wam', 'score': 5.10655},\n",
       "   {'Vertex_ID': 'fvfqu.wam', 'score': 4.96764},\n",
       "   {'Vertex_ID': 'bzkao.wam', 'score': 4.78277},\n",
       "   {'Vertex_ID': 'fkwb2.wam', 'score': 4.75387},\n",
       "   {'Vertex_ID': 'r3wb.wam', 'score': 4.70659},\n",
       "   {'Vertex_ID': 'np2qw.wam', 'score': 4.70406},\n",
       "   {'Vertex_ID': '5fnay.wam', 'score': 4.61468},\n",
       "   {'Vertex_ID': 'uzuqu.wam', 'score': 4.4426},\n",
       "   {'Vertex_ID': 'kfwau.wam', 'score': 4.40935},\n",
       "   {'Vertex_ID': 'jerr4.wam', 'score': 4.40683},\n",
       "   {'Vertex_ID': 'abtqu.wam', 'score': 4.37358},\n",
       "   {'Vertex_ID': 'njdau.wam', 'score': 4.31101},\n",
       "   {'Vertex_ID': 'trqra.wam', 'score': 4.26613},\n",
       "   {'Vertex_ID': 'olyaw.wam', 'score': 4.24747},\n",
       "   {'Vertex_ID': 'yyxba.wam', 'score': 4.16408},\n",
       "   {'Vertex_ID': 'qfhaw.wam', 'score': 4.09295},\n",
       "   {'Vertex_ID': '3viqo.wam', 'score': 3.90634},\n",
       "   {'Vertex_ID': 'bfdau.wam', 'score': 3.89328},\n",
       "   {'Vertex_ID': 'rxoqy.wam', 'score': 3.86216},\n",
       "   {'Vertex_ID': 'monkeycardsa', 'score': 3.85921},\n",
       "   {'Vertex_ID': 'noqaw.wam', 'score': 3.82829},\n",
       "   {'Vertex_ID': '1agaq.wam', 'score': 3.8279},\n",
       "   {'Vertex_ID': 'twdqq.wam', 'score': 3.79981},\n",
       "   {'Vertex_ID': 'joiau.wam', 'score': 3.76084},\n",
       "   {'Vertex_ID': 'py1li.wam', 'score': 3.70682},\n",
       "   {'Vertex_ID': 'f.l1k.wam', 'score': 3.67392},\n",
       "   {'Vertex_ID': 'qhurm.wam', 'score': 3.67054},\n",
       "   {'Vertex_ID': '245b2.wam', 'score': 3.64995},\n",
       "   {'Vertex_ID': 'j2qau.wam', 'score': 3.64305},\n",
       "   {'Vertex_ID': 'cqcau.wam', 'score': 3.54936},\n",
       "   {'Vertex_ID': 'rs.aw.wam', 'score': 3.53713},\n",
       "   {'Vertex_ID': '33jau.wam', 'score': 3.5077},\n",
       "   {'Vertex_ID': '0x3aa80b5a79854cdbb7b65f6c851946ce1d781c7c',\n",
       "    'score': 3.48857},\n",
       "   {'Vertex_ID': 'xzhb2.wam', 'score': 3.48566},\n",
       "   {'Vertex_ID': 'i2xqy.wam', 'score': 3.46172},\n",
       "   {'Vertex_ID': 'kd4b.wam', 'score': 3.45222},\n",
       "   {'Vertex_ID': 'rjwas.wam', 'score': 3.44375},\n",
       "   {'Vertex_ID': 'svkqu.wam', 'score': 3.4055},\n",
       "   {'Vertex_ID': '4zuau.wam', 'score': 3.3929},\n",
       "   {'Vertex_ID': 'yjdqu.wam', 'score': 3.31534},\n",
       "   {'Vertex_ID': 'qntqu.wam', 'score': 3.29888},\n",
       "   {'Vertex_ID': 'frcqu.wam', 'score': 3.18848},\n",
       "   {'Vertex_ID': 'tusay.wam', 'score': 3.17823},\n",
       "   {'Vertex_ID': 'v.25g.wam', 'score': 3.14342},\n",
       "   {'Vertex_ID': 'jocru.wam', 'score': 3.12585},\n",
       "   {'Vertex_ID': 'ajgqu.wam', 'score': 3.11015},\n",
       "   {'Vertex_ID': 'yzxqu.wam', 'score': 3.09273},\n",
       "   {'Vertex_ID': '5wjqw.wam', 'score': 3.05305},\n",
       "   {'Vertex_ID': '0xa6fe83dcf28cc982818656ba680e03416824d5e4',\n",
       "    'score': 2.99946},\n",
       "   {'Vertex_ID': 'trfr.wam', 'score': 2.95819},\n",
       "   {'Vertex_ID': 'qgsra.wam', 'score': 2.95267},\n",
       "   {'Vertex_ID': '0x61592a6f682bbabfd743aa7596ee269e7448212c',\n",
       "    'score': 2.91608},\n",
       "   {'Vertex_ID': 'rxfrk.wam', 'score': 2.91415},\n",
       "   {'Vertex_ID': 'ho4aw.wam', 'score': 2.86313},\n",
       "   {'Vertex_ID': 'blopsie.za', 'score': 2.85889},\n",
       "   {'Vertex_ID': 'j1lr4.wam', 'score': 2.83847},\n",
       "   {'Vertex_ID': 'kzjau.wam', 'score': 2.82319},\n",
       "   {'Vertex_ID': 'xtjqu.wam', 'score': 2.82249},\n",
       "   {'Vertex_ID': 'yfcqu.wam', 'score': 2.80988},\n",
       "   {'Vertex_ID': 'x4rqw.wam', 'score': 2.80341},\n",
       "   {'Vertex_ID': 'ho4r2.wam', 'score': 2.79827},\n",
       "   {'Vertex_ID': '0xbc9ca5bd0f07700929f8d538233b0a9e60f4ddc5',\n",
       "    'score': 2.75548},\n",
       "   {'Vertex_ID': 'wtsr4.wam', 'score': 2.7553},\n",
       "   {'Vertex_ID': 'jefr.wam', 'score': 2.71709},\n",
       "   {'Vertex_ID': 'jf1qi.wam', 'score': 2.70945},\n",
       "   {'Vertex_ID': 'kstra.wam', 'score': 2.70568},\n",
       "   {'Vertex_ID': 'lk5aw.wam', 'score': 2.69601},\n",
       "   {'Vertex_ID': '3mqqu.wam', 'score': 2.68669},\n",
       "   {'Vertex_ID': 'mejqy.wam', 'score': 2.66785},\n",
       "   {'Vertex_ID': 'kaaqy.wam', 'score': 2.63783},\n",
       "   {'Vertex_ID': '0xab5853ddb6b5a8b0dcfbe9a9d034b45ef703f5be',\n",
       "    'score': 2.63238},\n",
       "   {'Vertex_ID': '0xec77c7cedebef0a56eab58330870bb49c542b6eb',\n",
       "    'score': 2.61933},\n",
       "   {'Vertex_ID': 'twjaw.wam', 'score': 2.57416},\n",
       "   {'Vertex_ID': '0x023c74b67dfcf4c20875a079e59873d8bbe42449',\n",
       "    'score': 2.57193},\n",
       "   {'Vertex_ID': 'wkwaw.wam', 'score': 2.57183},\n",
       "   {'Vertex_ID': 'tnequ.wam', 'score': 2.56507},\n",
       "   {'Vertex_ID': 'waxgod.gm', 'score': 2.56052},\n",
       "   {'Vertex_ID': 'lgdqw.wam', 'score': 2.55257},\n",
       "   {'Vertex_ID': 'g.dqy.wam', 'score': 2.54999},\n",
       "   {'Vertex_ID': '3diau.wam', 'score': 2.54937}]}]"
      ]
     },
     "execution_count": 6,
     "metadata": {},
     "output_type": "execute_result"
    }
   ],
   "source": [
    "featurizer.runAlgorithm(\"tg_pagerank\", params=params, feat_name=\"pagerank\", schema_name=[\"NFT_User\"], global_schema=False)"
   ]
  },
  {
   "cell_type": "code",
   "execution_count": 7,
   "metadata": {},
   "outputs": [
    {
     "name": "stdout",
     "output_type": "stream",
     "text": [
      "Overwriting ./average_selling_price.gsql\n"
     ]
    }
   ],
   "source": [
    "%%writefile ./average_selling_price.gsql\n",
    "\n",
    "CREATE QUERY average_selling_price(BOOL print_accum = FALSE, STRING result_attr =  \"\") { \n",
    "  AvgAccum @average_selling_price;\n",
    "  users = {NFT_User.*};\n",
    "  res = SELECT u FROM users:u -(USER_SOLD_NFT)-> Transaction:tgt\n",
    "        ACCUM u.@average_selling_price += tgt.usd_price;\n",
    "  \n",
    "  res = SELECT s FROM res:s\n",
    "    POST-ACCUM\n",
    "        IF result_attr != \"\" THEN \n",
    "            IF s.@average_selling_price == 0 THEN\n",
    "              s.setAttr(result_attr, -1)\n",
    "            ELSE\n",
    "              s.setAttr(result_attr, s.@average_selling_price) \n",
    "            END\n",
    "        END;\n",
    "  IF print_accum THEN\n",
    "    PRINT res;\n",
    "  END;\n",
    "}"
   ]
  },
  {
   "cell_type": "code",
   "execution_count": 8,
   "metadata": {},
   "outputs": [
    {
     "name": "stdout",
     "output_type": "stream",
     "text": [
      "Installing and optimizing the queries, it might take a minute\n"
     ]
    },
    {
     "data": {
      "text/plain": [
       "'average_selling_price'"
      ]
     },
     "execution_count": 8,
     "metadata": {},
     "output_type": "execute_result"
    }
   ],
   "source": [
    "featurizer.installAlgorithm(\"average_selling_price\", query_path=\"./average_selling_price.gsql\")"
   ]
  },
  {
   "cell_type": "code",
   "execution_count": 9,
   "metadata": {},
   "outputs": [],
   "source": [
    "params = {\n",
    "    \"result_attr\": \"avg_sell_price\"\n",
    "}"
   ]
  },
  {
   "cell_type": "code",
   "execution_count": 10,
   "metadata": {},
   "outputs": [
    {
     "name": "stdout",
     "output_type": "stream",
     "text": [
      "The job add_VERTEX_attr_MGrCNL completes in 29.319 seconds!\n"
     ]
    }
   ],
   "source": [
    "try:\n",
    "    featurizer.runAlgorithm(\"average_selling_price\", params=params, feat_name=\"avg_sell_price\", feat_type=\"FLOAT\", custom_query=True, schema_name=[\"NFT_User\"])\n",
    "except ConnectionError:\n",
    "    featurizer.runAlgorithm(\"average_selling_price\", params=params)"
   ]
  },
  {
   "cell_type": "code",
   "execution_count": 11,
   "metadata": {},
   "outputs": [],
   "source": [
    "df = conn.getVertexDataFrame(\"NFT_User\", where=\"avg_sell_price > 0\", limit=100_000)\n",
    "pr_sell = df[[\"pagerank\", \"avg_sell_price\"]]"
   ]
  },
  {
   "cell_type": "code",
   "execution_count": 12,
   "metadata": {},
   "outputs": [
    {
     "data": {
      "text/plain": [
       "<AxesSubplot:xlabel='pagerank', ylabel='avg_sell_price'>"
      ]
     },
     "execution_count": 12,
     "metadata": {},
     "output_type": "execute_result"
    },
    {
     "data": {
      "image/png": "[encoded data removed]",
      "text/plain": [
       "<Figure size 432x288 with 1 Axes>"
      ]
     },
     "metadata": {
      "needs_background": "light"
     },
     "output_type": "display_data"
    }
   ],
   "source": [
    "pr_sell.plot.scatter(x=\"pagerank\", y=\"avg_sell_price\")"
   ]
  },
  {
   "cell_type": "markdown",
   "metadata": {},
   "source": [
    "### Remove Outliers"
   ]
  },
  {
   "cell_type": "code",
   "execution_count": 13,
   "metadata": {},
   "outputs": [
    {
     "data": {
      "text/plain": [
       "<AxesSubplot:xlabel='pagerank', ylabel='avg_sell_price'>"
      ]
     },
     "execution_count": 13,
     "metadata": {},
     "output_type": "execute_result"
    },
    {
     "data": {
      "image/png": "[encoded data removed]",
      "text/plain": [
       "<Figure size 432x288 with 1 Axes>"
      ]
     },
     "metadata": {
      "needs_background": "light"
     },
     "output_type": "display_data"
    }
   ],
   "source": [
    "import numpy as np\n",
    "from scipy import stats\n",
    "pr_sell[(np.abs(stats.zscore(pr_sell)) < 3).all(axis=1)].plot.scatter(x=\"pagerank\", y=\"avg_sell_price\")"
   ]
  },
  {
   "cell_type": "code",
   "execution_count": 14,
   "metadata": {},
   "outputs": [
    {
     "name": "stdout",
     "output_type": "stream",
     "text": [
      "Available algorithms for category Community in the GDS (https://github.com/tigergraph/gsql-graph-algorithms):\n",
      "connected_components: \n",
      " strongly_connected_components: \n",
      "  standard: \n",
      "   Algorithm Name: tg_scc\n",
      "   Algorithm Link: https://github.com/tigergraph/gsql-graph-algorithms/blob/master/algorithms/Community/connected_components/strongly_connected_components/standard/tg_scc.gsql. \n",
      "k_core: \n",
      " Algorithm Name: tg_kcore\n",
      " Algorithm Link: https://github.com/tigergraph/gsql-graph-algorithms/blob/master/algorithms/Community/k_core/tg_kcore.gsql. \n",
      "label_propagation: \n",
      " Algorithm Name: tg_label_prop\n",
      " Algorithm Link: https://github.com/tigergraph/gsql-graph-algorithms/blob/master/algorithms/Community/label_propagation/tg_label_prop.gsql. \n",
      "local_clustering_coefficient: \n",
      " Algorithm Name: tg_lcc\n",
      " Algorithm Link: https://github.com/tigergraph/gsql-graph-algorithms/blob/master/algorithms/Community/local_clustering_coefficient/tg_lcc.gsql. \n",
      "louvain: \n",
      " Algorithm Name: tg_louvain\n",
      " Algorithm Link: https://github.com/tigergraph/gsql-graph-algorithms/blob/master/algorithms/Community/louvain/tg_louvain.gsql. \n",
      "triangle_counting: \n",
      " fast: \n",
      "  Algorithm Name: tg_tri_count_fast\n",
      "  Algorithm Link: https://github.com/tigergraph/gsql-graph-algorithms/blob/master/algorithms/Community/triangle_counting/fast/tg_tri_count_fast.gsql. \n"
     ]
    }
   ],
   "source": [
    "featurizer.listAlgorithms(\"Community\")"
   ]
  },
  {
   "cell_type": "code",
   "execution_count": 15,
   "metadata": {},
   "outputs": [
    {
     "name": "stdout",
     "output_type": "stream",
     "text": [
      "Installing and optimizing the queries, it might take a minute\n"
     ]
    },
    {
     "data": {
      "text/plain": [
       "'tg_kcore'"
      ]
     },
     "execution_count": 15,
     "metadata": {},
     "output_type": "execute_result"
    }
   ],
   "source": [
    "featurizer.installAlgorithm(\"tg_kcore\")"
   ]
  },
  {
   "cell_type": "code",
   "execution_count": 16,
   "metadata": {},
   "outputs": [
    {
     "name": "stdout",
     "output_type": "stream",
     "text": [
      "The job add_VERTEX_attr_uxNIAJ completes in 36.655 seconds!\n"
     ]
    }
   ],
   "source": [
    "params = {\n",
    "    \"v_type\": \"NFT_User\",\n",
    "    \"e_type\": \"USER_SOLD_TO\",\n",
    "    \"print_accum\": False,\n",
    "    \"result_attr\": \"k_core\"\n",
    "}\n",
    "try:\n",
    "    featurizer.runAlgorithm(\"tg_kcore\", params = params, feat_name=\"k_core\")\n",
    "except ConnectionError:\n",
    "    featurizer.runAlgorithm(\"tg_kcore\", params = params)"
   ]
  },
  {
   "cell_type": "code",
   "execution_count": 17,
   "metadata": {},
   "outputs": [
    {
     "data": {
      "text/html": [
       "<div>\n",
       "<style scoped>\n",
       "    .dataframe tbody tr th:only-of-type {\n",
       "        vertical-align: middle;\n",
       "    }\n",
       "\n",
       "    .dataframe tbody tr th {\n",
       "        vertical-align: top;\n",
       "    }\n",
       "\n",
       "    .dataframe thead th {\n",
       "        text-align: right;\n",
       "    }\n",
       "</style>\n",
       "<table border=\"1\" class=\"dataframe\">\n",
       "  <thead>\n",
       "    <tr style=\"text-align: right;\">\n",
       "      <th></th>\n",
       "      <th>v_id</th>\n",
       "      <th>nft_user_id</th>\n",
       "      <th>username</th>\n",
       "      <th>embedding</th>\n",
       "      <th>features</th>\n",
       "      <th>pagerank</th>\n",
       "      <th>avg_sell_price</th>\n",
       "      <th>k_core</th>\n",
       "    </tr>\n",
       "  </thead>\n",
       "  <tbody>\n",
       "    <tr>\n",
       "      <th>0</th>\n",
       "      <td>0x902fce0d5da95620344363d5d5df60591fb6ba17</td>\n",
       "      <td>0x902fce0d5da95620344363d5d5df60591fb6ba17</td>\n",
       "      <td>Farmer_Joey</td>\n",
       "      <td>[]</td>\n",
       "      <td>[]</td>\n",
       "      <td>0.15</td>\n",
       "      <td>1644.13306</td>\n",
       "      <td>1</td>\n",
       "    </tr>\n",
       "    <tr>\n",
       "      <th>1</th>\n",
       "      <td>0xd375fd42d562a748c2d0e2421b06afbfff269e93</td>\n",
       "      <td>0xd375fd42d562a748c2d0e2421b06afbfff269e93</td>\n",
       "      <td>Rariverse</td>\n",
       "      <td>[]</td>\n",
       "      <td>[]</td>\n",
       "      <td>0.15</td>\n",
       "      <td>89.82188</td>\n",
       "      <td>1</td>\n",
       "    </tr>\n",
       "    <tr>\n",
       "      <th>2</th>\n",
       "      <td>ugnqy.wam</td>\n",
       "      <td>ugnqy.wam</td>\n",
       "      <td></td>\n",
       "      <td>[]</td>\n",
       "      <td>[]</td>\n",
       "      <td>0.15</td>\n",
       "      <td>0.48289</td>\n",
       "      <td>1</td>\n",
       "    </tr>\n",
       "    <tr>\n",
       "      <th>3</th>\n",
       "      <td>0xa65e4f522de18eb815ea7bcd8ca18dd5fed46c14</td>\n",
       "      <td>0xa65e4f522de18eb815ea7bcd8ca18dd5fed46c14</td>\n",
       "      <td></td>\n",
       "      <td>[]</td>\n",
       "      <td>[]</td>\n",
       "      <td>0.15</td>\n",
       "      <td>37.43201</td>\n",
       "      <td>1</td>\n",
       "    </tr>\n",
       "    <tr>\n",
       "      <th>4</th>\n",
       "      <td>y2ar.wam</td>\n",
       "      <td>y2ar.wam</td>\n",
       "      <td></td>\n",
       "      <td>[]</td>\n",
       "      <td>[]</td>\n",
       "      <td>0.15</td>\n",
       "      <td>0.46104</td>\n",
       "      <td>1</td>\n",
       "    </tr>\n",
       "  </tbody>\n",
       "</table>\n",
       "</div>"
      ],
      "text/plain": [
       "                                         v_id  \\\n",
       "0  0x902fce0d5da95620344363d5d5df60591fb6ba17   \n",
       "1  0xd375fd42d562a748c2d0e2421b06afbfff269e93   \n",
       "2                                   ugnqy.wam   \n",
       "3  0xa65e4f522de18eb815ea7bcd8ca18dd5fed46c14   \n",
       "4                                    y2ar.wam   \n",
       "\n",
       "                                  nft_user_id     username embedding features  \\\n",
       "0  0x902fce0d5da95620344363d5d5df60591fb6ba17  Farmer_Joey        []       []   \n",
       "1  0xd375fd42d562a748c2d0e2421b06afbfff269e93    Rariverse        []       []   \n",
       "2                                   ugnqy.wam                     []       []   \n",
       "3  0xa65e4f522de18eb815ea7bcd8ca18dd5fed46c14                     []       []   \n",
       "4                                    y2ar.wam                     []       []   \n",
       "\n",
       "   pagerank  avg_sell_price  k_core  \n",
       "0      0.15      1644.13306       1  \n",
       "1      0.15        89.82188       1  \n",
       "2      0.15         0.48289       1  \n",
       "3      0.15        37.43201       1  \n",
       "4      0.15         0.46104       1  "
      ]
     },
     "execution_count": 17,
     "metadata": {},
     "output_type": "execute_result"
    }
   ],
   "source": [
    "df = conn.getVertexDataFrame(\"NFT_User\", where=\"avg_sell_price > 0\", limit=100_000)\n",
    "df.head()"
   ]
  },
  {
   "cell_type": "code",
   "execution_count": 18,
   "metadata": {},
   "outputs": [
    {
     "data": {
      "text/plain": [
       "1      15750\n",
       "2       3513\n",
       "3       1197\n",
       "4        591\n",
       "5        358\n",
       "       ...  \n",
       "34         1\n",
       "81         1\n",
       "66         1\n",
       "193        1\n",
       "166        1\n",
       "Name: k_core, Length: 80, dtype: int64"
      ]
     },
     "execution_count": 18,
     "metadata": {},
     "output_type": "execute_result"
    }
   ],
   "source": [
    "df[\"k_core\"].value_counts()"
   ]
  },
  {
   "cell_type": "code",
   "execution_count": 19,
   "metadata": {},
   "outputs": [
    {
     "data": {
      "text/plain": [
       "80"
      ]
     },
     "execution_count": 19,
     "metadata": {},
     "output_type": "execute_result"
    }
   ],
   "source": [
    "len(df[\"k_core\"].unique())"
   ]
  },
  {
   "cell_type": "code",
   "execution_count": 20,
   "metadata": {},
   "outputs": [
    {
     "data": {
      "text/html": [
       "<div>\n",
       "<style scoped>\n",
       "    .dataframe tbody tr th:only-of-type {\n",
       "        vertical-align: middle;\n",
       "    }\n",
       "\n",
       "    .dataframe tbody tr th {\n",
       "        vertical-align: top;\n",
       "    }\n",
       "\n",
       "    .dataframe thead th {\n",
       "        text-align: right;\n",
       "    }\n",
       "</style>\n",
       "<table border=\"1\" class=\"dataframe\">\n",
       "  <thead>\n",
       "    <tr style=\"text-align: right;\">\n",
       "      <th></th>\n",
       "      <th>pagerank</th>\n",
       "      <th>avg_sell_price</th>\n",
       "    </tr>\n",
       "    <tr>\n",
       "      <th>k_core</th>\n",
       "      <th></th>\n",
       "      <th></th>\n",
       "    </tr>\n",
       "  </thead>\n",
       "  <tbody>\n",
       "    <tr>\n",
       "      <th>1</th>\n",
       "      <td>0.182561</td>\n",
       "      <td>334.333047</td>\n",
       "    </tr>\n",
       "    <tr>\n",
       "      <th>2</th>\n",
       "      <td>0.325909</td>\n",
       "      <td>206.636971</td>\n",
       "    </tr>\n",
       "    <tr>\n",
       "      <th>3</th>\n",
       "      <td>0.344569</td>\n",
       "      <td>133.080814</td>\n",
       "    </tr>\n",
       "    <tr>\n",
       "      <th>4</th>\n",
       "      <td>0.328847</td>\n",
       "      <td>52.817302</td>\n",
       "    </tr>\n",
       "    <tr>\n",
       "      <th>5</th>\n",
       "      <td>0.318493</td>\n",
       "      <td>50.992773</td>\n",
       "    </tr>\n",
       "    <tr>\n",
       "      <th>...</th>\n",
       "      <td>...</td>\n",
       "      <td>...</td>\n",
       "    </tr>\n",
       "    <tr>\n",
       "      <th>193</th>\n",
       "      <td>0.150000</td>\n",
       "      <td>0.996640</td>\n",
       "    </tr>\n",
       "    <tr>\n",
       "      <th>215</th>\n",
       "      <td>0.564070</td>\n",
       "      <td>2.574760</td>\n",
       "    </tr>\n",
       "    <tr>\n",
       "      <th>334</th>\n",
       "      <td>0.150000</td>\n",
       "      <td>10.027430</td>\n",
       "    </tr>\n",
       "    <tr>\n",
       "      <th>355</th>\n",
       "      <td>0.368160</td>\n",
       "      <td>3.587260</td>\n",
       "    </tr>\n",
       "    <tr>\n",
       "      <th>1137</th>\n",
       "      <td>0.150000</td>\n",
       "      <td>183.246230</td>\n",
       "    </tr>\n",
       "  </tbody>\n",
       "</table>\n",
       "<p>80 rows × 2 columns</p>\n",
       "</div>"
      ],
      "text/plain": [
       "        pagerank  avg_sell_price\n",
       "k_core                          \n",
       "1       0.182561      334.333047\n",
       "2       0.325909      206.636971\n",
       "3       0.344569      133.080814\n",
       "4       0.328847       52.817302\n",
       "5       0.318493       50.992773\n",
       "...          ...             ...\n",
       "193     0.150000        0.996640\n",
       "215     0.564070        2.574760\n",
       "334     0.150000       10.027430\n",
       "355     0.368160        3.587260\n",
       "1137    0.150000      183.246230\n",
       "\n",
       "[80 rows x 2 columns]"
      ]
     },
     "execution_count": 20,
     "metadata": {},
     "output_type": "execute_result"
    }
   ],
   "source": [
    "kcore_pr_sell = df[[\"pagerank\", \"avg_sell_price\", \"k_core\"]]\n",
    "\n",
    "kcore_pr_sell.groupby([\"k_core\"]).mean()"
   ]
  },
  {
   "cell_type": "code",
   "execution_count": 21,
   "metadata": {},
   "outputs": [],
   "source": [
    "size_of_core = df[\"k_core\"].value_counts()"
   ]
  },
  {
   "cell_type": "code",
   "execution_count": 22,
   "metadata": {},
   "outputs": [
    {
     "name": "stderr",
     "output_type": "stream",
     "text": [
      "/var/folders/6m/4_05ft595_77hxj48by2vf0c0000gp/T/ipykernel_71459/485414690.py:1: SettingWithCopyWarning: \n",
      "A value is trying to be set on a copy of a slice from a DataFrame.\n",
      "Try using .loc[row_indexer,col_indexer] = value instead\n",
      "\n",
      "See the caveats in the documentation: https://pandas.pydata.org/pandas-docs/stable/user_guide/indexing.html#returning-a-view-versus-a-copy\n",
      "  kcore_pr_sell[\"size_of_core\"] = kcore_pr_sell[\"k_core\"].apply(lambda x: size_of_core[x])\n"
     ]
    }
   ],
   "source": [
    "kcore_pr_sell[\"size_of_core\"] = kcore_pr_sell[\"k_core\"].apply(lambda x: size_of_core[x])"
   ]
  },
  {
   "cell_type": "code",
   "execution_count": 23,
   "metadata": {},
   "outputs": [
    {
     "data": {
      "text/html": [
       "<div>\n",
       "<style scoped>\n",
       "    .dataframe tbody tr th:only-of-type {\n",
       "        vertical-align: middle;\n",
       "    }\n",
       "\n",
       "    .dataframe tbody tr th {\n",
       "        vertical-align: top;\n",
       "    }\n",
       "\n",
       "    .dataframe thead th {\n",
       "        text-align: right;\n",
       "    }\n",
       "</style>\n",
       "<table border=\"1\" class=\"dataframe\">\n",
       "  <thead>\n",
       "    <tr style=\"text-align: right;\">\n",
       "      <th></th>\n",
       "      <th>pagerank</th>\n",
       "      <th>avg_sell_price</th>\n",
       "      <th>k_core</th>\n",
       "      <th>size_of_core</th>\n",
       "    </tr>\n",
       "  </thead>\n",
       "  <tbody>\n",
       "    <tr>\n",
       "      <th>0</th>\n",
       "      <td>0.15</td>\n",
       "      <td>1644.13306</td>\n",
       "      <td>1</td>\n",
       "      <td>15750</td>\n",
       "    </tr>\n",
       "    <tr>\n",
       "      <th>1</th>\n",
       "      <td>0.15</td>\n",
       "      <td>89.82188</td>\n",
       "      <td>1</td>\n",
       "      <td>15750</td>\n",
       "    </tr>\n",
       "    <tr>\n",
       "      <th>2</th>\n",
       "      <td>0.15</td>\n",
       "      <td>0.48289</td>\n",
       "      <td>1</td>\n",
       "      <td>15750</td>\n",
       "    </tr>\n",
       "    <tr>\n",
       "      <th>3</th>\n",
       "      <td>0.15</td>\n",
       "      <td>37.43201</td>\n",
       "      <td>1</td>\n",
       "      <td>15750</td>\n",
       "    </tr>\n",
       "    <tr>\n",
       "      <th>4</th>\n",
       "      <td>0.15</td>\n",
       "      <td>0.46104</td>\n",
       "      <td>1</td>\n",
       "      <td>15750</td>\n",
       "    </tr>\n",
       "  </tbody>\n",
       "</table>\n",
       "</div>"
      ],
      "text/plain": [
       "   pagerank  avg_sell_price  k_core  size_of_core\n",
       "0      0.15      1644.13306       1         15750\n",
       "1      0.15        89.82188       1         15750\n",
       "2      0.15         0.48289       1         15750\n",
       "3      0.15        37.43201       1         15750\n",
       "4      0.15         0.46104       1         15750"
      ]
     },
     "execution_count": 23,
     "metadata": {},
     "output_type": "execute_result"
    }
   ],
   "source": [
    "kcore_pr_sell.head()"
   ]
  },
  {
   "cell_type": "code",
   "execution_count": 24,
   "metadata": {},
   "outputs": [
    {
     "data": {
      "text/html": [
       "<div>\n",
       "<style scoped>\n",
       "    .dataframe tbody tr th:only-of-type {\n",
       "        vertical-align: middle;\n",
       "    }\n",
       "\n",
       "    .dataframe tbody tr th {\n",
       "        vertical-align: top;\n",
       "    }\n",
       "\n",
       "    .dataframe thead th {\n",
       "        text-align: right;\n",
       "    }\n",
       "</style>\n",
       "<table border=\"1\" class=\"dataframe\">\n",
       "  <thead>\n",
       "    <tr style=\"text-align: right;\">\n",
       "      <th></th>\n",
       "      <th>avg_sell_price</th>\n",
       "      <th>size_of_core</th>\n",
       "    </tr>\n",
       "  </thead>\n",
       "  <tbody>\n",
       "    <tr>\n",
       "      <th>avg_sell_price</th>\n",
       "      <td>1.000000</td>\n",
       "      <td>0.013387</td>\n",
       "    </tr>\n",
       "    <tr>\n",
       "      <th>size_of_core</th>\n",
       "      <td>0.013387</td>\n",
       "      <td>1.000000</td>\n",
       "    </tr>\n",
       "  </tbody>\n",
       "</table>\n",
       "</div>"
      ],
      "text/plain": [
       "                avg_sell_price  size_of_core\n",
       "avg_sell_price        1.000000      0.013387\n",
       "size_of_core          0.013387      1.000000"
      ]
     },
     "execution_count": 24,
     "metadata": {},
     "output_type": "execute_result"
    }
   ],
   "source": [
    "kcore_pr_sell[[\"avg_sell_price\", \"size_of_core\"]].corr()"
   ]
  },
  {
   "cell_type": "code",
   "execution_count": 25,
   "metadata": {},
   "outputs": [
    {
     "data": {
      "text/plain": [
       "<AxesSubplot:xlabel='size_of_core', ylabel='avg_sell_price'>"
      ]
     },
     "execution_count": 25,
     "metadata": {},
     "output_type": "execute_result"
    },
    {
     "data": {
      "image/png": "[encoded data removed]",
      "text/plain": [
       "<Figure size 432x288 with 1 Axes>"
      ]
     },
     "metadata": {
      "needs_background": "light"
     },
     "output_type": "display_data"
    }
   ],
   "source": [
    "kcore_pr_sell.plot.scatter(x=\"size_of_core\", y=\"avg_sell_price\")"
   ]
  },
  {
   "cell_type": "code",
   "execution_count": 26,
   "metadata": {},
   "outputs": [
    {
     "data": {
      "text/plain": [
       "<AxesSubplot:xlabel='size_of_core', ylabel='avg_sell_price'>"
      ]
     },
     "execution_count": 26,
     "metadata": {},
     "output_type": "execute_result"
    },
    {
     "data": {
      "image/png": "[encoded data removed]",
      "text/plain": [
       "<Figure size 432x288 with 1 Axes>"
      ]
     },
     "metadata": {
      "needs_background": "light"
     },
     "output_type": "display_data"
    }
   ],
   "source": [
    "kcore_pr_sell[(np.abs(stats.zscore(kcore_pr_sell)) < 3).all(axis=1)].plot.scatter(x=\"size_of_core\", y=\"avg_sell_price\")"
   ]
  },
  {
   "cell_type": "code",
   "execution_count": 27,
   "metadata": {},
   "outputs": [
    {
     "data": {
      "text/plain": [
       "<AxesSubplot:xlabel='size_of_core', ylabel='pagerank'>"
      ]
     },
     "execution_count": 27,
     "metadata": {},
     "output_type": "execute_result"
    },
    {
     "data": {
      "image/png": "[encoded data removed]",
      "text/plain": [
       "<Figure size 432x288 with 1 Axes>"
      ]
     },
     "metadata": {
      "needs_background": "light"
     },
     "output_type": "display_data"
    }
   ],
   "source": [
    "kcore_pr_sell.plot.scatter(x=\"size_of_core\", y=\"pagerank\")"
   ]
  },
  {
   "cell_type": "code",
   "execution_count": 28,
   "metadata": {},
   "outputs": [
    {
     "data": {
      "text/plain": [
       "<AxesSubplot:xlabel='size_of_core', ylabel='pagerank'>"
      ]
     },
     "execution_count": 28,
     "metadata": {},
     "output_type": "execute_result"
    },
    {
     "data": {
      "image/png": "[encoded data removed]",
      "text/plain": [
       "<Figure size 432x288 with 1 Axes>"
      ]
     },
     "metadata": {
      "needs_background": "light"
     },
     "output_type": "display_data"
    }
   ],
   "source": [
    "kcore_pr_sell[(np.abs(stats.zscore(kcore_pr_sell)) < 3).all(axis=1)].plot.scatter(x=\"size_of_core\", y=\"pagerank\")"
   ]
  },
  {
   "cell_type": "code",
   "execution_count": null,
   "metadata": {},
   "outputs": [],
   "source": []
  }
 ],
 "metadata": {
  "interpreter": {
   "hash": "58e1c476a485e41cfbe41589baaac1849e255b67efca409760b0ec34d7f4c191"
  },
  "kernelspec": {
   "display_name": "Python 3.9.12 ('kdd2022')",
   "language": "python",
   "name": "python3"
  },
  "language_info": {
   "codemirror_mode": {
    "name": "ipython",
    "version": 3
   },
   "file_extension": ".py",
   "mimetype": "text/x-python",
   "name": "python",
   "nbconvert_exporter": "python",
   "pygments_lexer": "ipython3",
   "version": "3.9.12"
  },
  "orig_nbformat": 4
 },
 "nbformat": 4,
 "nbformat_minor": 2
}
