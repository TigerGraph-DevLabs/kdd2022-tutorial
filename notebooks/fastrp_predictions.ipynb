{
 "cells": [
  {
   "cell_type": "code",
   "execution_count": 1,
   "metadata": {},
   "outputs": [],
   "source": [
    "import pyTigerGraph as tg\n",
    "\n",
    "conn = tg.TigerGraphConnection(\"http://3.144.132.94\", graphname=\"KDD_2022_NFT\")"
   ]
  },
  {
   "cell_type": "code",
   "execution_count": 2,
   "metadata": {},
   "outputs": [],
   "source": [
    "featurizer = conn.gds.featurizer()"
   ]
  },
  {
   "cell_type": "code",
   "execution_count": 3,
   "metadata": {},
   "outputs": [
    {
     "name": "stdout",
     "output_type": "stream",
     "text": [
      "The job add_VERTEX_attr_bZqcIG completes in 38.445 seconds!\n",
      "Installing and optimizing the queries, it might take a minute\n"
     ]
    },
    {
     "data": {
      "text/plain": [
       "'tg_fastRP'"
      ]
     },
     "execution_count": 3,
     "metadata": {},
     "output_type": "execute_result"
    }
   ],
   "source": [
    "featurizer.installAlgorithm(\"tg_fastRP\")"
   ]
  },
  {
   "cell_type": "code",
   "execution_count": 5,
   "metadata": {},
   "outputs": [
    {
     "name": "stdout",
     "output_type": "stream",
     "text": [
      "Default parameters are: {'v_type': None, 'e_type': None, 'weights': None, 'beta': None, 'k': None, 'reduced_dim': None, 'sampling_constant': None, 'random_seed': None, 'print_accum': True, 'result_attr': '', 'file_path': ''}\n"
     ]
    },
    {
     "ename": "ValueError",
     "evalue": "Query parameters which are not initialized by default need to be initialized, visit https://github.com/tigergraph/gsql-graph-algorithms/blob/master/algorithms/GraphML/Embeddings/FastRP/tg_fastRP.gsql.",
     "output_type": "error",
     "traceback": [
      "\u001b[0;31m---------------------------------------------------------------------------\u001b[0m",
      "\u001b[0;31mValueError\u001b[0m                                Traceback (most recent call last)",
      "\u001b[1;32m/Users/parkererickson/kdd2022-tutorial/notebooks/fastrp_predictions.ipynb Cell 4'\u001b[0m in \u001b[0;36m<cell line: 1>\u001b[0;34m()\u001b[0m\n\u001b[0;32m----> <a href='vscode-notebook-cell:/Users/parkererickson/kdd2022-tutorial/notebooks/fastrp_predictions.ipynb#ch0000003?line=0'>1</a>\u001b[0m featurizer\u001b[39m.\u001b[39;49mrunAlgorithm(\u001b[39m\"\u001b[39;49m\u001b[39mtg_fastRP\u001b[39;49m\u001b[39m\"\u001b[39;49m)\n",
      "File \u001b[0;32m/opt/anaconda3/envs/kdd2022/lib/python3.9/site-packages/pyTigerGraph/gds/featurizer.py:393\u001b[0m, in \u001b[0;36mFeaturizer.runAlgorithm\u001b[0;34m(self, query_name, params, feat_name, feat_type, custom_query, schema_name, global_schema, timeout, sizeLimit)\u001b[0m\n\u001b[1;32m    <a href='file:///opt/anaconda3/envs/kdd2022/lib/python3.9/site-packages/pyTigerGraph/gds/featurizer.py?line=390'>391</a>\u001b[0m     \u001b[39mif\u001b[39;00m \u001b[39mNone\u001b[39;00m \u001b[39min\u001b[39;00m params\u001b[39m.\u001b[39mvalues():\n\u001b[1;32m    <a href='file:///opt/anaconda3/envs/kdd2022/lib/python3.9/site-packages/pyTigerGraph/gds/featurizer.py?line=391'>392</a>\u001b[0m         query_ulr\u001b[39m=\u001b[39m \u001b[39mself\u001b[39m\u001b[39m.\u001b[39m_get_query_url(query_name)\n\u001b[0;32m--> <a href='file:///opt/anaconda3/envs/kdd2022/lib/python3.9/site-packages/pyTigerGraph/gds/featurizer.py?line=392'>393</a>\u001b[0m         \u001b[39mraise\u001b[39;00m \u001b[39mValueError\u001b[39;00m(\u001b[39m\"\u001b[39m\u001b[39mQuery parameters which are not initialized by default need to be initialized, visit \u001b[39m\u001b[39m\"\u001b[39m\u001b[39m+\u001b[39mquery_ulr\u001b[39m+\u001b[39m\u001b[39m\"\u001b[39m\u001b[39m.\u001b[39m\u001b[39m\"\u001b[39m)\n\u001b[1;32m    <a href='file:///opt/anaconda3/envs/kdd2022/lib/python3.9/site-packages/pyTigerGraph/gds/featurizer.py?line=393'>394</a>\u001b[0m \u001b[39melse\u001b[39;00m:\n\u001b[1;32m    <a href='file:///opt/anaconda3/envs/kdd2022/lib/python3.9/site-packages/pyTigerGraph/gds/featurizer.py?line=394'>395</a>\u001b[0m     result \u001b[39m=\u001b[39m \u001b[39mself\u001b[39m\u001b[39m.\u001b[39mconn\u001b[39m.\u001b[39mrunInstalledQuery(query_name,timeout\u001b[39m=\u001b[39mtimeout,sizeLimit \u001b[39m=\u001b[39m sizeLimit,usePost\u001b[39m=\u001b[39m\u001b[39mTrue\u001b[39;00m)\n",
      "\u001b[0;31mValueError\u001b[0m: Query parameters which are not initialized by default need to be initialized, visit https://github.com/tigergraph/gsql-graph-algorithms/blob/master/algorithms/GraphML/Embeddings/FastRP/tg_fastRP.gsql."
     ]
    }
   ],
   "source": [
    "featurizer.runAlgorithm(\"tg_fastRP\")"
   ]
  },
  {
   "cell_type": "code",
   "execution_count": 7,
   "metadata": {},
   "outputs": [
    {
     "ename": "HTTPError",
     "evalue": "404 Client Error: Not Found for url: http://3.144.132.94:9000/query/KDD_2022_NFT/tg_fastRP",
     "output_type": "error",
     "traceback": [
      "\u001b[0;31m---------------------------------------------------------------------------\u001b[0m",
      "\u001b[0;31mHTTPError\u001b[0m                                 Traceback (most recent call last)",
      "\u001b[1;32m/Users/parkererickson/kdd2022-tutorial/notebooks/fastrp_predictions.ipynb Cell 5'\u001b[0m in \u001b[0;36m<cell line: 1>\u001b[0;34m()\u001b[0m\n\u001b[0;32m----> <a href='vscode-notebook-cell:/Users/parkererickson/kdd2022-tutorial/notebooks/fastrp_predictions.ipynb#ch0000004?line=0'>1</a>\u001b[0m featurizer\u001b[39m.\u001b[39;49mrunAlgorithm(\u001b[39m\"\u001b[39;49m\u001b[39mtg_fastRP\u001b[39;49m\u001b[39m\"\u001b[39;49m, params\u001b[39m=\u001b[39;49m{\n\u001b[1;32m      <a href='vscode-notebook-cell:/Users/parkererickson/kdd2022-tutorial/notebooks/fastrp_predictions.ipynb#ch0000004?line=1'>2</a>\u001b[0m     \u001b[39m'\u001b[39;49m\u001b[39mv_type\u001b[39;49m\u001b[39m'\u001b[39;49m: conn\u001b[39m.\u001b[39;49mgetVertexTypes(),\n\u001b[1;32m      <a href='vscode-notebook-cell:/Users/parkererickson/kdd2022-tutorial/notebooks/fastrp_predictions.ipynb#ch0000004?line=2'>3</a>\u001b[0m     \u001b[39m'\u001b[39;49m\u001b[39me_type\u001b[39;49m\u001b[39m'\u001b[39;49m: conn\u001b[39m.\u001b[39;49mgetEdgeTypes(),\n\u001b[1;32m      <a href='vscode-notebook-cell:/Users/parkererickson/kdd2022-tutorial/notebooks/fastrp_predictions.ipynb#ch0000004?line=3'>4</a>\u001b[0m     \u001b[39m'\u001b[39;49m\u001b[39mweights\u001b[39;49m\u001b[39m'\u001b[39;49m: \u001b[39m'\u001b[39;49m\u001b[39m1,2,4\u001b[39;49m\u001b[39m'\u001b[39;49m,\n\u001b[1;32m      <a href='vscode-notebook-cell:/Users/parkererickson/kdd2022-tutorial/notebooks/fastrp_predictions.ipynb#ch0000004?line=4'>5</a>\u001b[0m     \u001b[39m'\u001b[39;49m\u001b[39mbeta\u001b[39;49m\u001b[39m'\u001b[39;49m: \u001b[39m-\u001b[39;49m\u001b[39m0.1\u001b[39;49m,\n\u001b[1;32m      <a href='vscode-notebook-cell:/Users/parkererickson/kdd2022-tutorial/notebooks/fastrp_predictions.ipynb#ch0000004?line=5'>6</a>\u001b[0m     \u001b[39m'\u001b[39;49m\u001b[39mk\u001b[39;49m\u001b[39m'\u001b[39;49m: \u001b[39m3\u001b[39;49m,\n\u001b[1;32m      <a href='vscode-notebook-cell:/Users/parkererickson/kdd2022-tutorial/notebooks/fastrp_predictions.ipynb#ch0000004?line=6'>7</a>\u001b[0m     \u001b[39m'\u001b[39;49m\u001b[39mreduced_dim\u001b[39;49m\u001b[39m'\u001b[39;49m: \u001b[39m128\u001b[39;49m,\n\u001b[1;32m      <a href='vscode-notebook-cell:/Users/parkererickson/kdd2022-tutorial/notebooks/fastrp_predictions.ipynb#ch0000004?line=7'>8</a>\u001b[0m     \u001b[39m'\u001b[39;49m\u001b[39msampling_constant\u001b[39;49m\u001b[39m'\u001b[39;49m: \u001b[39m3\u001b[39;49m,\n\u001b[1;32m      <a href='vscode-notebook-cell:/Users/parkererickson/kdd2022-tutorial/notebooks/fastrp_predictions.ipynb#ch0000004?line=8'>9</a>\u001b[0m     \u001b[39m'\u001b[39;49m\u001b[39mrandom_seed\u001b[39;49m\u001b[39m'\u001b[39;49m: \u001b[39m42\u001b[39;49m,\n\u001b[1;32m     <a href='vscode-notebook-cell:/Users/parkererickson/kdd2022-tutorial/notebooks/fastrp_predictions.ipynb#ch0000004?line=9'>10</a>\u001b[0m     \u001b[39m'\u001b[39;49m\u001b[39mprint_accum\u001b[39;49m\u001b[39m'\u001b[39;49m: \u001b[39mFalse\u001b[39;49;00m,\n\u001b[1;32m     <a href='vscode-notebook-cell:/Users/parkererickson/kdd2022-tutorial/notebooks/fastrp_predictions.ipynb#ch0000004?line=10'>11</a>\u001b[0m     \u001b[39m'\u001b[39;49m\u001b[39mresult_attr\u001b[39;49m\u001b[39m'\u001b[39;49m: \u001b[39m'\u001b[39;49m\u001b[39mfastrp_embedding\u001b[39;49m\u001b[39m'\u001b[39;49m\n\u001b[1;32m     <a href='vscode-notebook-cell:/Users/parkererickson/kdd2022-tutorial/notebooks/fastrp_predictions.ipynb#ch0000004?line=11'>12</a>\u001b[0m })\n",
      "File \u001b[0;32m/opt/anaconda3/envs/kdd2022/lib/python3.9/site-packages/pyTigerGraph/gds/featurizer.py:416\u001b[0m, in \u001b[0;36mFeaturizer.runAlgorithm\u001b[0;34m(self, query_name, params, feat_name, feat_type, custom_query, schema_name, global_schema, timeout, sizeLimit)\u001b[0m\n\u001b[1;32m    <a href='file:///opt/anaconda3/envs/kdd2022/lib/python3.9/site-packages/pyTigerGraph/gds/featurizer.py?line=413'>414</a>\u001b[0m         query_ulr\u001b[39m=\u001b[39m \u001b[39mself\u001b[39m\u001b[39m.\u001b[39m_get_query_url(query_name)\n\u001b[1;32m    <a href='file:///opt/anaconda3/envs/kdd2022/lib/python3.9/site-packages/pyTigerGraph/gds/featurizer.py?line=414'>415</a>\u001b[0m         \u001b[39mraise\u001b[39;00m \u001b[39mValueError\u001b[39;00m(\u001b[39m\"\u001b[39m\u001b[39mThe algorithm does not provide any feature, see the algorithm details:\u001b[39m\u001b[39m\"\u001b[39m\u001b[39m+\u001b[39mquery_ulr\u001b[39m+\u001b[39m\u001b[39m\"\u001b[39m\u001b[39m.\u001b[39m\u001b[39m\"\u001b[39m)\n\u001b[0;32m--> <a href='file:///opt/anaconda3/envs/kdd2022/lib/python3.9/site-packages/pyTigerGraph/gds/featurizer.py?line=415'>416</a>\u001b[0m result \u001b[39m=\u001b[39m \u001b[39mself\u001b[39;49m\u001b[39m.\u001b[39;49mconn\u001b[39m.\u001b[39;49mrunInstalledQuery(query_name, params,timeout\u001b[39m=\u001b[39;49mtimeout,sizeLimit \u001b[39m=\u001b[39;49m sizeLimit,usePost\u001b[39m=\u001b[39;49m\u001b[39mTrue\u001b[39;49;00m)\n\u001b[1;32m    <a href='file:///opt/anaconda3/envs/kdd2022/lib/python3.9/site-packages/pyTigerGraph/gds/featurizer.py?line=416'>417</a>\u001b[0m \u001b[39mif\u001b[39;00m result \u001b[39m!=\u001b[39m \u001b[39mNone\u001b[39;00m:\n\u001b[1;32m    <a href='file:///opt/anaconda3/envs/kdd2022/lib/python3.9/site-packages/pyTigerGraph/gds/featurizer.py?line=417'>418</a>\u001b[0m     \u001b[39mreturn\u001b[39;00m result\n",
      "File \u001b[0;32m/opt/anaconda3/envs/kdd2022/lib/python3.9/site-packages/pyTigerGraph/pyTigerGraphQuery.py:167\u001b[0m, in \u001b[0;36mpyTigerGraphQuery.runInstalledQuery\u001b[0;34m(self, queryName, params, timeout, sizeLimit, usePost)\u001b[0m\n\u001b[1;32m    <a href='file:///opt/anaconda3/envs/kdd2022/lib/python3.9/site-packages/pyTigerGraph/pyTigerGraphQuery.py?line=163'>164</a>\u001b[0m     params \u001b[39m=\u001b[39m \u001b[39mself\u001b[39m\u001b[39m.\u001b[39m_parseQueryParameters(params)\n\u001b[1;32m    <a href='file:///opt/anaconda3/envs/kdd2022/lib/python3.9/site-packages/pyTigerGraph/pyTigerGraphQuery.py?line=165'>166</a>\u001b[0m \u001b[39mif\u001b[39;00m usePost:\n\u001b[0;32m--> <a href='file:///opt/anaconda3/envs/kdd2022/lib/python3.9/site-packages/pyTigerGraph/pyTigerGraphQuery.py?line=166'>167</a>\u001b[0m     \u001b[39mreturn\u001b[39;00m \u001b[39mself\u001b[39;49m\u001b[39m.\u001b[39;49m_post(\u001b[39mself\u001b[39;49m\u001b[39m.\u001b[39;49mrestppUrl \u001b[39m+\u001b[39;49m \u001b[39m\"\u001b[39;49m\u001b[39m/query/\u001b[39;49m\u001b[39m\"\u001b[39;49m \u001b[39m+\u001b[39;49m \u001b[39mself\u001b[39;49m\u001b[39m.\u001b[39;49mgraphname \u001b[39m+\u001b[39;49m \u001b[39m\"\u001b[39;49m\u001b[39m/\u001b[39;49m\u001b[39m\"\u001b[39;49m \u001b[39m+\u001b[39;49m queryName,\n\u001b[1;32m    <a href='file:///opt/anaconda3/envs/kdd2022/lib/python3.9/site-packages/pyTigerGraph/pyTigerGraphQuery.py?line=167'>168</a>\u001b[0m         data\u001b[39m=\u001b[39;49mparams, headers\u001b[39m=\u001b[39;49mheaders)\n\u001b[1;32m    <a href='file:///opt/anaconda3/envs/kdd2022/lib/python3.9/site-packages/pyTigerGraph/pyTigerGraphQuery.py?line=168'>169</a>\u001b[0m \u001b[39melse\u001b[39;00m:\n\u001b[1;32m    <a href='file:///opt/anaconda3/envs/kdd2022/lib/python3.9/site-packages/pyTigerGraph/pyTigerGraphQuery.py?line=169'>170</a>\u001b[0m     \u001b[39mreturn\u001b[39;00m \u001b[39mself\u001b[39m\u001b[39m.\u001b[39m_get(\u001b[39mself\u001b[39m\u001b[39m.\u001b[39mrestppUrl \u001b[39m+\u001b[39m \u001b[39m\"\u001b[39m\u001b[39m/query/\u001b[39m\u001b[39m\"\u001b[39m \u001b[39m+\u001b[39m \u001b[39mself\u001b[39m\u001b[39m.\u001b[39mgraphname \u001b[39m+\u001b[39m \u001b[39m\"\u001b[39m\u001b[39m/\u001b[39m\u001b[39m\"\u001b[39m \u001b[39m+\u001b[39m queryName,\n\u001b[1;32m    <a href='file:///opt/anaconda3/envs/kdd2022/lib/python3.9/site-packages/pyTigerGraph/pyTigerGraphQuery.py?line=170'>171</a>\u001b[0m         params\u001b[39m=\u001b[39mparams, headers\u001b[39m=\u001b[39mheaders)\n",
      "File \u001b[0;32m/opt/anaconda3/envs/kdd2022/lib/python3.9/site-packages/pyTigerGraph/pyTigerGraphBase.py:275\u001b[0m, in \u001b[0;36mpyTigerGraphBase._post\u001b[0;34m(self, url, authMode, headers, data, resKey, skipCheck, params)\u001b[0m\n\u001b[1;32m    <a href='file:///opt/anaconda3/envs/kdd2022/lib/python3.9/site-packages/pyTigerGraph/pyTigerGraphBase.py?line=249'>250</a>\u001b[0m \u001b[39mdef\u001b[39;00m \u001b[39m_post\u001b[39m(\u001b[39mself\u001b[39m, url: \u001b[39mstr\u001b[39m, authMode: \u001b[39mstr\u001b[39m \u001b[39m=\u001b[39m \u001b[39m\"\u001b[39m\u001b[39mtoken\u001b[39m\u001b[39m\"\u001b[39m, headers: \u001b[39mdict\u001b[39m \u001b[39m=\u001b[39m \u001b[39mNone\u001b[39;00m,\n\u001b[1;32m    <a href='file:///opt/anaconda3/envs/kdd2022/lib/python3.9/site-packages/pyTigerGraph/pyTigerGraphBase.py?line=250'>251</a>\u001b[0m         data: Union[\u001b[39mdict\u001b[39m, \u001b[39mlist\u001b[39m, \u001b[39mstr\u001b[39m] \u001b[39m=\u001b[39m \u001b[39mNone\u001b[39;00m, resKey: \u001b[39mstr\u001b[39m \u001b[39m=\u001b[39m \u001b[39m\"\u001b[39m\u001b[39mresults\u001b[39m\u001b[39m\"\u001b[39m, skipCheck: \u001b[39mbool\u001b[39m \u001b[39m=\u001b[39m \u001b[39mFalse\u001b[39;00m,\n\u001b[1;32m    <a href='file:///opt/anaconda3/envs/kdd2022/lib/python3.9/site-packages/pyTigerGraph/pyTigerGraphBase.py?line=251'>252</a>\u001b[0m         params: Union[\u001b[39mdict\u001b[39m, \u001b[39mlist\u001b[39m, \u001b[39mstr\u001b[39m] \u001b[39m=\u001b[39m \u001b[39mNone\u001b[39;00m) \u001b[39m-\u001b[39m\u001b[39m>\u001b[39m Union[\u001b[39mdict\u001b[39m, \u001b[39mlist\u001b[39m]:\n\u001b[1;32m    <a href='file:///opt/anaconda3/envs/kdd2022/lib/python3.9/site-packages/pyTigerGraph/pyTigerGraphBase.py?line=252'>253</a>\u001b[0m     \u001b[39m\"\"\"Generic POST method.\u001b[39;00m\n\u001b[1;32m    <a href='file:///opt/anaconda3/envs/kdd2022/lib/python3.9/site-packages/pyTigerGraph/pyTigerGraphBase.py?line=253'>254</a>\u001b[0m \n\u001b[1;32m    <a href='file:///opt/anaconda3/envs/kdd2022/lib/python3.9/site-packages/pyTigerGraph/pyTigerGraphBase.py?line=254'>255</a>\u001b[0m \u001b[39m    Args:\u001b[39;00m\n\u001b[0;32m   (...)\u001b[0m\n\u001b[1;32m    <a href='file:///opt/anaconda3/envs/kdd2022/lib/python3.9/site-packages/pyTigerGraph/pyTigerGraphBase.py?line=272'>273</a>\u001b[0m \u001b[39m        The (relevant part of the) response from the request (as a dictionary).\u001b[39;00m\n\u001b[1;32m    <a href='file:///opt/anaconda3/envs/kdd2022/lib/python3.9/site-packages/pyTigerGraph/pyTigerGraphBase.py?line=273'>274</a>\u001b[0m \u001b[39m    \"\"\"\u001b[39;00m\n\u001b[0;32m--> <a href='file:///opt/anaconda3/envs/kdd2022/lib/python3.9/site-packages/pyTigerGraph/pyTigerGraphBase.py?line=274'>275</a>\u001b[0m     \u001b[39mreturn\u001b[39;00m \u001b[39mself\u001b[39;49m\u001b[39m.\u001b[39;49m_req(\u001b[39m\"\u001b[39;49m\u001b[39mPOST\u001b[39;49m\u001b[39m\"\u001b[39;49m, url, authMode, headers, data, resKey, skipCheck, params)\n",
      "File \u001b[0;32m/opt/anaconda3/envs/kdd2022/lib/python3.9/site-packages/pyTigerGraph/pyTigerGraphBase.py:211\u001b[0m, in \u001b[0;36mpyTigerGraphBase._req\u001b[0;34m(self, method, url, authMode, headers, data, resKey, skipCheck, params)\u001b[0m\n\u001b[1;32m    <a href='file:///opt/anaconda3/envs/kdd2022/lib/python3.9/site-packages/pyTigerGraph/pyTigerGraphBase.py?line=207'>208</a>\u001b[0m     res \u001b[39m=\u001b[39m requests\u001b[39m.\u001b[39mrequest(method, url, headers\u001b[39m=\u001b[39m_headers, data\u001b[39m=\u001b[39m_data, params\u001b[39m=\u001b[39mparams)\n\u001b[1;32m    <a href='file:///opt/anaconda3/envs/kdd2022/lib/python3.9/site-packages/pyTigerGraph/pyTigerGraphBase.py?line=209'>210</a>\u001b[0m \u001b[39mif\u001b[39;00m res\u001b[39m.\u001b[39mstatus_code \u001b[39m!=\u001b[39m \u001b[39m200\u001b[39m:\n\u001b[0;32m--> <a href='file:///opt/anaconda3/envs/kdd2022/lib/python3.9/site-packages/pyTigerGraph/pyTigerGraphBase.py?line=210'>211</a>\u001b[0m     res\u001b[39m.\u001b[39;49mraise_for_status()\n\u001b[1;32m    <a href='file:///opt/anaconda3/envs/kdd2022/lib/python3.9/site-packages/pyTigerGraph/pyTigerGraphBase.py?line=211'>212</a>\u001b[0m res \u001b[39m=\u001b[39m json\u001b[39m.\u001b[39mloads(res\u001b[39m.\u001b[39mtext)\n\u001b[1;32m    <a href='file:///opt/anaconda3/envs/kdd2022/lib/python3.9/site-packages/pyTigerGraph/pyTigerGraphBase.py?line=212'>213</a>\u001b[0m \u001b[39mif\u001b[39;00m \u001b[39mnot\u001b[39;00m skipCheck:\n",
      "File \u001b[0;32m/opt/anaconda3/envs/kdd2022/lib/python3.9/site-packages/requests/models.py:960\u001b[0m, in \u001b[0;36mResponse.raise_for_status\u001b[0;34m(self)\u001b[0m\n\u001b[1;32m    <a href='file:///opt/anaconda3/envs/kdd2022/lib/python3.9/site-packages/requests/models.py?line=956'>957</a>\u001b[0m     http_error_msg \u001b[39m=\u001b[39m \u001b[39mu\u001b[39m\u001b[39m'\u001b[39m\u001b[39m%s\u001b[39;00m\u001b[39m Server Error: \u001b[39m\u001b[39m%s\u001b[39;00m\u001b[39m for url: \u001b[39m\u001b[39m%s\u001b[39;00m\u001b[39m'\u001b[39m \u001b[39m%\u001b[39m (\u001b[39mself\u001b[39m\u001b[39m.\u001b[39mstatus_code, reason, \u001b[39mself\u001b[39m\u001b[39m.\u001b[39murl)\n\u001b[1;32m    <a href='file:///opt/anaconda3/envs/kdd2022/lib/python3.9/site-packages/requests/models.py?line=958'>959</a>\u001b[0m \u001b[39mif\u001b[39;00m http_error_msg:\n\u001b[0;32m--> <a href='file:///opt/anaconda3/envs/kdd2022/lib/python3.9/site-packages/requests/models.py?line=959'>960</a>\u001b[0m     \u001b[39mraise\u001b[39;00m HTTPError(http_error_msg, response\u001b[39m=\u001b[39m\u001b[39mself\u001b[39m)\n",
      "\u001b[0;31mHTTPError\u001b[0m: 404 Client Error: Not Found for url: http://3.144.132.94:9000/query/KDD_2022_NFT/tg_fastRP"
     ]
    }
   ],
   "source": [
    "featurizer.runAlgorithm(\"tg_fastRP\", params={\n",
    "    'v_type': conn.getVertexTypes(),\n",
    "    'e_type': conn.getEdgeTypes(),\n",
    "    'weights': '1,2,4',\n",
    "    'beta': -0.1,\n",
    "    'k': 3,\n",
    "    'reduced_dim': 128,\n",
    "    'sampling_constant': 3,\n",
    "    'random_seed': 42,\n",
    "    'print_accum': False,\n",
    "    'result_attr': 'fastrp_embedding'\n",
    "})"
   ]
  },
  {
   "cell_type": "code",
   "execution_count": null,
   "metadata": {},
   "outputs": [],
   "source": []
  }
 ],
 "metadata": {
  "interpreter": {
   "hash": "58e1c476a485e41cfbe41589baaac1849e255b67efca409760b0ec34d7f4c191"
  },
  "kernelspec": {
   "display_name": "Python 3.9.12 ('kdd2022')",
   "language": "python",
   "name": "python3"
  },
  "language_info": {
   "codemirror_mode": {
    "name": "ipython",
    "version": 3
   },
   "file_extension": ".py",
   "mimetype": "text/x-python",
   "name": "python",
   "nbconvert_exporter": "python",
   "pygments_lexer": "ipython3",
   "version": "3.9.12"
  },
  "orig_nbformat": 4
 },
 "nbformat": 4,
 "nbformat_minor": 2
}
