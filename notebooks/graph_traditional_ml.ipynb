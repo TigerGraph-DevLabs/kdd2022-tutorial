{
 "cells": [
  {
   "cell_type": "code",
   "execution_count": 1,
   "metadata": {},
   "outputs": [],
   "source": [
    "import pyTigerGraph as tg\n",
    "import numpy as np\n",
    "import pandas as pd\n",
    "\n",
    "conn = tg.TigerGraphConnection(\"http://3.22.188.182\", graphname=\"KDD_2022_NFT\", username=\"tigergraph\", password=\"tigergraph\")"
   ]
  },
  {
   "cell_type": "code",
   "execution_count": 3,
   "metadata": {},
   "outputs": [],
   "source": [
    "splitter = conn.gds.vertexSplitter(v_types=[\"Transaction\"], train=0.8, test=0.2)"
   ]
  },
  {
   "cell_type": "code",
   "execution_count": 4,
   "metadata": {},
   "outputs": [
    {
     "name": "stdout",
     "output_type": "stream",
     "text": [
      "Splitting vertices...\n",
      "Vertex split finished successfully.\n"
     ]
    }
   ],
   "source": [
    "splitter.run()"
   ]
  },
  {
   "cell_type": "markdown",
   "metadata": {},
   "source": [
    "## Train on Category and Collection"
   ]
  },
  {
   "cell_type": "code",
   "execution_count": 5,
   "metadata": {},
   "outputs": [],
   "source": [
    "train_loader = conn.gds.vertexLoader(\n",
    "    attributes={\"Transaction\": [\"usd_price\", \"categoryOneHot\", \"collectionOneHot\"]},\n",
    "    filter_by=\"train\",\n",
    "    batch_size=2048,\n",
    "    shuffle=True\n",
    ")"
   ]
  },
  {
   "cell_type": "code",
   "execution_count": 6,
   "metadata": {},
   "outputs": [],
   "source": [
    "import torch\n",
    "\n",
    "nn = torch.nn.Sequential(\n",
    "    torch.nn.Linear(1075, 1000),\n",
    "    torch.nn.ReLU(),\n",
    "    torch.nn.Linear(1000, 1000),\n",
    "    torch.nn.ReLU(),\n",
    "    torch.nn.Linear(1000, 100),\n",
    "    torch.nn.ReLU(),\n",
    "    torch.nn.Linear(100, 1)\n",
    ")\n",
    "\n",
    "from torch.optim import Adam\n",
    "\n",
    "opt = Adam(nn.parameters(), lr=0.01)\n",
    "loss = torch.nn.SmoothL1Loss()\n",
    "mae = torch.nn.L1Loss()"
   ]
  },
  {
   "cell_type": "code",
   "execution_count": 7,
   "metadata": {},
   "outputs": [],
   "source": [
    "def r2_loss(output, target):\n",
    "    target_mean = torch.mean(target)\n",
    "    ss_tot = torch.sum((target - target_mean) ** 2)\n",
    "    ss_res = torch.sum((target - output) ** 2)\n",
    "    r2 = 1 - ss_res / ss_tot\n",
    "    return r2"
   ]
  },
  {
   "cell_type": "code",
   "execution_count": 8,
   "metadata": {},
   "outputs": [],
   "source": [
    "import numpy as np\n",
    "def clean_onehots(x, length):\n",
    "    arr = np.fromstring(x, sep=\" \", dtype=np.float32)\n",
    "    if len(arr) > length:\n",
    "        arr = arr[:length]\n",
    "    elif len(arr) < length:\n",
    "        arr = np.zeros(length)\n",
    "    return arr"
   ]
  },
  {
   "cell_type": "code",
   "execution_count": 9,
   "metadata": {},
   "outputs": [
    {
     "name": "stdout",
     "output_type": "stream",
     "text": [
      "Epoch: 0 Loss: 114.83001152674358 MAE: 115.25283209482829 R2: 0.004087872803211212\n",
      "Epoch: 1 Loss: 109.40959437688191 MAE: 109.82432428995769 R2: 0.07803699870904286\n",
      "Epoch: 2 Loss: 106.4038610458374 MAE: 106.82251977920532 R2: 0.11306821306546529\n",
      "Epoch: 3 Loss: 105.53812344868977 MAE: 105.95443773269653 R2: 0.13963950673739114\n",
      "Epoch: 4 Loss: 103.28698857625325 MAE: 103.70203638076782 R2: 0.22842145462830862\n",
      "Epoch: 5 Loss: 105.28106387456258 MAE: 105.69160302480061 R2: 0.15241743872563043\n",
      "Epoch: 6 Loss: 102.62642097473145 MAE: 103.0471936861674 R2: 0.16644167403380075\n",
      "Epoch: 7 Loss: 100.62688287099202 MAE: 101.05087025960286 R2: 0.3139521852135658\n",
      "Epoch: 8 Loss: 101.39486614863078 MAE: 101.80862458546956 R2: 0.2782509848475456\n",
      "Epoch: 9 Loss: 99.94942887624104 MAE: 100.37923177083333 R2: 0.0692429393529892\n",
      "Epoch: 10 Loss: 99.9599781036377 MAE: 100.37276124954224 R2: 0.16715911527474722\n",
      "Epoch: 11 Loss: 99.29011233647664 MAE: 99.70501375198364 R2: 0.301583006978035\n",
      "Epoch: 12 Loss: 100.42353375752766 MAE: 100.8448338508606 R2: 0.2654915601015091\n",
      "Epoch: 13 Loss: 98.89614454905193 MAE: 99.30768203735352 R2: 0.255843552450339\n",
      "Epoch: 14 Loss: 99.31823603312175 MAE: 99.73516416549683 R2: 0.32176625231901806\n",
      "Epoch: 15 Loss: 98.8312357266744 MAE: 99.24917507171631 R2: 0.31612912317117053\n",
      "Epoch: 16 Loss: 98.94683694839478 MAE: 99.3613208134969 R2: -0.051091949144999184\n",
      "Epoch: 17 Loss: 99.0230499903361 MAE: 99.44452047348022 R2: 0.31629988302787143\n",
      "Epoch: 18 Loss: 98.51136700312297 MAE: 98.92899751663208 R2: 0.3211318800846736\n",
      "Epoch: 19 Loss: 99.29866218566895 MAE: 99.71644004185994 R2: -0.4036935418844223\n"
     ]
    }
   ],
   "source": [
    "for i in range(20):\n",
    "    epoch_loss = 0\n",
    "    epoch_mae = 0\n",
    "    epoch_r2 = 0\n",
    "    for batch in train_loader:\n",
    "        catOH = torch.tensor(np.stack(batch[\"Transaction\"][\"categoryOneHot\"].apply(lambda x: clean_onehots(x, 6)).values).astype(np.float32))\n",
    "        collOH = torch.tensor(np.stack(batch[\"Transaction\"][\"collectionOneHot\"].apply(lambda x: clean_onehots(x, 1069)).values).astype(np.float32))\n",
    "        X = torch.tensor(np.concatenate([catOH, collOH], axis=1))\n",
    "        y = torch.tensor(batch[\"Transaction\"][\"usd_price\"].values.astype(np.float32))\n",
    "        out = nn(X).flatten()\n",
    "        loss_val = loss(out, y)\n",
    "        opt.zero_grad()\n",
    "        loss_val.backward()\n",
    "        opt.step()\n",
    "        epoch_loss += loss_val.item()\n",
    "        epoch_mae += mae(out, y).item()\n",
    "        epoch_r2 += r2_loss(out, y).item()\n",
    "    print(\"Epoch:\", i, \"Loss:\", epoch_loss/train_loader.num_batches, \"MAE:\", epoch_mae/train_loader.num_batches, \"R2:\", epoch_r2/train_loader.num_batches)"
   ]
  },
  {
   "cell_type": "code",
   "execution_count": 10,
   "metadata": {},
   "outputs": [],
   "source": [
    "test_loader = conn.gds.vertexLoader(\n",
    "    attributes={\"Transaction\": [\"usd_price\", \"categoryOneHot\", \"collectionOneHot\"]},\n",
    "    filter_by=\"test\",\n",
    "    batch_size=2048\n",
    ")"
   ]
  },
  {
   "cell_type": "code",
   "execution_count": 11,
   "metadata": {},
   "outputs": [
    {
     "name": "stdout",
     "output_type": "stream",
     "text": [
      "MAE: 143.1186180114746 R2: 0.20849900444348654\n"
     ]
    }
   ],
   "source": [
    "mae_sum = 0\n",
    "r2_sum = 0\n",
    "for batch in test_loader:\n",
    "    catOH = torch.tensor(np.stack(batch[\"Transaction\"][\"categoryOneHot\"].apply(lambda x: clean_onehots(x, 6)).values).astype(np.float32))\n",
    "    collOH = torch.tensor(np.stack(batch[\"Transaction\"][\"collectionOneHot\"].apply(lambda x: clean_onehots(x, 1069)).values).astype(np.float32))\n",
    "    X = torch.tensor(np.concatenate([catOH, collOH], axis=1))\n",
    "    y = torch.tensor(batch[\"Transaction\"][\"usd_price\"].values.astype(np.float32))\n",
    "    with torch.no_grad():\n",
    "        out = nn(X).flatten()\n",
    "        mae_sum += mae(out, y).item()\n",
    "        r2_sum += r2_loss(out, y).item()\n",
    "print(\"MAE:\", mae_sum/test_loader.num_batches, \"R2:\", r2_sum/test_loader.num_batches)"
   ]
  },
  {
   "cell_type": "markdown",
   "metadata": {},
   "source": [
    "## Add Graph Features"
   ]
  },
  {
   "cell_type": "code",
   "execution_count": 12,
   "metadata": {},
   "outputs": [
    {
     "name": "stdout",
     "output_type": "stream",
     "text": [
      "Overwriting ./seller_pagerank.gsql\n"
     ]
    }
   ],
   "source": [
    "%%writefile ./seller_pagerank.gsql\n",
    "\n",
    "CREATE QUERY seller_pagerank(BOOL print_accum = FALSE, STRING result_attr = \"\") {\n",
    "    transactions = {Transaction.*};\n",
    "    SumAccum<DOUBLE> @seller_pr;\n",
    "    MaxAccum<DOUBLE> @@max_seller_pr;\n",
    "\n",
    "\n",
    "    res = SELECT t FROM transactions:t -(NFT_SOLD_BY)-> NFT_User:u \n",
    "          ACCUM\n",
    "            t.@seller_pr += u.pagerank,\n",
    "            @@max_seller_pr += u.pagerank\n",
    "          POST-ACCUM\n",
    "            IF result_attr != \"\" THEN\n",
    "                t.setAttr(result_attr, t.@seller_pr/@@max_seller_pr)\n",
    "            END;\n",
    "    IF print_accum THEN\n",
    "      PRINT res[res.@seller_pr];\n",
    "    END;\n",
    "}"
   ]
  },
  {
   "cell_type": "code",
   "execution_count": 13,
   "metadata": {},
   "outputs": [],
   "source": [
    "featurizer = conn.gds.featurizer()"
   ]
  },
  {
   "cell_type": "code",
   "execution_count": 14,
   "metadata": {},
   "outputs": [
    {
     "data": {
      "text/plain": [
       "'seller_pagerank'"
      ]
     },
     "execution_count": 14,
     "metadata": {},
     "output_type": "execute_result"
    }
   ],
   "source": [
    "featurizer.installAlgorithm(\"seller_pagerank\", query_path=\"./seller_pagerank.gsql\")"
   ]
  },
  {
   "cell_type": "code",
   "execution_count": 15,
   "metadata": {},
   "outputs": [],
   "source": [
    "params = {\"result_attr\": \"seller_pr\"}\n",
    "\n",
    "try:\n",
    "    featurizer.runAlgorithm(\"seller_pagerank\", params, feat_name=\"seller_pr\", feat_type=\"DOUBLE\", custom_query=True, schema_name=[\"Transaction\"])\n",
    "except ConnectionError:\n",
    "    featurizer.runAlgorithm(\"seller_pagerank\", params)"
   ]
  },
  {
   "cell_type": "code",
   "execution_count": 16,
   "metadata": {},
   "outputs": [
    {
     "name": "stdout",
     "output_type": "stream",
     "text": [
      "Overwriting ./buyer_pagerank.gsql\n"
     ]
    }
   ],
   "source": [
    "%%writefile ./buyer_pagerank.gsql\n",
    "\n",
    "CREATE QUERY buyer_pagerank(BOOL print_accum = FALSE, STRING result_attr = \"\") {\n",
    "    transactions = {Transaction.*};\n",
    "    SumAccum<DOUBLE> @buyer_pr;\n",
    "    MaxAccum<DOUBLE> @@max_buyer_pr;\n",
    "\n",
    "\n",
    "    res = SELECT t FROM transactions:t -(NFT_BOUGHT_BY)-> NFT_User:u \n",
    "          ACCUM\n",
    "            t.@buyer_pr += u.pagerank,\n",
    "            @@max_buyer_pr += u.pagerank\n",
    "          POST-ACCUM\n",
    "            IF result_attr != \"\" THEN\n",
    "                t.setAttr(result_attr, t.@buyer_pr/@@max_buyer_pr)\n",
    "            END;\n",
    "    IF print_accum THEN\n",
    "      PRINT res[res.@buyer_pr];\n",
    "    END;\n",
    "}"
   ]
  },
  {
   "cell_type": "code",
   "execution_count": 17,
   "metadata": {},
   "outputs": [
    {
     "data": {
      "text/plain": [
       "'buyer_pagerank'"
      ]
     },
     "execution_count": 17,
     "metadata": {},
     "output_type": "execute_result"
    }
   ],
   "source": [
    "featurizer.installAlgorithm(\"buyer_pagerank\", query_path=\"./buyer_pagerank.gsql\")"
   ]
  },
  {
   "cell_type": "code",
   "execution_count": 18,
   "metadata": {},
   "outputs": [],
   "source": [
    "params = {\"result_attr\": \"buyer_pr\"}\n",
    "\n",
    "try:\n",
    "    featurizer.runAlgorithm(\"buyer_pagerank\", params, feat_name=\"buyer_pr\", feat_type=\"DOUBLE\", custom_query=True, schema_name=[\"Transaction\"])\n",
    "except ConnectionError:\n",
    "    featurizer.runAlgorithm(\"buyer_pagerank\", params)"
   ]
  },
  {
   "cell_type": "code",
   "execution_count": 19,
   "metadata": {},
   "outputs": [
    {
     "name": "stdout",
     "output_type": "stream",
     "text": [
      "Overwriting ./kcore_size.gsql\n"
     ]
    }
   ],
   "source": [
    "%%writefile ./kcore_size.gsql\n",
    "\n",
    "CREATE QUERY kcore_size(BOOL print_accum = FALSE, STRING result_attr = \"\") FOR GRAPH KDD_2022_NFT { \n",
    "  MapAccum<INT, SumAccum<FLOAT>> @@kcore_size;\n",
    "  MaxAccum<FLOAT> @@max_kcore_size;\n",
    "\n",
    "  \n",
    "  nftuser = {NFT_User.*};\n",
    "  \n",
    "  res = SELECT t FROM nftuser:t POST-ACCUM @@kcore_size += (t.k_core -> 1);\n",
    "  \n",
    "  IF print_accum THEN\n",
    "    PRINT @@kcore_size;\n",
    "  END;\n",
    "\n",
    "  FOREACH (key, value) IN @@kcore_size DO\n",
    "    @@max_kcore_size += value;\n",
    "  END;\n",
    "  \n",
    "  IF result_attr != \"\" THEN\n",
    "    res = SELECT t FROM nftuser:t POST-ACCUM t.setAttr(result_attr, @@kcore_size.get(t.k_core)/@@max_kcore_size);\n",
    "  END;\n",
    "}"
   ]
  },
  {
   "cell_type": "code",
   "execution_count": 20,
   "metadata": {},
   "outputs": [
    {
     "data": {
      "text/plain": [
       "'kcore_size'"
      ]
     },
     "execution_count": 20,
     "metadata": {},
     "output_type": "execute_result"
    }
   ],
   "source": [
    "featurizer.installAlgorithm(\"kcore_size\", query_path=\"./kcore_size.gsql\")"
   ]
  },
  {
   "cell_type": "code",
   "execution_count": 21,
   "metadata": {},
   "outputs": [],
   "source": [
    "params = {\"result_attr\": \"kcore_size\"}\n",
    "try:\n",
    "    featurizer.runAlgorithm(\"kcore_size\", params, feat_name=\"kcore_size\", feat_type=\"DOUBLE\", custom_query=True, schema_name=[\"NFT_User\"])\n",
    "except ConnectionError:\n",
    "    featurizer.runAlgorithm(\"kcore_size\", params, custom_query=True)"
   ]
  },
  {
   "cell_type": "code",
   "execution_count": 22,
   "metadata": {},
   "outputs": [
    {
     "name": "stdout",
     "output_type": "stream",
     "text": [
      "Overwriting ./seller_kcore_size.gsql\n"
     ]
    }
   ],
   "source": [
    "%%writefile ./seller_kcore_size.gsql\n",
    "\n",
    "CREATE QUERY seller_kcore_size(BOOL print_accum = FALSE, STRING result_attr = \"\") {\n",
    "    transactions = {Transaction.*};\n",
    "    SumAccum<DOUBLE> @seller_k_size;\n",
    "\n",
    "\n",
    "    res = SELECT t FROM transactions:t -(NFT_SOLD_BY)-> NFT_User:u \n",
    "          ACCUM\n",
    "            t.@seller_k_size += u.kcore_size\n",
    "          POST-ACCUM\n",
    "            IF result_attr != \"\" THEN\n",
    "                t.setAttr(result_attr, t.@seller_k_size)\n",
    "            END;\n",
    "    IF print_accum THEN\n",
    "      PRINT res[res.@seller_k_size];\n",
    "    END;\n",
    "}"
   ]
  },
  {
   "cell_type": "code",
   "execution_count": 23,
   "metadata": {},
   "outputs": [
    {
     "data": {
      "text/plain": [
       "'seller_kcore_size'"
      ]
     },
     "execution_count": 23,
     "metadata": {},
     "output_type": "execute_result"
    }
   ],
   "source": [
    "featurizer.installAlgorithm(\"seller_kcore_size\", query_path=\"./seller_kcore_size.gsql\")"
   ]
  },
  {
   "cell_type": "code",
   "execution_count": 24,
   "metadata": {},
   "outputs": [],
   "source": [
    "params = {\"result_attr\": \"seller_k_size\"}\n",
    "\n",
    "try:\n",
    "    featurizer.runAlgorithm(\"seller_kcore_size\", params, feat_name=\"seller_k_size\", feat_type=\"DOUBLE\", custom_query=True, schema_name=[\"Transaction\"])\n",
    "except ConnectionError:\n",
    "    featurizer.runAlgorithm(\"seller_kcore_size\", params)"
   ]
  },
  {
   "cell_type": "code",
   "execution_count": 25,
   "metadata": {},
   "outputs": [
    {
     "name": "stdout",
     "output_type": "stream",
     "text": [
      "Overwriting ./buyer_kcore_size.gsql\n"
     ]
    }
   ],
   "source": [
    "%%writefile ./buyer_kcore_size.gsql\n",
    "\n",
    "CREATE QUERY buyer_kcore_size(BOOL print_accum = FALSE, STRING result_attr = \"\") {\n",
    "    transactions = {Transaction.*};\n",
    "    SumAccum<DOUBLE> @buyer_k_size;\n",
    "\n",
    "\n",
    "    res = SELECT t FROM transactions:t -(NFT_BOUGHT_BY)-> NFT_User:u \n",
    "          ACCUM\n",
    "            t.@buyer_k_size += u.kcore_size\n",
    "          POST-ACCUM\n",
    "            IF result_attr != \"\" THEN\n",
    "                t.setAttr(result_attr, t.@buyer_k_size)\n",
    "            END;\n",
    "    IF print_accum THEN\n",
    "      PRINT res[res.@buyer_k_size];\n",
    "    END;\n",
    "}"
   ]
  },
  {
   "cell_type": "code",
   "execution_count": 26,
   "metadata": {},
   "outputs": [
    {
     "data": {
      "text/plain": [
       "'buyer_kcore_size'"
      ]
     },
     "execution_count": 26,
     "metadata": {},
     "output_type": "execute_result"
    }
   ],
   "source": [
    "featurizer.installAlgorithm(\"buyer_kcore_size\", query_path=\"./buyer_kcore_size.gsql\")"
   ]
  },
  {
   "cell_type": "code",
   "execution_count": 27,
   "metadata": {},
   "outputs": [],
   "source": [
    "params = {\"result_attr\": \"buyer_k_size\"}\n",
    "\n",
    "try:\n",
    "    featurizer.runAlgorithm(\"buyer_kcore_size\", params, feat_name=\"buyer_k_size\", feat_type=\"DOUBLE\", custom_query=True, schema_name=[\"Transaction\"])\n",
    "except ConnectionError:\n",
    "    featurizer.runAlgorithm(\"buyer_kcore_size\", params)"
   ]
  },
  {
   "cell_type": "code",
   "execution_count": 28,
   "metadata": {},
   "outputs": [],
   "source": [
    "tmp = conn.getSchema(force=True)"
   ]
  },
  {
   "cell_type": "code",
   "execution_count": 29,
   "metadata": {},
   "outputs": [],
   "source": [
    "train_loader = conn.gds.vertexLoader(\n",
    "    attributes={\"Transaction\": [\"buyer_k_size\", \"seller_k_size\", \"usd_price\", \"seller_pr\", \"buyer_pr\", \"categoryOneHot\", \"collectionOneHot\"]},\n",
    "    filter_by=\"train\",\n",
    "    batch_size=2048,\n",
    "    shuffle=True\n",
    ")"
   ]
  },
  {
   "cell_type": "code",
   "execution_count": 30,
   "metadata": {},
   "outputs": [],
   "source": [
    "import torch\n",
    "\n",
    "nn = torch.nn.Sequential(\n",
    "    torch.nn.Linear(1079, 1000),\n",
    "    torch.nn.ReLU(),\n",
    "    torch.nn.Linear(1000, 1000),\n",
    "    torch.nn.ReLU(),\n",
    "    torch.nn.Linear(1000, 100),\n",
    "    torch.nn.ReLU(),\n",
    "    torch.nn.Linear(100, 1)\n",
    ")\n",
    "\n",
    "from torch.optim import Adam\n",
    "\n",
    "opt = Adam(nn.parameters(), lr=0.01)\n",
    "loss = torch.nn.SmoothL1Loss()\n",
    "mae = torch.nn.L1Loss()"
   ]
  },
  {
   "cell_type": "code",
   "execution_count": 31,
   "metadata": {},
   "outputs": [
    {
     "name": "stdout",
     "output_type": "stream",
     "text": [
      "Epoch: 0 Loss: 115.05246829986572 MAE: 115.47657616933186 R2: 0.002668869992097219\n",
      "Epoch: 1 Loss: 109.56136719385783 MAE: 109.97741635640462 R2: 0.06366720050573349\n",
      "Epoch: 2 Loss: 107.2056695620219 MAE: 107.61985556284587 R2: 0.10972668478886287\n",
      "Epoch: 3 Loss: 104.79964590072632 MAE: 105.21757872899373 R2: 0.18685349076986313\n",
      "Epoch: 4 Loss: 102.03520329793294 MAE: 102.4475146929423 R2: 0.2678019255399704\n",
      "Epoch: 5 Loss: 100.94859822591145 MAE: 101.37051788965861 R2: 0.2039502834280332\n",
      "Epoch: 6 Loss: 102.29503870010376 MAE: 102.7117280960083 R2: 0.1455250804622968\n",
      "Epoch: 7 Loss: 100.29191652933757 MAE: 100.70326646169026 R2: 0.15900569160779318\n",
      "Epoch: 8 Loss: 98.61704158782959 MAE: 99.03449408213298 R2: 0.22544477631648382\n",
      "Epoch: 9 Loss: 98.26459376017253 MAE: 98.67620801925659 R2: 0.07242680837710698\n",
      "Epoch: 10 Loss: 98.13151009877522 MAE: 98.55422560373943 R2: 0.21438431491454443\n",
      "Epoch: 11 Loss: 100.19113858540852 MAE: 100.61390415827434 R2: 0.2286224663257599\n",
      "Epoch: 12 Loss: 97.48776070276897 MAE: 97.90142997105916 R2: 0.2827506884932518\n",
      "Epoch: 13 Loss: 96.9750878016154 MAE: 97.39402723312378 R2: 0.2450579951206843\n",
      "Epoch: 14 Loss: 97.35529502232869 MAE: 97.76816320419312 R2: 0.16965781648953757\n",
      "Epoch: 15 Loss: 96.91375128428142 MAE: 97.32755486170451 R2: 0.25095023463169736\n",
      "Epoch: 16 Loss: 97.69686381022136 MAE: 98.11455949147542 R2: 0.23029892394940057\n",
      "Epoch: 17 Loss: 96.48353290557861 MAE: 96.89861472447713 R2: 0.11716377238432567\n",
      "Epoch: 18 Loss: 98.37122058868408 MAE: 98.79247919718425 R2: -0.19307488451401392\n",
      "Epoch: 19 Loss: 96.97681713104248 MAE: 97.38628149032593 R2: 0.09992912908395131\n"
     ]
    }
   ],
   "source": [
    "for i in range(20):\n",
    "    epoch_loss = 0\n",
    "    epoch_mae = 0\n",
    "    epoch_r2 = 0\n",
    "    for batch in train_loader:\n",
    "        catOH = torch.tensor(np.stack(batch[\"Transaction\"][\"categoryOneHot\"].apply(lambda x: clean_onehots(x, 6)).values).astype(np.float32))\n",
    "        collOH = torch.tensor(np.stack(batch[\"Transaction\"][\"collectionOneHot\"].apply(lambda x: clean_onehots(x, 1069)).values).astype(np.float32))\n",
    "        X = torch.tensor(np.concatenate([batch[\"Transaction\"][[\"seller_k_size\", \"buyer_k_size\", \"seller_pr\", \"buyer_pr\"]].values.astype(np.float32), catOH, collOH], axis=1))\n",
    "        y = torch.tensor(batch[\"Transaction\"][\"usd_price\"].values.astype(np.float32))\n",
    "        out = nn(X).flatten()\n",
    "        loss_val = loss(out, y)\n",
    "        opt.zero_grad()\n",
    "        loss_val.backward()\n",
    "        opt.step()\n",
    "        epoch_loss += loss_val.item()\n",
    "        epoch_mae += mae(out, y).item()\n",
    "        epoch_r2 += r2_loss(out, y).item()\n",
    "    print(\"Epoch:\", i, \"Loss:\", epoch_loss/train_loader.num_batches, \"MAE:\", epoch_mae/train_loader.num_batches, \"R2:\", epoch_r2/train_loader.num_batches)"
   ]
  },
  {
   "cell_type": "code",
   "execution_count": 32,
   "metadata": {},
   "outputs": [],
   "source": [
    "test_loader = conn.gds.vertexLoader(\n",
    "    attributes={\"Transaction\": [\"seller_k_size\", \"buyer_k_size\", \"usd_price\", \"seller_pr\", \"buyer_pr\", \"categoryOneHot\", \"collectionOneHot\"]},\n",
    "    filter_by=\"test\",\n",
    "    batch_size=2048\n",
    ")"
   ]
  },
  {
   "cell_type": "code",
   "execution_count": 33,
   "metadata": {},
   "outputs": [
    {
     "name": "stdout",
     "output_type": "stream",
     "text": [
      "MAE: 136.02754974365234 R2: 0.24481361111005148\n"
     ]
    }
   ],
   "source": [
    "mae_sum = 0\n",
    "r2_sum = 0\n",
    "for batch in test_loader:\n",
    "    catOH = torch.tensor(np.stack(batch[\"Transaction\"][\"categoryOneHot\"].apply(lambda x: clean_onehots(x, 6)).values).astype(np.float32))\n",
    "    collOH = torch.tensor(np.stack(batch[\"Transaction\"][\"collectionOneHot\"].apply(lambda x: clean_onehots(x, 1069)).values).astype(np.float32))\n",
    "    X = torch.tensor(np.concatenate([batch[\"Transaction\"][[\"seller_k_size\", \"buyer_k_size\", \"seller_pr\", \"buyer_pr\"]].values.astype(np.float32), catOH, collOH], axis=1))\n",
    "    y = torch.tensor(batch[\"Transaction\"][\"usd_price\"].values.astype(np.float32))\n",
    "    with torch.no_grad():\n",
    "        out = nn(X).flatten()\n",
    "        mae_sum += mae(out, y).item()\n",
    "        r2_sum += r2_loss(out, y).item()\n",
    "print(\"MAE:\", mae_sum/test_loader.num_batches, \"R2:\", r2_sum/test_loader.num_batches)"
   ]
  },
  {
   "cell_type": "code",
   "execution_count": 34,
   "metadata": {},
   "outputs": [
    {
     "name": "stderr",
     "output_type": "stream",
     "text": [
      "/opt/anaconda3/envs/kdd2022/lib/python3.9/site-packages/captum/attr/_utils/visualization.py:15: DeprecationWarning: Importing display from IPython.core.display is deprecated since IPython 7.14, please import from IPython display\n",
      "  from IPython.core.display import HTML, display\n"
     ]
    }
   ],
   "source": [
    "from captum.attr import GradientShap\n",
    "\n",
    "gs = GradientShap(nn)"
   ]
  },
  {
   "cell_type": "code",
   "execution_count": 35,
   "metadata": {},
   "outputs": [],
   "source": [
    "train_batch = next(iter(train_loader))\n",
    "\n",
    "catOH = torch.tensor(np.stack(train_batch[\"Transaction\"][\"categoryOneHot\"].apply(lambda x: clean_onehots(x, 6)).values).astype(np.float32))\n",
    "collOH = torch.tensor(np.stack(train_batch[\"Transaction\"][\"collectionOneHot\"].apply(lambda x: clean_onehots(x, 1069)).values).astype(np.float32))\n",
    "train_x = torch.tensor(np.concatenate([train_batch[\"Transaction\"][[\"seller_k_size\", \"buyer_k_size\", \"seller_pr\", \"buyer_pr\"]].values.astype(np.float32), catOH, collOH], axis=1))\n",
    "test_batch = next(iter(test_loader))\n",
    "\n",
    "catOH = torch.tensor(np.stack(test_batch[\"Transaction\"][\"categoryOneHot\"].apply(lambda x: clean_onehots(x, 6)).values).astype(np.float32))\n",
    "collOH = torch.tensor(np.stack(test_batch[\"Transaction\"][\"collectionOneHot\"].apply(lambda x: clean_onehots(x, 1069)).values).astype(np.float32))\n",
    "test_x = torch.tensor(np.concatenate([test_batch[\"Transaction\"][[\"seller_k_size\", \"buyer_k_size\", \"seller_pr\", \"buyer_pr\"]].values.astype(np.float32), catOH, collOH], axis=1))"
   ]
  },
  {
   "cell_type": "code",
   "execution_count": 36,
   "metadata": {},
   "outputs": [],
   "source": [
    "attribution = gs.attribute(test_x, train_x)"
   ]
  },
  {
   "cell_type": "code",
   "execution_count": 37,
   "metadata": {},
   "outputs": [
    {
     "data": {
      "text/plain": [
       "[Text(0, 0, 'Seller_k_size'),\n",
       " Text(1, 0, 'Buyer_k_size'),\n",
       " Text(2, 0, 'Seller_pr'),\n",
       " Text(3, 0, 'Buyer_pr')]"
      ]
     },
     "execution_count": 37,
     "metadata": {},
     "output_type": "execute_result"
    },
    {
     "data": {
      "image/png": "[encoded data removed]",
      "text/plain": [
       "<Figure size 432x288 with 1 Axes>"
      ]
     },
     "metadata": {
      "needs_background": "light"
     },
     "output_type": "display_data"
    }
   ],
   "source": [
    "ig_nt_attr_test_sum = attribution.detach().numpy().sum(0)\n",
    "ig_nt_attr_test_norm_sum = ig_nt_attr_test_sum / np.linalg.norm(ig_nt_attr_test_sum, ord=1)\n",
    "\n",
    "attributions = pd.DataFrame({\"Feature\": [\"Seller_k_size\", \"Buyer_k_size\", \"Seller_pr\", \"Buyer_pr\"], \"Attribution\": ig_nt_attr_test_norm_sum[:4]})\n",
    "\n",
    "plt = attributions.plot(kind=\"bar\", xlabel=\"Feature\", ylabel=\"Attribution\", title=\"Attribution of Graph Features to NFT Price\")\n",
    "plt.set_xticklabels(attributions.Feature, rotation=45)"
   ]
  },
  {
   "cell_type": "code",
   "execution_count": 38,
   "metadata": {},
   "outputs": [],
   "source": [
    "# Just PR: MAE: 111.11622746785481 R2: 0.17277953028678894"
   ]
  }
 ],
 "metadata": {
  "kernelspec": {
   "display_name": "Python 3.9.12 ('kdd2022')",
   "language": "python",
   "name": "python3"
  },
  "language_info": {
   "codemirror_mode": {
    "name": "ipython",
    "version": 3
   },
   "file_extension": ".py",
   "mimetype": "text/x-python",
   "name": "python",
   "nbconvert_exporter": "python",
   "pygments_lexer": "ipython3",
   "version": "3.9.12"
  },
  "orig_nbformat": 4,
  "vscode": {
   "interpreter": {
    "hash": "58e1c476a485e41cfbe41589baaac1849e255b67efca409760b0ec34d7f4c191"
   }
  }
 },
 "nbformat": 4,
 "nbformat_minor": 2
}
