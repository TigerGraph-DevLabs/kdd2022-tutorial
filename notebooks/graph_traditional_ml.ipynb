{
 "cells": [
  {
   "cell_type": "markdown",
   "metadata": {},
   "source": [
    "# Machine Learning with Graph Features\n",
    "## Notebook 2\n",
    "\n",
    "In this notebook, we will train to ML models to peform selling price predictions. The first will use traditional, one-hot encoded features, while the second will incorporated graph-derived features."
   ]
  },
  {
   "cell_type": "markdown",
   "metadata": {
    "jp-MarkdownHeadingCollapsed": true,
    "tags": []
   },
   "source": [
    "## Connect to TigerGraph Database\n",
    "\n",
    "The code block below connects to a TigerGraph database. Make sure to change the authentication details in order for you to connect to the instance successfully."
   ]
  },
  {
   "cell_type": "code",
   "execution_count": 1,
   "metadata": {},
   "outputs": [],
   "source": [
    "import pyTigerGraph as tg\n",
    "import numpy as np\n",
    "import pandas as pd\n",
    "\n",
    "conn = tg.TigerGraphConnection(\"http://3.22.188.182\", graphname=\"KDD_2022_NFT\", username=\"tigergraph\", password=\"tigergraph\")\n",
    "\n",
    "conn.gds.configureKafka(kafka_address=\"kaf.kdd.tigergraphlabs.com:19092\")"
   ]
  },
  {
   "cell_type": "markdown",
   "metadata": {
    "jp-MarkdownHeadingCollapsed": true,
    "tags": []
   },
   "source": [
    "## Split the Data"
   ]
  },
  {
   "cell_type": "code",
   "execution_count": 2,
   "metadata": {},
   "outputs": [],
   "source": [
    "splitter = conn.gds.vertexSplitter(v_types=[\"Transaction\"], train=0.8, test=0.2)"
   ]
  },
  {
   "cell_type": "code",
   "execution_count": 3,
   "metadata": {},
   "outputs": [
    {
     "name": "stdout",
     "output_type": "stream",
     "text": [
      "Splitting vertices...\n",
      "Vertex split finished successfully.\n"
     ]
    }
   ],
   "source": [
    "splitter.run()"
   ]
  },
  {
   "cell_type": "markdown",
   "metadata": {
    "jp-MarkdownHeadingCollapsed": true,
    "tags": []
   },
   "source": [
    "## Traditional Feature Approach"
   ]
  },
  {
   "cell_type": "code",
   "execution_count": 4,
   "metadata": {},
   "outputs": [],
   "source": [
    "train_loader = conn.gds.vertexLoader(\n",
    "    attributes={\"Transaction\": [\"usd_price\", \"categoryOneHot\", \"collectionOneHot\"]},\n",
    "    filter_by=\"train\",\n",
    "    batch_size=2048,\n",
    "    shuffle=True\n",
    ")"
   ]
  },
  {
   "cell_type": "code",
   "execution_count": 5,
   "metadata": {},
   "outputs": [
    {
     "name": "stderr",
     "output_type": "stream",
     "text": [
      "/opt/conda/lib/python3.8/site-packages/tqdm/auto.py:22: TqdmWarning: IProgress not found. Please update jupyter and ipywidgets. See https://ipywidgets.readthedocs.io/en/stable/user_install.html\n",
      "  from .autonotebook import tqdm as notebook_tqdm\n"
     ]
    }
   ],
   "source": [
    "import torch\n",
    "\n",
    "nn = torch.nn.Sequential(\n",
    "    torch.nn.Linear(1075, 1000),\n",
    "    torch.nn.ReLU(),\n",
    "    torch.nn.Linear(1000, 1000),\n",
    "    torch.nn.ReLU(),\n",
    "    torch.nn.Linear(1000, 100),\n",
    "    torch.nn.ReLU(),\n",
    "    torch.nn.Linear(100, 1)\n",
    ")\n",
    "\n",
    "from torch.optim import Adam\n",
    "\n",
    "opt = Adam(nn.parameters(), lr=0.01)\n",
    "loss = torch.nn.SmoothL1Loss()\n",
    "mae = torch.nn.L1Loss()"
   ]
  },
  {
   "cell_type": "code",
   "execution_count": 6,
   "metadata": {},
   "outputs": [],
   "source": [
    "import numpy as np\n",
    "def clean_onehots(x, length):\n",
    "    arr = np.fromstring(x, sep=\" \", dtype=np.float32)\n",
    "    if len(arr) > length:\n",
    "        arr = arr[:length]\n",
    "    elif len(arr) < length:\n",
    "        arr = np.zeros(length)\n",
    "    return arr"
   ]
  },
  {
   "cell_type": "code",
   "execution_count": 7,
   "metadata": {},
   "outputs": [
    {
     "name": "stderr",
     "output_type": "stream",
     "text": [
      "/opt/conda/lib/python3.8/site-packages/torch/utils/tensorboard/__init__.py:4: DeprecationWarning: distutils Version classes are deprecated. Use packaging.version instead.\n",
      "  if not hasattr(tensorboard, '__version__') or LooseVersion(tensorboard.__version__) < LooseVersion('1.15'):\n"
     ]
    }
   ],
   "source": [
    "from torch.utils.tensorboard import SummaryWriter\n",
    "from datetime import datetime\n",
    "# default `log_dir` is \"runs\" - we'll be more specific here\n",
    "writer = SummaryWriter('runs/no_graph_feats_training'+str(datetime.now()))"
   ]
  },
  {
   "cell_type": "code",
   "execution_count": 8,
   "metadata": {},
   "outputs": [
    {
     "name": "stdout",
     "output_type": "stream",
     "text": [
      "Epoch: 0 Loss: 122.24271980921428 MAE: 122.66599893569946\n",
      "Epoch: 1 Loss: 115.63626432418823 MAE: 116.04793930053711\n",
      "Epoch: 2 Loss: 113.33624347050984 MAE: 113.75316937764485\n",
      "Epoch: 3 Loss: 112.67221593856812 MAE: 113.08462746938069\n",
      "Epoch: 4 Loss: 111.37817335128784 MAE: 111.7907207806905\n",
      "Epoch: 5 Loss: 111.08420880635579 MAE: 111.505934715271\n",
      "Epoch: 6 Loss: 109.67613855997722 MAE: 110.0979946454366\n",
      "Epoch: 7 Loss: 110.22235043843587 MAE: 110.63220119476318\n",
      "Epoch: 8 Loss: 109.92433563868205 MAE: 110.34885342915852\n",
      "Epoch: 9 Loss: 108.80897696812947 MAE: 109.22657744089763\n",
      "Epoch: 10 Loss: 110.09890715281169 MAE: 110.51529916127522\n",
      "Epoch: 11 Loss: 109.77395009994507 MAE: 110.19121424357097\n",
      "Epoch: 12 Loss: 109.23179149627686 MAE: 109.6538044611613\n",
      "Epoch: 13 Loss: 108.53418509165446 MAE: 108.94728708267212\n",
      "Epoch: 14 Loss: 107.99553553263347 MAE: 108.4133513768514\n",
      "Epoch: 15 Loss: 108.51784149805705 MAE: 108.9344671567281\n",
      "Epoch: 16 Loss: 108.13285048802693 MAE: 108.54760615030925\n",
      "Epoch: 17 Loss: 107.88251320521037 MAE: 108.29754130045573\n",
      "Epoch: 18 Loss: 108.30606810251872 MAE: 108.72064050038655\n",
      "Epoch: 19 Loss: 108.0979798634847 MAE: 108.52065388361613\n"
     ]
    }
   ],
   "source": [
    "for i in range(20):\n",
    "    epoch_loss = 0\n",
    "    epoch_mae = 0\n",
    "    j = 0\n",
    "    for batch in train_loader:\n",
    "        catOH = torch.tensor(np.stack(batch[\"Transaction\"][\"categoryOneHot\"].apply(lambda x: clean_onehots(x, 6)).values).astype(np.float32))\n",
    "        collOH = torch.tensor(np.stack(batch[\"Transaction\"][\"collectionOneHot\"].apply(lambda x: clean_onehots(x, 1069)).values).astype(np.float32))\n",
    "        X = torch.tensor(np.concatenate([catOH, collOH], axis=1))\n",
    "        y = torch.tensor(batch[\"Transaction\"][\"usd_price\"].values.astype(np.float32))\n",
    "        out = nn(X).flatten()\n",
    "        loss_val = loss(out, y)\n",
    "        opt.zero_grad()\n",
    "        loss_val.backward()\n",
    "        opt.step()\n",
    "        mae_val = mae(out, y).item()\n",
    "        epoch_loss += loss_val.item()\n",
    "        epoch_mae += mae_val\n",
    "\n",
    "        \n",
    "        writer.add_scalar('training loss',\n",
    "                        loss_val.item(),\n",
    "                        i * train_loader.num_batches + j)\n",
    "        writer.add_scalar('training mae',\n",
    "                          mae_val,\n",
    "                          i * train_loader.num_batches + j)\n",
    "\n",
    "        j += 1\n",
    "    print(\"Epoch:\", i, \"Loss:\", epoch_loss/train_loader.num_batches, \"MAE:\", epoch_mae/train_loader.num_batches)"
   ]
  },
  {
   "cell_type": "code",
   "execution_count": 9,
   "metadata": {},
   "outputs": [
    {
     "name": "stderr",
     "output_type": "stream",
     "text": [
      "WARNING:kafka.coordinator.consumer:group_id is None: disabling auto-commit.\n"
     ]
    }
   ],
   "source": [
    "test_loader = conn.gds.vertexLoader(\n",
    "    attributes={\"Transaction\": [\"usd_price\", \"categoryOneHot\", \"collectionOneHot\"]},\n",
    "    filter_by=\"test\",\n",
    "    batch_size=2048\n",
    ")"
   ]
  },
  {
   "cell_type": "code",
   "execution_count": 10,
   "metadata": {},
   "outputs": [
    {
     "name": "stdout",
     "output_type": "stream",
     "text": [
      "MAE: 100.38905652364095\n"
     ]
    }
   ],
   "source": [
    "mae_sum = 0\n",
    "for batch in test_loader:\n",
    "    catOH = torch.tensor(np.stack(batch[\"Transaction\"][\"categoryOneHot\"].apply(lambda x: clean_onehots(x, 6)).values).astype(np.float32))\n",
    "    collOH = torch.tensor(np.stack(batch[\"Transaction\"][\"collectionOneHot\"].apply(lambda x: clean_onehots(x, 1069)).values).astype(np.float32))\n",
    "    X = torch.tensor(np.concatenate([catOH, collOH], axis=1))\n",
    "    y = torch.tensor(batch[\"Transaction\"][\"usd_price\"].values.astype(np.float32))\n",
    "    with torch.no_grad():\n",
    "        out = nn(X).flatten()\n",
    "        mae_sum += mae(out, y).item()\n",
    "print(\"MAE:\", mae_sum/test_loader.num_batches,)"
   ]
  },
  {
   "cell_type": "markdown",
   "metadata": {
    "jp-MarkdownHeadingCollapsed": true,
    "tags": []
   },
   "source": [
    "## Add Graph Features"
   ]
  },
  {
   "cell_type": "code",
   "execution_count": 11,
   "metadata": {},
   "outputs": [
    {
     "name": "stdout",
     "output_type": "stream",
     "text": [
      "Overwriting ./seller_pagerank.gsql\n"
     ]
    }
   ],
   "source": [
    "%%writefile ./seller_pagerank.gsql\n",
    "\n",
    "CREATE QUERY seller_pagerank(BOOL print_accum = FALSE, STRING result_attr = \"\") {\n",
    "    transactions = {Transaction.*};\n",
    "    SumAccum<DOUBLE> @seller_pr;\n",
    "    MaxAccum<DOUBLE> @@max_seller_pr;\n",
    "\n",
    "\n",
    "    res = SELECT t FROM transactions:t -(NFT_SOLD_BY)-> NFT_User:u \n",
    "          ACCUM\n",
    "            t.@seller_pr += u.pagerank,\n",
    "            @@max_seller_pr += u.pagerank\n",
    "          POST-ACCUM\n",
    "            IF result_attr != \"\" THEN\n",
    "                t.setAttr(result_attr, t.@seller_pr/@@max_seller_pr)\n",
    "            END;\n",
    "    IF print_accum THEN\n",
    "      PRINT res[res.@seller_pr];\n",
    "    END;\n",
    "}"
   ]
  },
  {
   "cell_type": "code",
   "execution_count": 12,
   "metadata": {},
   "outputs": [],
   "source": [
    "featurizer = conn.gds.featurizer()"
   ]
  },
  {
   "cell_type": "code",
   "execution_count": 13,
   "metadata": {},
   "outputs": [
    {
     "data": {
      "text/plain": [
       "'seller_pagerank'"
      ]
     },
     "execution_count": 13,
     "metadata": {},
     "output_type": "execute_result"
    }
   ],
   "source": [
    "featurizer.installAlgorithm(\"seller_pagerank\", query_path=\"./seller_pagerank.gsql\")"
   ]
  },
  {
   "cell_type": "code",
   "execution_count": 14,
   "metadata": {},
   "outputs": [],
   "source": [
    "params = {\"result_attr\": \"seller_pr\"}\n",
    "\n",
    "try:\n",
    "    featurizer.runAlgorithm(\"seller_pagerank\", params, feat_name=\"seller_pr\", feat_type=\"DOUBLE\", custom_query=True, schema_name=[\"Transaction\"])\n",
    "except ConnectionError:\n",
    "    featurizer.runAlgorithm(\"seller_pagerank\", params)"
   ]
  },
  {
   "cell_type": "code",
   "execution_count": 15,
   "metadata": {},
   "outputs": [
    {
     "name": "stdout",
     "output_type": "stream",
     "text": [
      "Overwriting ./buyer_pagerank.gsql\n"
     ]
    }
   ],
   "source": [
    "%%writefile ./buyer_pagerank.gsql\n",
    "\n",
    "CREATE QUERY buyer_pagerank(BOOL print_accum = FALSE, STRING result_attr = \"\") {\n",
    "    transactions = {Transaction.*};\n",
    "    SumAccum<DOUBLE> @buyer_pr;\n",
    "    MaxAccum<DOUBLE> @@max_buyer_pr;\n",
    "\n",
    "\n",
    "    res = SELECT t FROM transactions:t -(NFT_BOUGHT_BY)-> NFT_User:u \n",
    "          ACCUM\n",
    "            t.@buyer_pr += u.pagerank,\n",
    "            @@max_buyer_pr += u.pagerank\n",
    "          POST-ACCUM\n",
    "            IF result_attr != \"\" THEN\n",
    "                t.setAttr(result_attr, t.@buyer_pr/@@max_buyer_pr)\n",
    "            END;\n",
    "    IF print_accum THEN\n",
    "      PRINT res[res.@buyer_pr];\n",
    "    END;\n",
    "}"
   ]
  },
  {
   "cell_type": "code",
   "execution_count": 16,
   "metadata": {},
   "outputs": [
    {
     "data": {
      "text/plain": [
       "'buyer_pagerank'"
      ]
     },
     "execution_count": 16,
     "metadata": {},
     "output_type": "execute_result"
    }
   ],
   "source": [
    "featurizer.installAlgorithm(\"buyer_pagerank\", query_path=\"./buyer_pagerank.gsql\")"
   ]
  },
  {
   "cell_type": "code",
   "execution_count": 17,
   "metadata": {},
   "outputs": [],
   "source": [
    "params = {\"result_attr\": \"buyer_pr\"}\n",
    "\n",
    "try:\n",
    "    featurizer.runAlgorithm(\"buyer_pagerank\", params, feat_name=\"buyer_pr\", feat_type=\"DOUBLE\", custom_query=True, schema_name=[\"Transaction\"])\n",
    "except ConnectionError:\n",
    "    featurizer.runAlgorithm(\"buyer_pagerank\", params)"
   ]
  },
  {
   "cell_type": "code",
   "execution_count": 18,
   "metadata": {},
   "outputs": [
    {
     "name": "stdout",
     "output_type": "stream",
     "text": [
      "Overwriting ./kcore_size.gsql\n"
     ]
    }
   ],
   "source": [
    "%%writefile ./kcore_size.gsql\n",
    "\n",
    "CREATE QUERY kcore_size(BOOL print_accum = FALSE, STRING result_attr = \"\") FOR GRAPH KDD_2022_NFT { \n",
    "  MapAccum<INT, SumAccum<FLOAT>> @@kcore_size;\n",
    "  MaxAccum<FLOAT> @@max_kcore_size;\n",
    "\n",
    "  \n",
    "  nftuser = {NFT_User.*};\n",
    "  \n",
    "  res = SELECT t FROM nftuser:t POST-ACCUM @@kcore_size += (t.k_core -> 1);\n",
    "  \n",
    "  IF print_accum THEN\n",
    "    PRINT @@kcore_size;\n",
    "  END;\n",
    "\n",
    "  FOREACH (key, value) IN @@kcore_size DO\n",
    "    @@max_kcore_size += value;\n",
    "  END;\n",
    "  \n",
    "  IF result_attr != \"\" THEN\n",
    "    res = SELECT t FROM nftuser:t POST-ACCUM t.setAttr(result_attr, @@kcore_size.get(t.k_core)/@@max_kcore_size);\n",
    "  END;\n",
    "}"
   ]
  },
  {
   "cell_type": "code",
   "execution_count": 19,
   "metadata": {},
   "outputs": [
    {
     "data": {
      "text/plain": [
       "'kcore_size'"
      ]
     },
     "execution_count": 19,
     "metadata": {},
     "output_type": "execute_result"
    }
   ],
   "source": [
    "featurizer.installAlgorithm(\"kcore_size\", query_path=\"./kcore_size.gsql\")"
   ]
  },
  {
   "cell_type": "code",
   "execution_count": 20,
   "metadata": {},
   "outputs": [],
   "source": [
    "params = {\"result_attr\": \"kcore_size\"}\n",
    "try:\n",
    "    featurizer.runAlgorithm(\"kcore_size\", params, feat_name=\"kcore_size\", feat_type=\"DOUBLE\", custom_query=True, schema_name=[\"NFT_User\"])\n",
    "except ConnectionError:\n",
    "    featurizer.runAlgorithm(\"kcore_size\", params, custom_query=True)"
   ]
  },
  {
   "cell_type": "code",
   "execution_count": 21,
   "metadata": {},
   "outputs": [
    {
     "name": "stdout",
     "output_type": "stream",
     "text": [
      "Overwriting ./seller_kcore_size.gsql\n"
     ]
    }
   ],
   "source": [
    "%%writefile ./seller_kcore_size.gsql\n",
    "\n",
    "CREATE QUERY seller_kcore_size(BOOL print_accum = FALSE, STRING result_attr = \"\") {\n",
    "    transactions = {Transaction.*};\n",
    "    SumAccum<DOUBLE> @seller_k_size;\n",
    "\n",
    "\n",
    "    res = SELECT t FROM transactions:t -(NFT_SOLD_BY)-> NFT_User:u \n",
    "          ACCUM\n",
    "            t.@seller_k_size += u.kcore_size\n",
    "          POST-ACCUM\n",
    "            IF result_attr != \"\" THEN\n",
    "                t.setAttr(result_attr, t.@seller_k_size)\n",
    "            END;\n",
    "    IF print_accum THEN\n",
    "      PRINT res[res.@seller_k_size];\n",
    "    END;\n",
    "}"
   ]
  },
  {
   "cell_type": "code",
   "execution_count": 22,
   "metadata": {},
   "outputs": [
    {
     "data": {
      "text/plain": [
       "'seller_kcore_size'"
      ]
     },
     "execution_count": 22,
     "metadata": {},
     "output_type": "execute_result"
    }
   ],
   "source": [
    "featurizer.installAlgorithm(\"seller_kcore_size\", query_path=\"./seller_kcore_size.gsql\")"
   ]
  },
  {
   "cell_type": "code",
   "execution_count": 23,
   "metadata": {},
   "outputs": [],
   "source": [
    "params = {\"result_attr\": \"seller_k_size\"}\n",
    "\n",
    "try:\n",
    "    featurizer.runAlgorithm(\"seller_kcore_size\", params, feat_name=\"seller_k_size\", feat_type=\"DOUBLE\", custom_query=True, schema_name=[\"Transaction\"])\n",
    "except ConnectionError:\n",
    "    featurizer.runAlgorithm(\"seller_kcore_size\", params)"
   ]
  },
  {
   "cell_type": "code",
   "execution_count": 24,
   "metadata": {},
   "outputs": [
    {
     "name": "stdout",
     "output_type": "stream",
     "text": [
      "Overwriting ./buyer_kcore_size.gsql\n"
     ]
    }
   ],
   "source": [
    "%%writefile ./buyer_kcore_size.gsql\n",
    "\n",
    "CREATE QUERY buyer_kcore_size(BOOL print_accum = FALSE, STRING result_attr = \"\") {\n",
    "    transactions = {Transaction.*};\n",
    "    SumAccum<DOUBLE> @buyer_k_size;\n",
    "\n",
    "\n",
    "    res = SELECT t FROM transactions:t -(NFT_BOUGHT_BY)-> NFT_User:u \n",
    "          ACCUM\n",
    "            t.@buyer_k_size += u.kcore_size\n",
    "          POST-ACCUM\n",
    "            IF result_attr != \"\" THEN\n",
    "                t.setAttr(result_attr, t.@buyer_k_size)\n",
    "            END;\n",
    "    IF print_accum THEN\n",
    "      PRINT res[res.@buyer_k_size];\n",
    "    END;\n",
    "}"
   ]
  },
  {
   "cell_type": "code",
   "execution_count": 25,
   "metadata": {},
   "outputs": [
    {
     "data": {
      "text/plain": [
       "'buyer_kcore_size'"
      ]
     },
     "execution_count": 25,
     "metadata": {},
     "output_type": "execute_result"
    }
   ],
   "source": [
    "featurizer.installAlgorithm(\"buyer_kcore_size\", query_path=\"./buyer_kcore_size.gsql\")"
   ]
  },
  {
   "cell_type": "code",
   "execution_count": 26,
   "metadata": {},
   "outputs": [],
   "source": [
    "params = {\"result_attr\": \"buyer_k_size\"}\n",
    "\n",
    "try:\n",
    "    featurizer.runAlgorithm(\"buyer_kcore_size\", params, feat_name=\"buyer_k_size\", feat_type=\"DOUBLE\", custom_query=True, schema_name=[\"Transaction\"])\n",
    "except ConnectionError:\n",
    "    featurizer.runAlgorithm(\"buyer_kcore_size\", params)"
   ]
  },
  {
   "cell_type": "code",
   "execution_count": 27,
   "metadata": {},
   "outputs": [],
   "source": [
    "tmp = conn.getSchema(force=True)"
   ]
  },
  {
   "cell_type": "markdown",
   "metadata": {
    "jp-MarkdownHeadingCollapsed": true,
    "tags": []
   },
   "source": [
    "## Train Neural Network with Graph-Based Features"
   ]
  },
  {
   "cell_type": "code",
   "execution_count": 28,
   "metadata": {},
   "outputs": [
    {
     "name": "stderr",
     "output_type": "stream",
     "text": [
      "WARNING:kafka.coordinator.consumer:group_id is None: disabling auto-commit.\n"
     ]
    }
   ],
   "source": [
    "train_loader = conn.gds.vertexLoader(\n",
    "    attributes={\"Transaction\": [\"buyer_k_size\", \"seller_k_size\", \"usd_price\", \"seller_pr\", \"buyer_pr\", \"categoryOneHot\", \"collectionOneHot\"]},\n",
    "    filter_by=\"train\",\n",
    "    batch_size=2048,\n",
    "    shuffle=True\n",
    ")"
   ]
  },
  {
   "cell_type": "code",
   "execution_count": 29,
   "metadata": {},
   "outputs": [],
   "source": [
    "import torch\n",
    "\n",
    "nn = torch.nn.Sequential(\n",
    "    torch.nn.Linear(1079, 1000),\n",
    "    torch.nn.ReLU(),\n",
    "    torch.nn.Linear(1000, 1000),\n",
    "    torch.nn.ReLU(),\n",
    "    torch.nn.Linear(1000, 100),\n",
    "    torch.nn.ReLU(),\n",
    "    torch.nn.Linear(100, 1)\n",
    ")\n",
    "\n",
    "from torch.optim import Adam\n",
    "\n",
    "opt = Adam(nn.parameters(), lr=0.01)\n",
    "loss = torch.nn.SmoothL1Loss()\n",
    "mae = torch.nn.L1Loss()"
   ]
  },
  {
   "cell_type": "code",
   "execution_count": 30,
   "metadata": {},
   "outputs": [],
   "source": [
    "writer = SummaryWriter('runs/graph_feats_training'+str(datetime.now()))"
   ]
  },
  {
   "cell_type": "code",
   "execution_count": 31,
   "metadata": {},
   "outputs": [
    {
     "name": "stdout",
     "output_type": "stream",
     "text": [
      "Epoch: 0 Loss: 121.71501143773396 MAE: 122.13668966293335\n",
      "Epoch: 1 Loss: 115.91950861612956 MAE: 116.33676687876384\n",
      "Epoch: 2 Loss: 113.2590519587199 MAE: 113.67045640945435\n",
      "Epoch: 3 Loss: 111.77474164962769 MAE: 112.18677568435669\n",
      "Epoch: 4 Loss: 111.03146807352702 MAE: 111.44589042663574\n",
      "Epoch: 5 Loss: 110.19159809748332 MAE: 110.6090784072876\n",
      "Epoch: 6 Loss: 108.67591285705566 MAE: 109.09672387440999\n",
      "Epoch: 7 Loss: 108.28981892267863 MAE: 108.69835011164348\n",
      "Epoch: 8 Loss: 108.13271427154541 MAE: 108.55373350779216\n",
      "Epoch: 9 Loss: 108.14895391464233 MAE: 108.56286827723186\n",
      "Epoch: 10 Loss: 109.17181094487508 MAE: 109.59185282389323\n",
      "Epoch: 11 Loss: 107.0132687886556 MAE: 107.42823060353597\n",
      "Epoch: 12 Loss: 106.520276705424 MAE: 106.93150059382121\n",
      "Epoch: 13 Loss: 107.23868544896443 MAE: 107.6545278231303\n",
      "Epoch: 14 Loss: 106.91179418563843 MAE: 107.3196398417155\n",
      "Epoch: 15 Loss: 106.72891823450725 MAE: 107.14272499084473\n",
      "Epoch: 16 Loss: 106.72746594746907 MAE: 107.1395936012268\n",
      "Epoch: 17 Loss: 106.27714761098225 MAE: 106.68742688496907\n",
      "Epoch: 18 Loss: 107.22146924336751 MAE: 107.633447488149\n",
      "Epoch: 19 Loss: 106.04860432942708 MAE: 106.46494086583455\n"
     ]
    }
   ],
   "source": [
    "for i in range(20):\n",
    "    epoch_loss = 0\n",
    "    epoch_mae = 0\n",
    "    j = 0\n",
    "    for batch in train_loader:\n",
    "        catOH = torch.tensor(np.stack(batch[\"Transaction\"][\"categoryOneHot\"].apply(lambda x: clean_onehots(x, 6)).values).astype(np.float32))\n",
    "        collOH = torch.tensor(np.stack(batch[\"Transaction\"][\"collectionOneHot\"].apply(lambda x: clean_onehots(x, 1069)).values).astype(np.float32))\n",
    "        X = torch.tensor(np.concatenate([batch[\"Transaction\"][[\"seller_k_size\", \"buyer_k_size\", \"seller_pr\", \"buyer_pr\"]].values.astype(np.float32), catOH, collOH], axis=1))\n",
    "        y = torch.tensor(batch[\"Transaction\"][\"usd_price\"].values.astype(np.float32))\n",
    "        out = nn(X).flatten()\n",
    "        loss_val = loss(out, y)\n",
    "        opt.zero_grad()\n",
    "        loss_val.backward()\n",
    "        opt.step()\n",
    "        mae_val = mae(out, y).item()\n",
    "        epoch_loss += loss_val.item()\n",
    "        epoch_mae += mae_val\n",
    "        writer.add_scalar('training loss',\n",
    "                        loss_val.item(),\n",
    "                        i * train_loader.num_batches + j)\n",
    "        writer.add_scalar('training mae',\n",
    "                          mae_val,\n",
    "                          i * train_loader.num_batches + j)\n",
    "        j += 1\n",
    "    print(\"Epoch:\", i, \"Loss:\", epoch_loss/train_loader.num_batches, \"MAE:\", epoch_mae/train_loader.num_batches)"
   ]
  },
  {
   "cell_type": "code",
   "execution_count": 32,
   "metadata": {},
   "outputs": [
    {
     "name": "stderr",
     "output_type": "stream",
     "text": [
      "WARNING:kafka.coordinator.consumer:group_id is None: disabling auto-commit.\n"
     ]
    }
   ],
   "source": [
    "test_loader = conn.gds.vertexLoader(\n",
    "    attributes={\"Transaction\": [\"seller_k_size\", \"buyer_k_size\", \"usd_price\", \"seller_pr\", \"buyer_pr\", \"categoryOneHot\", \"collectionOneHot\"]},\n",
    "    filter_by=\"test\",\n",
    "    batch_size=2048\n",
    ")"
   ]
  },
  {
   "cell_type": "code",
   "execution_count": 33,
   "metadata": {},
   "outputs": [
    {
     "name": "stdout",
     "output_type": "stream",
     "text": [
      "MAE: 102.30754852294922\n"
     ]
    }
   ],
   "source": [
    "mae_sum = 0\n",
    "for batch in test_loader:\n",
    "    catOH = torch.tensor(np.stack(batch[\"Transaction\"][\"categoryOneHot\"].apply(lambda x: clean_onehots(x, 6)).values).astype(np.float32))\n",
    "    collOH = torch.tensor(np.stack(batch[\"Transaction\"][\"collectionOneHot\"].apply(lambda x: clean_onehots(x, 1069)).values).astype(np.float32))\n",
    "    X = torch.tensor(np.concatenate([batch[\"Transaction\"][[\"seller_k_size\", \"buyer_k_size\", \"seller_pr\", \"buyer_pr\"]].values.astype(np.float32), catOH, collOH], axis=1))\n",
    "    y = torch.tensor(batch[\"Transaction\"][\"usd_price\"].values.astype(np.float32))\n",
    "    with torch.no_grad():\n",
    "        out = nn(X).flatten()\n",
    "        mae_sum += mae(out, y).item()\n",
    "print(\"MAE:\", mae_sum/test_loader.num_batches)"
   ]
  },
  {
   "cell_type": "markdown",
   "metadata": {
    "jp-MarkdownHeadingCollapsed": true,
    "tags": []
   },
   "source": [
    "## Determine Graph Feature Importance"
   ]
  },
  {
   "cell_type": "code",
   "execution_count": 34,
   "metadata": {},
   "outputs": [
    {
     "name": "stdout",
     "output_type": "stream",
     "text": [
      "Requirement already satisfied: captum in /opt/conda/lib/python3.8/site-packages (0.5.0)\n",
      "Requirement already satisfied: numpy in /opt/conda/lib/python3.8/site-packages (from captum) (1.19.5)\n",
      "Requirement already satisfied: matplotlib in /opt/conda/lib/python3.8/site-packages (from captum) (3.5.2)\n",
      "Requirement already satisfied: torch>=1.6 in /opt/conda/lib/python3.8/site-packages (from captum) (1.11.0)\n",
      "Requirement already satisfied: typing_extensions in /opt/conda/lib/python3.8/site-packages (from torch>=1.6->captum) (4.3.0)\n",
      "Requirement already satisfied: pillow>=6.2.0 in /opt/conda/lib/python3.8/site-packages (from matplotlib->captum) (9.2.0)\n",
      "Requirement already satisfied: kiwisolver>=1.0.1 in /opt/conda/lib/python3.8/site-packages (from matplotlib->captum) (1.4.3)\n",
      "Requirement already satisfied: pyparsing>=2.2.1 in /opt/conda/lib/python3.8/site-packages (from matplotlib->captum) (3.0.9)\n",
      "Requirement already satisfied: cycler>=0.10 in /opt/conda/lib/python3.8/site-packages (from matplotlib->captum) (0.11.0)\n",
      "Requirement already satisfied: packaging>=20.0 in /opt/conda/lib/python3.8/site-packages (from matplotlib->captum) (21.3)\n",
      "Requirement already satisfied: fonttools>=4.22.0 in /opt/conda/lib/python3.8/site-packages (from matplotlib->captum) (4.34.4)\n",
      "Requirement already satisfied: python-dateutil>=2.7 in /opt/conda/lib/python3.8/site-packages (from matplotlib->captum) (2.8.2)\n",
      "Requirement already satisfied: six>=1.5 in /opt/conda/lib/python3.8/site-packages (from python-dateutil>=2.7->matplotlib->captum) (1.16.0)\n"
     ]
    }
   ],
   "source": [
    "!pip install captum"
   ]
  },
  {
   "cell_type": "code",
   "execution_count": 35,
   "metadata": {},
   "outputs": [
    {
     "name": "stderr",
     "output_type": "stream",
     "text": [
      "/opt/conda/lib/python3.8/site-packages/captum/attr/_utils/visualization.py:15: DeprecationWarning: Importing display from IPython.core.display is deprecated since IPython 7.14, please import from IPython display\n",
      "  from IPython.core.display import HTML, display\n"
     ]
    }
   ],
   "source": [
    "from captum.attr import GradientShap\n",
    "\n",
    "gs = GradientShap(nn)"
   ]
  },
  {
   "cell_type": "code",
   "execution_count": 36,
   "metadata": {},
   "outputs": [],
   "source": [
    "train_X = []\n",
    "\n",
    "\n",
    "for train_batch in train_loader:\n",
    "    catOH = torch.tensor(np.stack(train_batch[\"Transaction\"][\"categoryOneHot\"].apply(lambda x: clean_onehots(x, 6)).values).astype(np.float32))\n",
    "    collOH = torch.tensor(np.stack(train_batch[\"Transaction\"][\"collectionOneHot\"].apply(lambda x: clean_onehots(x, 1069)).values).astype(np.float32))\n",
    "    train_x = torch.tensor(np.concatenate([train_batch[\"Transaction\"][[\"seller_k_size\", \"buyer_k_size\", \"seller_pr\", \"buyer_pr\"]].values.astype(np.float32), catOH, collOH], axis=1))\n",
    "    train_X.append(train_x)\n",
    "train_X = torch.concat(train_X)\n",
    "\n",
    "test_X = []\n",
    "for test_batch in test_loader:\n",
    "    catOH = torch.tensor(np.stack(test_batch[\"Transaction\"][\"categoryOneHot\"].apply(lambda x: clean_onehots(x, 6)).values).astype(np.float32))\n",
    "    collOH = torch.tensor(np.stack(test_batch[\"Transaction\"][\"collectionOneHot\"].apply(lambda x: clean_onehots(x, 1069)).values).astype(np.float32))\n",
    "    test_x = torch.tensor(np.concatenate([test_batch[\"Transaction\"][[\"seller_k_size\", \"buyer_k_size\", \"seller_pr\", \"buyer_pr\"]].values.astype(np.float32), catOH, collOH], axis=1))\n",
    "    test_X.append(test_x)\n",
    "test_X = torch.concat(test_X)"
   ]
  },
  {
   "cell_type": "code",
   "execution_count": 37,
   "metadata": {},
   "outputs": [
    {
     "data": {
      "text/plain": [
       "torch.Size([47451, 1079])"
      ]
     },
     "execution_count": 37,
     "metadata": {},
     "output_type": "execute_result"
    }
   ],
   "source": [
    "train_X.shape"
   ]
  },
  {
   "cell_type": "code",
   "execution_count": 38,
   "metadata": {},
   "outputs": [
    {
     "data": {
      "text/plain": [
       "torch.Size([11883, 1079])"
      ]
     },
     "execution_count": 38,
     "metadata": {},
     "output_type": "execute_result"
    }
   ],
   "source": [
    "test_X.shape"
   ]
  },
  {
   "cell_type": "code",
   "execution_count": 39,
   "metadata": {},
   "outputs": [],
   "source": [
    "attribution = gs.attribute(test_X, train_X)"
   ]
  },
  {
   "cell_type": "code",
   "execution_count": 40,
   "metadata": {},
   "outputs": [
    {
     "data": {
      "text/plain": [
       "[Text(0, 0, 'Seller_k_size'),\n",
       " Text(1, 0, 'Buyer_k_size'),\n",
       " Text(2, 0, 'Seller_pr'),\n",
       " Text(3, 0, 'Buyer_pr')]"
      ]
     },
     "execution_count": 40,
     "metadata": {},
     "output_type": "execute_result"
    },
    {
     "data": {
      "image/png": "[encoded data removed]",
      "text/plain": [
       "<Figure size 432x288 with 1 Axes>"
      ]
     },
     "metadata": {
      "needs_background": "light"
     },
     "output_type": "display_data"
    }
   ],
   "source": [
    "ig_nt_attr_test_sum = attribution.detach().numpy().sum(0)\n",
    "ig_nt_attr_test_norm_sum = ig_nt_attr_test_sum / np.linalg.norm(ig_nt_attr_test_sum, ord=1)\n",
    "\n",
    "attributions = pd.DataFrame({\"Feature\": [\"Seller_k_size\", \"Buyer_k_size\", \"Seller_pr\", \"Buyer_pr\"], \"Attribution\": ig_nt_attr_test_norm_sum[:4]})\n",
    "\n",
    "plt = attributions.plot(kind=\"bar\", xlabel=\"Feature\", ylabel=\"Attribution\", title=\"Attribution of Graph Features to NFT Price\")\n",
    "plt.set_xticklabels(attributions.Feature, rotation=45)"
   ]
  }
 ],
 "metadata": {
  "kernelspec": {
   "display_name": "TigerGraph Pytorch",
   "language": "python",
   "name": "python3"
  },
  "language_info": {
   "codemirror_mode": {
    "name": "ipython",
    "version": 3
   },
   "file_extension": ".py",
   "mimetype": "text/x-python",
   "name": "python",
   "nbconvert_exporter": "python",
   "pygments_lexer": "ipython3",
   "version": "3.8.10"
  },
  "vscode": {
   "interpreter": {
    "hash": "58e1c476a485e41cfbe41589baaac1849e255b67efca409760b0ec34d7f4c191"
   }
  }
 },
 "nbformat": 4,
 "nbformat_minor": 4
}
