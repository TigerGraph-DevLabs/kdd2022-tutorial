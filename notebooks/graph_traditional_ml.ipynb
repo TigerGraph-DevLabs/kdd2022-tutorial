{
 "cells": [
  {
   "cell_type": "code",
   "execution_count": 1,
   "metadata": {},
   "outputs": [],
   "source": [
    "import pyTigerGraph as tg\n",
    "import numpy as np\n",
    "import pandas as pd\n",
    "\n",
    "conn = tg.TigerGraphConnection(\"http://3.22.188.182\", graphname=\"KDD_2022_NFT\", username=\"tigergraph\", password=\"tigergraph\")\n",
    "\n",
    "conn.gds.configureKafka(kafka_address=\"kaf.kdd.tigergraphlabs.com:19092\")"
   ]
  },
  {
   "cell_type": "code",
   "execution_count": 2,
   "metadata": {},
   "outputs": [],
   "source": [
    "splitter = conn.gds.vertexSplitter(v_types=[\"Transaction\"], train=0.8, test=0.2)"
   ]
  },
  {
   "cell_type": "code",
   "execution_count": 3,
   "metadata": {},
   "outputs": [
    {
     "name": "stdout",
     "output_type": "stream",
     "text": [
      "Splitting vertices...\n",
      "Vertex split finished successfully.\n"
     ]
    }
   ],
   "source": [
    "splitter.run()"
   ]
  },
  {
   "cell_type": "markdown",
   "metadata": {},
   "source": [
    "## Train on Category and Collection"
   ]
  },
  {
   "cell_type": "code",
   "execution_count": 4,
   "metadata": {},
   "outputs": [],
   "source": [
    "train_loader = conn.gds.vertexLoader(\n",
    "    attributes={\"Transaction\": [\"usd_price\", \"categoryOneHot\", \"collectionOneHot\"]},\n",
    "    filter_by=\"train\",\n",
    "    batch_size=2048,\n",
    "    shuffle=True\n",
    ")"
   ]
  },
  {
   "cell_type": "code",
   "execution_count": 5,
   "metadata": {},
   "outputs": [
    {
     "name": "stderr",
     "output_type": "stream",
     "text": [
      "/opt/conda/lib/python3.8/site-packages/tqdm/auto.py:22: TqdmWarning: IProgress not found. Please update jupyter and ipywidgets. See https://ipywidgets.readthedocs.io/en/stable/user_install.html\n",
      "  from .autonotebook import tqdm as notebook_tqdm\n"
     ]
    }
   ],
   "source": [
    "import torch\n",
    "\n",
    "nn = torch.nn.Sequential(\n",
    "    torch.nn.Linear(1075, 1000),\n",
    "    torch.nn.ReLU(),\n",
    "    torch.nn.Linear(1000, 1000),\n",
    "    torch.nn.ReLU(),\n",
    "    torch.nn.Linear(1000, 100),\n",
    "    torch.nn.ReLU(),\n",
    "    torch.nn.Linear(100, 1)\n",
    ")\n",
    "\n",
    "from torch.optim import Adam\n",
    "\n",
    "opt = Adam(nn.parameters(), lr=0.01)\n",
    "loss = torch.nn.SmoothL1Loss()\n",
    "mae = torch.nn.L1Loss()"
   ]
  },
  {
   "cell_type": "code",
   "execution_count": 6,
   "metadata": {},
   "outputs": [],
   "source": [
    "def r2_loss(output, target):\n",
    "    target_mean = torch.mean(target)\n",
    "    ss_tot = torch.sum((target - target_mean) ** 2)\n",
    "    ss_res = torch.sum((target - output) ** 2)\n",
    "    r2 = 1 - ss_res / ss_tot\n",
    "    return r2"
   ]
  },
  {
   "cell_type": "code",
   "execution_count": 7,
   "metadata": {},
   "outputs": [],
   "source": [
    "import numpy as np\n",
    "def clean_onehots(x, length):\n",
    "    arr = np.fromstring(x, sep=\" \", dtype=np.float32)\n",
    "    if len(arr) > length:\n",
    "        arr = arr[:length]\n",
    "    elif len(arr) < length:\n",
    "        arr = np.zeros(length)\n",
    "    return arr"
   ]
  },
  {
   "cell_type": "code",
   "execution_count": 8,
   "metadata": {},
   "outputs": [
    {
     "name": "stderr",
     "output_type": "stream",
     "text": [
      "/opt/conda/lib/python3.8/site-packages/torch/utils/tensorboard/__init__.py:4: DeprecationWarning: distutils Version classes are deprecated. Use packaging.version instead.\n",
      "  if not hasattr(tensorboard, '__version__') or LooseVersion(tensorboard.__version__) < LooseVersion('1.15'):\n"
     ]
    }
   ],
   "source": [
    "from torch.utils.tensorboard import SummaryWriter\n",
    "from datetime import datetime\n",
    "# default `log_dir` is \"runs\" - we'll be more specific here\n",
    "writer = SummaryWriter('runs/no_graph_feats_training'+str(datetime.now()))"
   ]
  },
  {
   "cell_type": "code",
   "execution_count": 9,
   "metadata": {},
   "outputs": [
    {
     "name": "stdout",
     "output_type": "stream",
     "text": [
      "Epoch: 0 Loss: 120.32298374176025 MAE: 120.74785868326823 R2: -0.0013004342714945476\n",
      "Epoch: 1 Loss: 114.25001621246338 MAE: 114.66420459747314 R2: 0.08266956855853398\n",
      "Epoch: 2 Loss: 111.84416071573894 MAE: 112.2590970993042 R2: 0.10205525904893875\n",
      "Epoch: 3 Loss: 110.17908430099487 MAE: 110.59825547536214 R2: 0.1429478774468104\n",
      "Epoch: 4 Loss: 106.5510729153951 MAE: 106.9690507253011 R2: 0.24351313461860022\n",
      "Epoch: 5 Loss: 105.72125832239787 MAE: 106.13968292872111 R2: 0.0672108456492424\n",
      "Epoch: 6 Loss: 105.33013439178467 MAE: 105.74596468607585 R2: -0.05249826113382975\n",
      "Epoch: 7 Loss: 104.74563773473103 MAE: 105.16321134567261 R2: 0.09138783315817516\n",
      "Epoch: 8 Loss: 104.2586654027303 MAE: 104.68125995000203 R2: 0.22021343310674033\n",
      "Epoch: 9 Loss: 104.96220064163208 MAE: 105.38478994369507 R2: 0.06813962509234746\n",
      "Epoch: 10 Loss: 103.92673794428508 MAE: 104.3408974011739 R2: -0.03646252055962881\n",
      "Epoch: 11 Loss: 104.25726493199666 MAE: 104.67679977416992 R2: 0.18024841944376627\n",
      "Epoch: 12 Loss: 104.64953263600667 MAE: 105.06622076034546 R2: -0.22482337802648544\n",
      "Epoch: 13 Loss: 104.30556694666545 MAE: 104.72585121790569 R2: 0.11266074826320012\n",
      "Epoch: 14 Loss: 105.81661764780681 MAE: 106.23767328262329 R2: -0.0054077332218488055\n",
      "Epoch: 15 Loss: 104.22749996185303 MAE: 104.63851022720337 R2: 0.19548634439706802\n",
      "Epoch: 16 Loss: 104.6582612991333 MAE: 105.07949829101562 R2: 0.12430220594008763\n",
      "Epoch: 17 Loss: 104.41876268386841 MAE: 104.83724753061931 R2: 0.216905415058136\n",
      "Epoch: 18 Loss: 103.40618133544922 MAE: 103.82430775960286 R2: 0.20547129213809967\n",
      "Epoch: 19 Loss: 103.96475664774577 MAE: 104.38307619094849 R2: 0.23629970848560333\n"
     ]
    }
   ],
   "source": [
    "for i in range(20):\n",
    "    epoch_loss = 0\n",
    "    epoch_mae = 0\n",
    "    epoch_r2 = 0\n",
    "    j = 0\n",
    "    for batch in train_loader:\n",
    "        catOH = torch.tensor(np.stack(batch[\"Transaction\"][\"categoryOneHot\"].apply(lambda x: clean_onehots(x, 6)).values).astype(np.float32))\n",
    "        collOH = torch.tensor(np.stack(batch[\"Transaction\"][\"collectionOneHot\"].apply(lambda x: clean_onehots(x, 1069)).values).astype(np.float32))\n",
    "        X = torch.tensor(np.concatenate([catOH, collOH], axis=1))\n",
    "        y = torch.tensor(batch[\"Transaction\"][\"usd_price\"].values.astype(np.float32))\n",
    "        out = nn(X).flatten()\n",
    "        loss_val = loss(out, y)\n",
    "        opt.zero_grad()\n",
    "        loss_val.backward()\n",
    "        opt.step()\n",
    "        mae_val = mae(out, y).item()\n",
    "        r2_val = r2_loss(out, y).item()\n",
    "        epoch_loss += loss_val.item()\n",
    "        epoch_mae += mae_val\n",
    "        epoch_r2 += r2_val\n",
    "        \n",
    "        writer.add_scalar('training loss',\n",
    "                        loss_val.item(),\n",
    "                        i * train_loader.num_batches + j)\n",
    "        writer.add_scalar('training mae',\n",
    "                          mae_val,\n",
    "                          i * train_loader.num_batches + j)\n",
    "        writer.add_scalar('training R2',\n",
    "                          r2_val,\n",
    "                          i * train_loader.num_batches + j)\n",
    "        j += 1\n",
    "    print(\"Epoch:\", i, \"Loss:\", epoch_loss/train_loader.num_batches, \"MAE:\", epoch_mae/train_loader.num_batches, \"R2:\", epoch_r2/train_loader.num_batches)"
   ]
  },
  {
   "cell_type": "code",
   "execution_count": 10,
   "metadata": {},
   "outputs": [
    {
     "name": "stderr",
     "output_type": "stream",
     "text": [
      "WARNING:kafka.coordinator.consumer:group_id is None: disabling auto-commit.\n"
     ]
    }
   ],
   "source": [
    "test_loader = conn.gds.vertexLoader(\n",
    "    attributes={\"Transaction\": [\"usd_price\", \"categoryOneHot\", \"collectionOneHot\"]},\n",
    "    filter_by=\"test\",\n",
    "    batch_size=2048\n",
    ")"
   ]
  },
  {
   "cell_type": "code",
   "execution_count": 11,
   "metadata": {},
   "outputs": [
    {
     "name": "stdout",
     "output_type": "stream",
     "text": [
      "MAE: 122.55917485555013 R2: -0.24367088079452515\n"
     ]
    }
   ],
   "source": [
    "mae_sum = 0\n",
    "r2_sum = 0\n",
    "for batch in test_loader:\n",
    "    catOH = torch.tensor(np.stack(batch[\"Transaction\"][\"categoryOneHot\"].apply(lambda x: clean_onehots(x, 6)).values).astype(np.float32))\n",
    "    collOH = torch.tensor(np.stack(batch[\"Transaction\"][\"collectionOneHot\"].apply(lambda x: clean_onehots(x, 1069)).values).astype(np.float32))\n",
    "    X = torch.tensor(np.concatenate([catOH, collOH], axis=1))\n",
    "    y = torch.tensor(batch[\"Transaction\"][\"usd_price\"].values.astype(np.float32))\n",
    "    with torch.no_grad():\n",
    "        out = nn(X).flatten()\n",
    "        mae_sum += mae(out, y).item()\n",
    "        r2_sum += r2_loss(out, y).item()\n",
    "print(\"MAE:\", mae_sum/test_loader.num_batches, \"R2:\", r2_sum/test_loader.num_batches)"
   ]
  },
  {
   "cell_type": "markdown",
   "metadata": {},
   "source": [
    "## Add Graph Features"
   ]
  },
  {
   "cell_type": "code",
   "execution_count": 12,
   "metadata": {},
   "outputs": [
    {
     "name": "stdout",
     "output_type": "stream",
     "text": [
      "Overwriting ./seller_pagerank.gsql\n"
     ]
    }
   ],
   "source": [
    "%%writefile ./seller_pagerank.gsql\n",
    "\n",
    "CREATE QUERY seller_pagerank(BOOL print_accum = FALSE, STRING result_attr = \"\") {\n",
    "    transactions = {Transaction.*};\n",
    "    SumAccum<DOUBLE> @seller_pr;\n",
    "    MaxAccum<DOUBLE> @@max_seller_pr;\n",
    "\n",
    "\n",
    "    res = SELECT t FROM transactions:t -(NFT_SOLD_BY)-> NFT_User:u \n",
    "          ACCUM\n",
    "            t.@seller_pr += u.pagerank,\n",
    "            @@max_seller_pr += u.pagerank\n",
    "          POST-ACCUM\n",
    "            IF result_attr != \"\" THEN\n",
    "                t.setAttr(result_attr, t.@seller_pr/@@max_seller_pr)\n",
    "            END;\n",
    "    IF print_accum THEN\n",
    "      PRINT res[res.@seller_pr];\n",
    "    END;\n",
    "}"
   ]
  },
  {
   "cell_type": "code",
   "execution_count": 13,
   "metadata": {},
   "outputs": [],
   "source": [
    "featurizer = conn.gds.featurizer()"
   ]
  },
  {
   "cell_type": "code",
   "execution_count": 14,
   "metadata": {},
   "outputs": [
    {
     "data": {
      "text/plain": [
       "'seller_pagerank'"
      ]
     },
     "execution_count": 14,
     "metadata": {},
     "output_type": "execute_result"
    }
   ],
   "source": [
    "featurizer.installAlgorithm(\"seller_pagerank\", query_path=\"./seller_pagerank.gsql\")"
   ]
  },
  {
   "cell_type": "code",
   "execution_count": 15,
   "metadata": {},
   "outputs": [],
   "source": [
    "params = {\"result_attr\": \"seller_pr\"}\n",
    "\n",
    "try:\n",
    "    featurizer.runAlgorithm(\"seller_pagerank\", params, feat_name=\"seller_pr\", feat_type=\"DOUBLE\", custom_query=True, schema_name=[\"Transaction\"])\n",
    "except ConnectionError:\n",
    "    featurizer.runAlgorithm(\"seller_pagerank\", params)"
   ]
  },
  {
   "cell_type": "code",
   "execution_count": 16,
   "metadata": {},
   "outputs": [
    {
     "name": "stdout",
     "output_type": "stream",
     "text": [
      "Overwriting ./buyer_pagerank.gsql\n"
     ]
    }
   ],
   "source": [
    "%%writefile ./buyer_pagerank.gsql\n",
    "\n",
    "CREATE QUERY buyer_pagerank(BOOL print_accum = FALSE, STRING result_attr = \"\") {\n",
    "    transactions = {Transaction.*};\n",
    "    SumAccum<DOUBLE> @buyer_pr;\n",
    "    MaxAccum<DOUBLE> @@max_buyer_pr;\n",
    "\n",
    "\n",
    "    res = SELECT t FROM transactions:t -(NFT_BOUGHT_BY)-> NFT_User:u \n",
    "          ACCUM\n",
    "            t.@buyer_pr += u.pagerank,\n",
    "            @@max_buyer_pr += u.pagerank\n",
    "          POST-ACCUM\n",
    "            IF result_attr != \"\" THEN\n",
    "                t.setAttr(result_attr, t.@buyer_pr/@@max_buyer_pr)\n",
    "            END;\n",
    "    IF print_accum THEN\n",
    "      PRINT res[res.@buyer_pr];\n",
    "    END;\n",
    "}"
   ]
  },
  {
   "cell_type": "code",
   "execution_count": 17,
   "metadata": {},
   "outputs": [
    {
     "data": {
      "text/plain": [
       "'buyer_pagerank'"
      ]
     },
     "execution_count": 17,
     "metadata": {},
     "output_type": "execute_result"
    }
   ],
   "source": [
    "featurizer.installAlgorithm(\"buyer_pagerank\", query_path=\"./buyer_pagerank.gsql\")"
   ]
  },
  {
   "cell_type": "code",
   "execution_count": 18,
   "metadata": {},
   "outputs": [],
   "source": [
    "params = {\"result_attr\": \"buyer_pr\"}\n",
    "\n",
    "try:\n",
    "    featurizer.runAlgorithm(\"buyer_pagerank\", params, feat_name=\"buyer_pr\", feat_type=\"DOUBLE\", custom_query=True, schema_name=[\"Transaction\"])\n",
    "except ConnectionError:\n",
    "    featurizer.runAlgorithm(\"buyer_pagerank\", params)"
   ]
  },
  {
   "cell_type": "code",
   "execution_count": 19,
   "metadata": {},
   "outputs": [
    {
     "name": "stdout",
     "output_type": "stream",
     "text": [
      "Overwriting ./kcore_size.gsql\n"
     ]
    }
   ],
   "source": [
    "%%writefile ./kcore_size.gsql\n",
    "\n",
    "CREATE QUERY kcore_size(BOOL print_accum = FALSE, STRING result_attr = \"\") FOR GRAPH KDD_2022_NFT { \n",
    "  MapAccum<INT, SumAccum<FLOAT>> @@kcore_size;\n",
    "  MaxAccum<FLOAT> @@max_kcore_size;\n",
    "\n",
    "  \n",
    "  nftuser = {NFT_User.*};\n",
    "  \n",
    "  res = SELECT t FROM nftuser:t POST-ACCUM @@kcore_size += (t.k_core -> 1);\n",
    "  \n",
    "  IF print_accum THEN\n",
    "    PRINT @@kcore_size;\n",
    "  END;\n",
    "\n",
    "  FOREACH (key, value) IN @@kcore_size DO\n",
    "    @@max_kcore_size += value;\n",
    "  END;\n",
    "  \n",
    "  IF result_attr != \"\" THEN\n",
    "    res = SELECT t FROM nftuser:t POST-ACCUM t.setAttr(result_attr, @@kcore_size.get(t.k_core)/@@max_kcore_size);\n",
    "  END;\n",
    "}"
   ]
  },
  {
   "cell_type": "code",
   "execution_count": 20,
   "metadata": {},
   "outputs": [
    {
     "data": {
      "text/plain": [
       "'kcore_size'"
      ]
     },
     "execution_count": 20,
     "metadata": {},
     "output_type": "execute_result"
    }
   ],
   "source": [
    "featurizer.installAlgorithm(\"kcore_size\", query_path=\"./kcore_size.gsql\")"
   ]
  },
  {
   "cell_type": "code",
   "execution_count": 21,
   "metadata": {},
   "outputs": [],
   "source": [
    "params = {\"result_attr\": \"kcore_size\"}\n",
    "try:\n",
    "    featurizer.runAlgorithm(\"kcore_size\", params, feat_name=\"kcore_size\", feat_type=\"DOUBLE\", custom_query=True, schema_name=[\"NFT_User\"])\n",
    "except ConnectionError:\n",
    "    featurizer.runAlgorithm(\"kcore_size\", params, custom_query=True)"
   ]
  },
  {
   "cell_type": "code",
   "execution_count": 22,
   "metadata": {},
   "outputs": [
    {
     "name": "stdout",
     "output_type": "stream",
     "text": [
      "Overwriting ./seller_kcore_size.gsql\n"
     ]
    }
   ],
   "source": [
    "%%writefile ./seller_kcore_size.gsql\n",
    "\n",
    "CREATE QUERY seller_kcore_size(BOOL print_accum = FALSE, STRING result_attr = \"\") {\n",
    "    transactions = {Transaction.*};\n",
    "    SumAccum<DOUBLE> @seller_k_size;\n",
    "\n",
    "\n",
    "    res = SELECT t FROM transactions:t -(NFT_SOLD_BY)-> NFT_User:u \n",
    "          ACCUM\n",
    "            t.@seller_k_size += u.kcore_size\n",
    "          POST-ACCUM\n",
    "            IF result_attr != \"\" THEN\n",
    "                t.setAttr(result_attr, t.@seller_k_size)\n",
    "            END;\n",
    "    IF print_accum THEN\n",
    "      PRINT res[res.@seller_k_size];\n",
    "    END;\n",
    "}"
   ]
  },
  {
   "cell_type": "code",
   "execution_count": 23,
   "metadata": {},
   "outputs": [
    {
     "data": {
      "text/plain": [
       "'seller_kcore_size'"
      ]
     },
     "execution_count": 23,
     "metadata": {},
     "output_type": "execute_result"
    }
   ],
   "source": [
    "featurizer.installAlgorithm(\"seller_kcore_size\", query_path=\"./seller_kcore_size.gsql\")"
   ]
  },
  {
   "cell_type": "code",
   "execution_count": 24,
   "metadata": {},
   "outputs": [],
   "source": [
    "params = {\"result_attr\": \"seller_k_size\"}\n",
    "\n",
    "try:\n",
    "    featurizer.runAlgorithm(\"seller_kcore_size\", params, feat_name=\"seller_k_size\", feat_type=\"DOUBLE\", custom_query=True, schema_name=[\"Transaction\"])\n",
    "except ConnectionError:\n",
    "    featurizer.runAlgorithm(\"seller_kcore_size\", params)"
   ]
  },
  {
   "cell_type": "code",
   "execution_count": 25,
   "metadata": {},
   "outputs": [
    {
     "name": "stdout",
     "output_type": "stream",
     "text": [
      "Overwriting ./buyer_kcore_size.gsql\n"
     ]
    }
   ],
   "source": [
    "%%writefile ./buyer_kcore_size.gsql\n",
    "\n",
    "CREATE QUERY buyer_kcore_size(BOOL print_accum = FALSE, STRING result_attr = \"\") {\n",
    "    transactions = {Transaction.*};\n",
    "    SumAccum<DOUBLE> @buyer_k_size;\n",
    "\n",
    "\n",
    "    res = SELECT t FROM transactions:t -(NFT_BOUGHT_BY)-> NFT_User:u \n",
    "          ACCUM\n",
    "            t.@buyer_k_size += u.kcore_size\n",
    "          POST-ACCUM\n",
    "            IF result_attr != \"\" THEN\n",
    "                t.setAttr(result_attr, t.@buyer_k_size)\n",
    "            END;\n",
    "    IF print_accum THEN\n",
    "      PRINT res[res.@buyer_k_size];\n",
    "    END;\n",
    "}"
   ]
  },
  {
   "cell_type": "code",
   "execution_count": 26,
   "metadata": {},
   "outputs": [
    {
     "data": {
      "text/plain": [
       "'buyer_kcore_size'"
      ]
     },
     "execution_count": 26,
     "metadata": {},
     "output_type": "execute_result"
    }
   ],
   "source": [
    "featurizer.installAlgorithm(\"buyer_kcore_size\", query_path=\"./buyer_kcore_size.gsql\")"
   ]
  },
  {
   "cell_type": "code",
   "execution_count": 27,
   "metadata": {},
   "outputs": [],
   "source": [
    "params = {\"result_attr\": \"buyer_k_size\"}\n",
    "\n",
    "try:\n",
    "    featurizer.runAlgorithm(\"buyer_kcore_size\", params, feat_name=\"buyer_k_size\", feat_type=\"DOUBLE\", custom_query=True, schema_name=[\"Transaction\"])\n",
    "except ConnectionError:\n",
    "    featurizer.runAlgorithm(\"buyer_kcore_size\", params)"
   ]
  },
  {
   "cell_type": "code",
   "execution_count": 28,
   "metadata": {},
   "outputs": [],
   "source": [
    "tmp = conn.getSchema(force=True)"
   ]
  },
  {
   "cell_type": "code",
   "execution_count": 29,
   "metadata": {},
   "outputs": [
    {
     "name": "stderr",
     "output_type": "stream",
     "text": [
      "WARNING:kafka.coordinator.consumer:group_id is None: disabling auto-commit.\n"
     ]
    }
   ],
   "source": [
    "train_loader = conn.gds.vertexLoader(\n",
    "    attributes={\"Transaction\": [\"buyer_k_size\", \"seller_k_size\", \"usd_price\", \"seller_pr\", \"buyer_pr\", \"categoryOneHot\", \"collectionOneHot\"]},\n",
    "    filter_by=\"train\",\n",
    "    batch_size=2048,\n",
    "    shuffle=True\n",
    ")"
   ]
  },
  {
   "cell_type": "code",
   "execution_count": 30,
   "metadata": {},
   "outputs": [],
   "source": [
    "import torch\n",
    "\n",
    "nn = torch.nn.Sequential(\n",
    "    torch.nn.Linear(1079, 1000),\n",
    "    torch.nn.ReLU(),\n",
    "    torch.nn.Linear(1000, 1000),\n",
    "    torch.nn.ReLU(),\n",
    "    torch.nn.Linear(1000, 100),\n",
    "    torch.nn.ReLU(),\n",
    "    torch.nn.Linear(100, 1)\n",
    ")\n",
    "\n",
    "from torch.optim import Adam\n",
    "\n",
    "opt = Adam(nn.parameters(), lr=0.01)\n",
    "loss = torch.nn.SmoothL1Loss()\n",
    "mae = torch.nn.L1Loss()"
   ]
  },
  {
   "cell_type": "code",
   "execution_count": 31,
   "metadata": {},
   "outputs": [],
   "source": [
    "writer = SummaryWriter('runs/graph_feats_training'+str(datetime.now()))"
   ]
  },
  {
   "cell_type": "code",
   "execution_count": 32,
   "metadata": {},
   "outputs": [
    {
     "name": "stdout",
     "output_type": "stream",
     "text": [
      "Epoch: 0 Loss: 120.17808214823405 MAE: 120.6037761370341 R2: 0.0029494514067967734\n",
      "Epoch: 1 Loss: 115.00749397277832 MAE: 115.42211453119914 R2: 0.046111720303694405\n",
      "Epoch: 2 Loss: 112.05909633636475 MAE: 112.47952286402385 R2: 0.09785105288028717\n",
      "Epoch: 3 Loss: 109.84701871871948 MAE: 110.26235357920329 R2: 0.14716691772143045\n",
      "Epoch: 4 Loss: 105.68147087097168 MAE: 106.096182346344 R2: 0.2826652203996976\n",
      "Epoch: 5 Loss: 106.62947305043538 MAE: 107.0497743288676 R2: 0.23791121194760004\n",
      "Epoch: 6 Loss: 105.1743992169698 MAE: 105.58675813674927 R2: 0.21462049583594003\n",
      "Epoch: 7 Loss: 104.54393784205119 MAE: 104.95377159118652 R2: 0.09813964863618214\n",
      "Epoch: 8 Loss: 103.97302563985188 MAE: 104.3877838452657 R2: 0.17552023380994797\n",
      "Epoch: 9 Loss: 104.86143223444621 MAE: 105.27289358774821 R2: 0.1290352319677671\n",
      "Epoch: 10 Loss: 103.58221626281738 MAE: 103.99456850687663 R2: 0.17432577659686407\n",
      "Epoch: 11 Loss: 103.46773703893025 MAE: 103.87672313054402 R2: 0.21363391975561777\n",
      "Epoch: 12 Loss: 103.61011489232381 MAE: 104.02198282877605 R2: 0.19885826607545218\n",
      "Epoch: 13 Loss: 102.31050395965576 MAE: 102.71179707845052 R2: 0.21800736586252847\n",
      "Epoch: 14 Loss: 102.58298921585083 MAE: 102.99924770991008 R2: -0.46224039296309155\n",
      "Epoch: 15 Loss: 103.28811963399251 MAE: 103.70474831263225 R2: 0.17129679024219513\n",
      "Epoch: 16 Loss: 101.05981159210205 MAE: 101.46790011723836 R2: 0.29519369701544446\n",
      "Epoch: 17 Loss: 99.78719393412273 MAE: 100.1988205909729 R2: -0.019131275514761608\n",
      "Epoch: 18 Loss: 98.91091267267863 MAE: 99.3250937461853 R2: -0.034146482745806374\n",
      "Epoch: 19 Loss: 101.68311977386475 MAE: 102.09382327397664 R2: 0.02507793406645457\n"
     ]
    }
   ],
   "source": [
    "for i in range(20):\n",
    "    epoch_loss = 0\n",
    "    epoch_mae = 0\n",
    "    epoch_r2 = 0\n",
    "    j = 0\n",
    "    for batch in train_loader:\n",
    "        catOH = torch.tensor(np.stack(batch[\"Transaction\"][\"categoryOneHot\"].apply(lambda x: clean_onehots(x, 6)).values).astype(np.float32))\n",
    "        collOH = torch.tensor(np.stack(batch[\"Transaction\"][\"collectionOneHot\"].apply(lambda x: clean_onehots(x, 1069)).values).astype(np.float32))\n",
    "        X = torch.tensor(np.concatenate([batch[\"Transaction\"][[\"seller_k_size\", \"buyer_k_size\", \"seller_pr\", \"buyer_pr\"]].values.astype(np.float32), catOH, collOH], axis=1))\n",
    "        y = torch.tensor(batch[\"Transaction\"][\"usd_price\"].values.astype(np.float32))\n",
    "        out = nn(X).flatten()\n",
    "        loss_val = loss(out, y)\n",
    "        opt.zero_grad()\n",
    "        loss_val.backward()\n",
    "        opt.step()\n",
    "        mae_val = mae(out, y).item()\n",
    "        r2_val = r2_loss(out, y).item()\n",
    "        epoch_loss += loss_val.item()\n",
    "        epoch_mae += mae_val\n",
    "        epoch_r2 += r2_val\n",
    "        writer.add_scalar('training loss',\n",
    "                        loss_val.item(),\n",
    "                        i * train_loader.num_batches + j)\n",
    "        writer.add_scalar('training mae',\n",
    "                          mae_val,\n",
    "                          i * train_loader.num_batches + j)\n",
    "        writer.add_scalar('training R2',\n",
    "                          r2_val,\n",
    "                          i * train_loader.num_batches + j)\n",
    "        j += 1\n",
    "    print(\"Epoch:\", i, \"Loss:\", epoch_loss/train_loader.num_batches, \"MAE:\", epoch_mae/train_loader.num_batches, \"R2:\", epoch_r2/train_loader.num_batches)"
   ]
  },
  {
   "cell_type": "code",
   "execution_count": 33,
   "metadata": {},
   "outputs": [
    {
     "name": "stderr",
     "output_type": "stream",
     "text": [
      "WARNING:kafka.coordinator.consumer:group_id is None: disabling auto-commit.\n"
     ]
    }
   ],
   "source": [
    "test_loader = conn.gds.vertexLoader(\n",
    "    attributes={\"Transaction\": [\"seller_k_size\", \"buyer_k_size\", \"usd_price\", \"seller_pr\", \"buyer_pr\", \"categoryOneHot\", \"collectionOneHot\"]},\n",
    "    filter_by=\"test\",\n",
    "    batch_size=2048\n",
    ")"
   ]
  },
  {
   "cell_type": "code",
   "execution_count": 34,
   "metadata": {},
   "outputs": [
    {
     "name": "stdout",
     "output_type": "stream",
     "text": [
      "MAE: 122.86658604939778 R2: -0.15406687060991922\n"
     ]
    }
   ],
   "source": [
    "mae_sum = 0\n",
    "r2_sum = 0\n",
    "for batch in test_loader:\n",
    "    catOH = torch.tensor(np.stack(batch[\"Transaction\"][\"categoryOneHot\"].apply(lambda x: clean_onehots(x, 6)).values).astype(np.float32))\n",
    "    collOH = torch.tensor(np.stack(batch[\"Transaction\"][\"collectionOneHot\"].apply(lambda x: clean_onehots(x, 1069)).values).astype(np.float32))\n",
    "    X = torch.tensor(np.concatenate([batch[\"Transaction\"][[\"seller_k_size\", \"buyer_k_size\", \"seller_pr\", \"buyer_pr\"]].values.astype(np.float32), catOH, collOH], axis=1))\n",
    "    y = torch.tensor(batch[\"Transaction\"][\"usd_price\"].values.astype(np.float32))\n",
    "    with torch.no_grad():\n",
    "        out = nn(X).flatten()\n",
    "        mae_sum += mae(out, y).item()\n",
    "        r2_sum += r2_loss(out, y).item()\n",
    "print(\"MAE:\", mae_sum/test_loader.num_batches, \"R2:\", r2_sum/test_loader.num_batches)"
   ]
  },
  {
   "cell_type": "code",
   "execution_count": 35,
   "metadata": {},
   "outputs": [
    {
     "name": "stdout",
     "output_type": "stream",
     "text": [
      "Requirement already satisfied: captum in /opt/conda/lib/python3.8/site-packages (0.5.0)\n",
      "Requirement already satisfied: numpy in /opt/conda/lib/python3.8/site-packages (from captum) (1.19.5)\n",
      "Requirement already satisfied: matplotlib in /opt/conda/lib/python3.8/site-packages (from captum) (3.5.2)\n",
      "Requirement already satisfied: torch>=1.6 in /opt/conda/lib/python3.8/site-packages (from captum) (1.11.0)\n",
      "Requirement already satisfied: typing_extensions in /opt/conda/lib/python3.8/site-packages (from torch>=1.6->captum) (4.3.0)\n",
      "Requirement already satisfied: python-dateutil>=2.7 in /opt/conda/lib/python3.8/site-packages (from matplotlib->captum) (2.8.2)\n",
      "Requirement already satisfied: fonttools>=4.22.0 in /opt/conda/lib/python3.8/site-packages (from matplotlib->captum) (4.34.4)\n",
      "Requirement already satisfied: packaging>=20.0 in /opt/conda/lib/python3.8/site-packages (from matplotlib->captum) (21.3)\n",
      "Requirement already satisfied: cycler>=0.10 in /opt/conda/lib/python3.8/site-packages (from matplotlib->captum) (0.11.0)\n",
      "Requirement already satisfied: pillow>=6.2.0 in /opt/conda/lib/python3.8/site-packages (from matplotlib->captum) (9.2.0)\n",
      "Requirement already satisfied: kiwisolver>=1.0.1 in /opt/conda/lib/python3.8/site-packages (from matplotlib->captum) (1.4.3)\n",
      "Requirement already satisfied: pyparsing>=2.2.1 in /opt/conda/lib/python3.8/site-packages (from matplotlib->captum) (3.0.9)\n",
      "Requirement already satisfied: six>=1.5 in /opt/conda/lib/python3.8/site-packages (from python-dateutil>=2.7->matplotlib->captum) (1.16.0)\n"
     ]
    }
   ],
   "source": [
    "!pip install captum"
   ]
  },
  {
   "cell_type": "code",
   "execution_count": 36,
   "metadata": {},
   "outputs": [
    {
     "name": "stderr",
     "output_type": "stream",
     "text": [
      "/opt/conda/lib/python3.8/site-packages/captum/attr/_utils/visualization.py:15: DeprecationWarning: Importing display from IPython.core.display is deprecated since IPython 7.14, please import from IPython display\n",
      "  from IPython.core.display import HTML, display\n"
     ]
    }
   ],
   "source": [
    "from captum.attr import GradientShap\n",
    "\n",
    "gs = GradientShap(nn)"
   ]
  },
  {
   "cell_type": "code",
   "execution_count": 37,
   "metadata": {},
   "outputs": [],
   "source": [
    "train_X = []\n",
    "\n",
    "\n",
    "for train_batch in train_loader:\n",
    "    catOH = torch.tensor(np.stack(train_batch[\"Transaction\"][\"categoryOneHot\"].apply(lambda x: clean_onehots(x, 6)).values).astype(np.float32))\n",
    "    collOH = torch.tensor(np.stack(train_batch[\"Transaction\"][\"collectionOneHot\"].apply(lambda x: clean_onehots(x, 1069)).values).astype(np.float32))\n",
    "    train_x = torch.tensor(np.concatenate([train_batch[\"Transaction\"][[\"seller_k_size\", \"buyer_k_size\", \"seller_pr\", \"buyer_pr\"]].values.astype(np.float32), catOH, collOH], axis=1))\n",
    "    train_X.append(train_x)\n",
    "train_X = torch.concat(train_X)\n",
    "\n",
    "test_X = []\n",
    "for test_batch in test_loader:\n",
    "    catOH = torch.tensor(np.stack(test_batch[\"Transaction\"][\"categoryOneHot\"].apply(lambda x: clean_onehots(x, 6)).values).astype(np.float32))\n",
    "    collOH = torch.tensor(np.stack(test_batch[\"Transaction\"][\"collectionOneHot\"].apply(lambda x: clean_onehots(x, 1069)).values).astype(np.float32))\n",
    "    test_x = torch.tensor(np.concatenate([test_batch[\"Transaction\"][[\"seller_k_size\", \"buyer_k_size\", \"seller_pr\", \"buyer_pr\"]].values.astype(np.float32), catOH, collOH], axis=1))\n",
    "    test_X.append(test_x)\n",
    "test_X = torch.concat(test_X)"
   ]
  },
  {
   "cell_type": "code",
   "execution_count": 38,
   "metadata": {},
   "outputs": [
    {
     "data": {
      "text/plain": [
       "torch.Size([47443, 1079])"
      ]
     },
     "execution_count": 38,
     "metadata": {},
     "output_type": "execute_result"
    }
   ],
   "source": [
    "train_X.shape"
   ]
  },
  {
   "cell_type": "code",
   "execution_count": 39,
   "metadata": {},
   "outputs": [
    {
     "data": {
      "text/plain": [
       "torch.Size([11891, 1079])"
      ]
     },
     "execution_count": 39,
     "metadata": {},
     "output_type": "execute_result"
    }
   ],
   "source": [
    "test_X.shape"
   ]
  },
  {
   "cell_type": "code",
   "execution_count": 40,
   "metadata": {},
   "outputs": [],
   "source": [
    "attribution = gs.attribute(test_X, train_X)"
   ]
  },
  {
   "cell_type": "code",
   "execution_count": 41,
   "metadata": {},
   "outputs": [
    {
     "data": {
      "text/plain": [
       "[Text(0, 0, 'Seller_k_size'),\n",
       " Text(1, 0, 'Buyer_k_size'),\n",
       " Text(2, 0, 'Seller_pr'),\n",
       " Text(3, 0, 'Buyer_pr')]"
      ]
     },
     "execution_count": 41,
     "metadata": {},
     "output_type": "execute_result"
    },
    {
     "data": {
      "image/png": "[encoded data removed]",
      "text/plain": [
       "<Figure size 432x288 with 1 Axes>"
      ]
     },
     "metadata": {
      "needs_background": "light"
     },
     "output_type": "display_data"
    }
   ],
   "source": [
    "ig_nt_attr_test_sum = attribution.detach().numpy().sum(0)\n",
    "ig_nt_attr_test_norm_sum = ig_nt_attr_test_sum / np.linalg.norm(ig_nt_attr_test_sum, ord=1)\n",
    "\n",
    "attributions = pd.DataFrame({\"Feature\": [\"Seller_k_size\", \"Buyer_k_size\", \"Seller_pr\", \"Buyer_pr\"], \"Attribution\": ig_nt_attr_test_norm_sum[:4]})\n",
    "\n",
    "plt = attributions.plot(kind=\"bar\", xlabel=\"Feature\", ylabel=\"Attribution\", title=\"Attribution of Graph Features to NFT Price\")\n",
    "plt.set_xticklabels(attributions.Feature, rotation=45)"
   ]
  }
 ],
 "metadata": {
  "kernelspec": {
   "display_name": "TigerGraph Pytorch",
   "language": "python",
   "name": "python3"
  },
  "language_info": {
   "codemirror_mode": {
    "name": "ipython",
    "version": 3
   },
   "file_extension": ".py",
   "mimetype": "text/x-python",
   "name": "python",
   "nbconvert_exporter": "python",
   "pygments_lexer": "ipython3",
   "version": "3.8.10"
  },
  "vscode": {
   "interpreter": {
    "hash": "58e1c476a485e41cfbe41589baaac1849e255b67efca409760b0ec34d7f4c191"
   }
  }
 },
 "nbformat": 4,
 "nbformat_minor": 4
}
